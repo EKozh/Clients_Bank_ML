{
 "cells": [
  {
   "cell_type": "markdown",
   "metadata": {
    "toc": true
   },
   "source": [
    "<h1>Содержание<span class=\"tocSkip\"></span></h1>\n",
    "<div class=\"toc\"><ul class=\"toc-item\"><li><span><a href=\"#Подготовка-данных\" data-toc-modified-id=\"Подготовка-данных-1\"><span class=\"toc-item-num\">1&nbsp;&nbsp;</span>Подготовка данных</a></span></li><li><span><a href=\"#Исследование-задачи\" data-toc-modified-id=\"Исследование-задачи-2\"><span class=\"toc-item-num\">2&nbsp;&nbsp;</span>Исследование задачи</a></span></li><li><span><a href=\"#Борьба-с-дисбалансом\" data-toc-modified-id=\"Борьба-с-дисбалансом-3\"><span class=\"toc-item-num\">3&nbsp;&nbsp;</span>Борьба с дисбалансом</a></span><ul class=\"toc-item\"><li><span><a href=\"#Модели--без-учета-дисбаланса\" data-toc-modified-id=\"Модели--без-учета-дисбаланса-3.1\"><span class=\"toc-item-num\">3.1&nbsp;&nbsp;</span>Модели  без учета дисбаланса</a></span></li><li><span><a href=\"#Модели-с-учетом-балансировки-классов\" data-toc-modified-id=\"Модели-с-учетом-балансировки-классов-3.2\"><span class=\"toc-item-num\">3.2&nbsp;&nbsp;</span>Модели с учетом балансировки классов</a></span></li><li><span><a href=\"#Модели-с-учетом-метода-Upsampling\" data-toc-modified-id=\"Модели-с-учетом-метода-Upsampling-3.3\"><span class=\"toc-item-num\">3.3&nbsp;&nbsp;</span>Модели с учетом метода Upsampling</a></span></li><li><span><a href=\"#Модели-с-учетом-метода-Downsampling\" data-toc-modified-id=\"Модели-с-учетом-метода-Downsampling-3.4\"><span class=\"toc-item-num\">3.4&nbsp;&nbsp;</span>Модели с учетом метода Downsampling</a></span></li></ul></li><li><span><a href=\"#Тестирование-модели\" data-toc-modified-id=\"Тестирование-модели-4\"><span class=\"toc-item-num\">4&nbsp;&nbsp;</span>Тестирование модели</a></span></li><li><span><a href=\"#Вывод\" data-toc-modified-id=\"Вывод-5\"><span class=\"toc-item-num\">5&nbsp;&nbsp;</span>Вывод</a></span></li><li><span><a href=\"#Чек-лист-готовности-проекта\" data-toc-modified-id=\"Чек-лист-готовности-проекта-6\"><span class=\"toc-item-num\">6&nbsp;&nbsp;</span>Чек-лист готовности проекта</a></span></li></ul></div>"
   ]
  },
  {
   "cell_type": "markdown",
   "metadata": {},
   "source": [
    "# Отток клиентов"
   ]
  },
  {
   "cell_type": "markdown",
   "metadata": {},
   "source": [
    "Из банка стали уходить клиенты. Каждый месяц. Немного, но заметно. Банковские маркетологи посчитали: сохранять текущих клиентов дешевле, чем привлекать новых.\n",
    "\n",
    "Нужно спрогнозировать, уйдёт клиент из банка в ближайшее время или нет. Вам предоставлены исторические данные о поведении клиентов и расторжении договоров с банком. \n",
    "\n",
    "\n",
    "Источник данных: [https://www.kaggle.com/barelydedicated/bank-customer-churn-modeling](https://www.kaggle.com/barelydedicated/bank-customer-churn-modeling)"
   ]
  },
  {
   "cell_type": "markdown",
   "metadata": {},
   "source": [
    "## Подготовка данных"
   ]
  },
  {
   "cell_type": "code",
   "execution_count": 153,
   "metadata": {},
   "outputs": [
    {
     "name": "stdout",
     "output_type": "stream",
     "text": [
      "Requirement already satisfied: scikit-learn==1.1.3 in /opt/conda/lib/python3.9/site-packages (1.1.3)\n",
      "Requirement already satisfied: numpy>=1.17.3 in /opt/conda/lib/python3.9/site-packages (from scikit-learn==1.1.3) (1.21.1)\n",
      "Requirement already satisfied: threadpoolctl>=2.0.0 in /opt/conda/lib/python3.9/site-packages (from scikit-learn==1.1.3) (3.1.0)\n",
      "Requirement already satisfied: scipy>=1.3.2 in /opt/conda/lib/python3.9/site-packages (from scikit-learn==1.1.3) (1.9.1)\n",
      "Requirement already satisfied: joblib>=1.0.0 in /opt/conda/lib/python3.9/site-packages (from scikit-learn==1.1.3) (1.1.0)\n"
     ]
    }
   ],
   "source": [
    "!pip install scikit-learn==1.1.3"
   ]
  },
  {
   "cell_type": "code",
   "execution_count": 154,
   "metadata": {},
   "outputs": [],
   "source": [
    "import pandas as pd\n",
    "import matplotlib.pyplot as plt\n",
    "from sklearn.metrics import (\n",
    "    f1_score, \n",
    "    recall_score, \n",
    "    precision_score, \n",
    "    auc, \n",
    "    roc_curve, \n",
    "    roc_auc_score, \n",
    "    accuracy_score, \n",
    "    confusion_matrix\n",
    ")\n",
    "from sklearn.preprocessing import OrdinalEncoder, StandardScaler\n",
    "from sklearn.linear_model import LogisticRegression\n",
    "from sklearn.ensemble import RandomForestClassifier\n",
    "from sklearn.tree import DecisionTreeClassifier\n",
    "from sklearn.model_selection import train_test_split\n",
    "from tqdm import tqdm\n",
    "from sklearn.utils import shuffle\n",
    "from sklearn.preprocessing import (\n",
    "    StandardScaler, \n",
    "    OneHotEncoder\n",
    ")\n",
    "from sklearn.model_selection import GridSearchCV\n",
    "\n",
    "\n",
    "import warnings\n",
    "warnings.filterwarnings(\"ignore\")"
   ]
  },
  {
   "cell_type": "code",
   "execution_count": 155,
   "metadata": {},
   "outputs": [],
   "source": [
    "data = pd.read_csv('/datasets/Churn.csv')"
   ]
  },
  {
   "cell_type": "code",
   "execution_count": 156,
   "metadata": {},
   "outputs": [
    {
     "data": {
      "text/html": [
       "<div>\n",
       "<style scoped>\n",
       "    .dataframe tbody tr th:only-of-type {\n",
       "        vertical-align: middle;\n",
       "    }\n",
       "\n",
       "    .dataframe tbody tr th {\n",
       "        vertical-align: top;\n",
       "    }\n",
       "\n",
       "    .dataframe thead th {\n",
       "        text-align: right;\n",
       "    }\n",
       "</style>\n",
       "<table border=\"1\" class=\"dataframe\">\n",
       "  <thead>\n",
       "    <tr style=\"text-align: right;\">\n",
       "      <th></th>\n",
       "      <th>RowNumber</th>\n",
       "      <th>CustomerId</th>\n",
       "      <th>Surname</th>\n",
       "      <th>CreditScore</th>\n",
       "      <th>Geography</th>\n",
       "      <th>Gender</th>\n",
       "      <th>Age</th>\n",
       "      <th>Tenure</th>\n",
       "      <th>Balance</th>\n",
       "      <th>NumOfProducts</th>\n",
       "      <th>HasCrCard</th>\n",
       "      <th>IsActiveMember</th>\n",
       "      <th>EstimatedSalary</th>\n",
       "      <th>Exited</th>\n",
       "    </tr>\n",
       "  </thead>\n",
       "  <tbody>\n",
       "    <tr>\n",
       "      <th>0</th>\n",
       "      <td>1</td>\n",
       "      <td>15634602</td>\n",
       "      <td>Hargrave</td>\n",
       "      <td>619</td>\n",
       "      <td>France</td>\n",
       "      <td>Female</td>\n",
       "      <td>42</td>\n",
       "      <td>2.0</td>\n",
       "      <td>0.00</td>\n",
       "      <td>1</td>\n",
       "      <td>1</td>\n",
       "      <td>1</td>\n",
       "      <td>101348.88</td>\n",
       "      <td>1</td>\n",
       "    </tr>\n",
       "    <tr>\n",
       "      <th>1</th>\n",
       "      <td>2</td>\n",
       "      <td>15647311</td>\n",
       "      <td>Hill</td>\n",
       "      <td>608</td>\n",
       "      <td>Spain</td>\n",
       "      <td>Female</td>\n",
       "      <td>41</td>\n",
       "      <td>1.0</td>\n",
       "      <td>83807.86</td>\n",
       "      <td>1</td>\n",
       "      <td>0</td>\n",
       "      <td>1</td>\n",
       "      <td>112542.58</td>\n",
       "      <td>0</td>\n",
       "    </tr>\n",
       "    <tr>\n",
       "      <th>2</th>\n",
       "      <td>3</td>\n",
       "      <td>15619304</td>\n",
       "      <td>Onio</td>\n",
       "      <td>502</td>\n",
       "      <td>France</td>\n",
       "      <td>Female</td>\n",
       "      <td>42</td>\n",
       "      <td>8.0</td>\n",
       "      <td>159660.80</td>\n",
       "      <td>3</td>\n",
       "      <td>1</td>\n",
       "      <td>0</td>\n",
       "      <td>113931.57</td>\n",
       "      <td>1</td>\n",
       "    </tr>\n",
       "    <tr>\n",
       "      <th>3</th>\n",
       "      <td>4</td>\n",
       "      <td>15701354</td>\n",
       "      <td>Boni</td>\n",
       "      <td>699</td>\n",
       "      <td>France</td>\n",
       "      <td>Female</td>\n",
       "      <td>39</td>\n",
       "      <td>1.0</td>\n",
       "      <td>0.00</td>\n",
       "      <td>2</td>\n",
       "      <td>0</td>\n",
       "      <td>0</td>\n",
       "      <td>93826.63</td>\n",
       "      <td>0</td>\n",
       "    </tr>\n",
       "    <tr>\n",
       "      <th>4</th>\n",
       "      <td>5</td>\n",
       "      <td>15737888</td>\n",
       "      <td>Mitchell</td>\n",
       "      <td>850</td>\n",
       "      <td>Spain</td>\n",
       "      <td>Female</td>\n",
       "      <td>43</td>\n",
       "      <td>2.0</td>\n",
       "      <td>125510.82</td>\n",
       "      <td>1</td>\n",
       "      <td>1</td>\n",
       "      <td>1</td>\n",
       "      <td>79084.10</td>\n",
       "      <td>0</td>\n",
       "    </tr>\n",
       "  </tbody>\n",
       "</table>\n",
       "</div>"
      ],
      "text/plain": [
       "   RowNumber  CustomerId   Surname  CreditScore Geography  Gender  Age  \\\n",
       "0          1    15634602  Hargrave          619    France  Female   42   \n",
       "1          2    15647311      Hill          608     Spain  Female   41   \n",
       "2          3    15619304      Onio          502    France  Female   42   \n",
       "3          4    15701354      Boni          699    France  Female   39   \n",
       "4          5    15737888  Mitchell          850     Spain  Female   43   \n",
       "\n",
       "   Tenure    Balance  NumOfProducts  HasCrCard  IsActiveMember  \\\n",
       "0     2.0       0.00              1          1               1   \n",
       "1     1.0   83807.86              1          0               1   \n",
       "2     8.0  159660.80              3          1               0   \n",
       "3     1.0       0.00              2          0               0   \n",
       "4     2.0  125510.82              1          1               1   \n",
       "\n",
       "   EstimatedSalary  Exited  \n",
       "0        101348.88       1  \n",
       "1        112542.58       0  \n",
       "2        113931.57       1  \n",
       "3         93826.63       0  \n",
       "4         79084.10       0  "
      ]
     },
     "execution_count": 156,
     "metadata": {},
     "output_type": "execute_result"
    }
   ],
   "source": [
    "data.head()"
   ]
  },
  {
   "cell_type": "code",
   "execution_count": 157,
   "metadata": {},
   "outputs": [
    {
     "name": "stdout",
     "output_type": "stream",
     "text": [
      "<class 'pandas.core.frame.DataFrame'>\n",
      "RangeIndex: 10000 entries, 0 to 9999\n",
      "Data columns (total 14 columns):\n",
      " #   Column           Non-Null Count  Dtype  \n",
      "---  ------           --------------  -----  \n",
      " 0   RowNumber        10000 non-null  int64  \n",
      " 1   CustomerId       10000 non-null  int64  \n",
      " 2   Surname          10000 non-null  object \n",
      " 3   CreditScore      10000 non-null  int64  \n",
      " 4   Geography        10000 non-null  object \n",
      " 5   Gender           10000 non-null  object \n",
      " 6   Age              10000 non-null  int64  \n",
      " 7   Tenure           9091 non-null   float64\n",
      " 8   Balance          10000 non-null  float64\n",
      " 9   NumOfProducts    10000 non-null  int64  \n",
      " 10  HasCrCard        10000 non-null  int64  \n",
      " 11  IsActiveMember   10000 non-null  int64  \n",
      " 12  EstimatedSalary  10000 non-null  float64\n",
      " 13  Exited           10000 non-null  int64  \n",
      "dtypes: float64(3), int64(8), object(3)\n",
      "memory usage: 1.1+ MB\n"
     ]
    }
   ],
   "source": [
    "data.info()"
   ]
  },
  {
   "cell_type": "code",
   "execution_count": 160,
   "metadata": {},
   "outputs": [
    {
     "data": {
      "text/html": [
       "<div>\n",
       "<style scoped>\n",
       "    .dataframe tbody tr th:only-of-type {\n",
       "        vertical-align: middle;\n",
       "    }\n",
       "\n",
       "    .dataframe tbody tr th {\n",
       "        vertical-align: top;\n",
       "    }\n",
       "\n",
       "    .dataframe thead th {\n",
       "        text-align: right;\n",
       "    }\n",
       "</style>\n",
       "<table border=\"1\" class=\"dataframe\">\n",
       "  <thead>\n",
       "    <tr style=\"text-align: right;\">\n",
       "      <th></th>\n",
       "      <th>RowNumber</th>\n",
       "      <th>CustomerId</th>\n",
       "      <th>Surname</th>\n",
       "      <th>CreditScore</th>\n",
       "      <th>Geography</th>\n",
       "      <th>Gender</th>\n",
       "      <th>Age</th>\n",
       "      <th>Tenure</th>\n",
       "      <th>Balance</th>\n",
       "      <th>NumOfProducts</th>\n",
       "      <th>HasCrCard</th>\n",
       "      <th>IsActiveMember</th>\n",
       "      <th>EstimatedSalary</th>\n",
       "      <th>Exited</th>\n",
       "    </tr>\n",
       "  </thead>\n",
       "  <tbody>\n",
       "    <tr>\n",
       "      <th>count</th>\n",
       "      <td>10000.00000</td>\n",
       "      <td>1.000000e+04</td>\n",
       "      <td>10000</td>\n",
       "      <td>10000.000000</td>\n",
       "      <td>10000</td>\n",
       "      <td>10000</td>\n",
       "      <td>10000.000000</td>\n",
       "      <td>9091.000000</td>\n",
       "      <td>10000.000000</td>\n",
       "      <td>10000.000000</td>\n",
       "      <td>10000.00000</td>\n",
       "      <td>10000.000000</td>\n",
       "      <td>10000.000000</td>\n",
       "      <td>10000.000000</td>\n",
       "    </tr>\n",
       "    <tr>\n",
       "      <th>unique</th>\n",
       "      <td>NaN</td>\n",
       "      <td>NaN</td>\n",
       "      <td>2932</td>\n",
       "      <td>NaN</td>\n",
       "      <td>3</td>\n",
       "      <td>2</td>\n",
       "      <td>NaN</td>\n",
       "      <td>NaN</td>\n",
       "      <td>NaN</td>\n",
       "      <td>NaN</td>\n",
       "      <td>NaN</td>\n",
       "      <td>NaN</td>\n",
       "      <td>NaN</td>\n",
       "      <td>NaN</td>\n",
       "    </tr>\n",
       "    <tr>\n",
       "      <th>top</th>\n",
       "      <td>NaN</td>\n",
       "      <td>NaN</td>\n",
       "      <td>Smith</td>\n",
       "      <td>NaN</td>\n",
       "      <td>France</td>\n",
       "      <td>Male</td>\n",
       "      <td>NaN</td>\n",
       "      <td>NaN</td>\n",
       "      <td>NaN</td>\n",
       "      <td>NaN</td>\n",
       "      <td>NaN</td>\n",
       "      <td>NaN</td>\n",
       "      <td>NaN</td>\n",
       "      <td>NaN</td>\n",
       "    </tr>\n",
       "    <tr>\n",
       "      <th>freq</th>\n",
       "      <td>NaN</td>\n",
       "      <td>NaN</td>\n",
       "      <td>32</td>\n",
       "      <td>NaN</td>\n",
       "      <td>5014</td>\n",
       "      <td>5457</td>\n",
       "      <td>NaN</td>\n",
       "      <td>NaN</td>\n",
       "      <td>NaN</td>\n",
       "      <td>NaN</td>\n",
       "      <td>NaN</td>\n",
       "      <td>NaN</td>\n",
       "      <td>NaN</td>\n",
       "      <td>NaN</td>\n",
       "    </tr>\n",
       "    <tr>\n",
       "      <th>mean</th>\n",
       "      <td>5000.50000</td>\n",
       "      <td>1.569094e+07</td>\n",
       "      <td>NaN</td>\n",
       "      <td>650.528800</td>\n",
       "      <td>NaN</td>\n",
       "      <td>NaN</td>\n",
       "      <td>38.921800</td>\n",
       "      <td>4.997690</td>\n",
       "      <td>76485.889288</td>\n",
       "      <td>1.530200</td>\n",
       "      <td>0.70550</td>\n",
       "      <td>0.515100</td>\n",
       "      <td>100090.239881</td>\n",
       "      <td>0.203700</td>\n",
       "    </tr>\n",
       "    <tr>\n",
       "      <th>std</th>\n",
       "      <td>2886.89568</td>\n",
       "      <td>7.193619e+04</td>\n",
       "      <td>NaN</td>\n",
       "      <td>96.653299</td>\n",
       "      <td>NaN</td>\n",
       "      <td>NaN</td>\n",
       "      <td>10.487806</td>\n",
       "      <td>2.894723</td>\n",
       "      <td>62397.405202</td>\n",
       "      <td>0.581654</td>\n",
       "      <td>0.45584</td>\n",
       "      <td>0.499797</td>\n",
       "      <td>57510.492818</td>\n",
       "      <td>0.402769</td>\n",
       "    </tr>\n",
       "    <tr>\n",
       "      <th>min</th>\n",
       "      <td>1.00000</td>\n",
       "      <td>1.556570e+07</td>\n",
       "      <td>NaN</td>\n",
       "      <td>350.000000</td>\n",
       "      <td>NaN</td>\n",
       "      <td>NaN</td>\n",
       "      <td>18.000000</td>\n",
       "      <td>0.000000</td>\n",
       "      <td>0.000000</td>\n",
       "      <td>1.000000</td>\n",
       "      <td>0.00000</td>\n",
       "      <td>0.000000</td>\n",
       "      <td>11.580000</td>\n",
       "      <td>0.000000</td>\n",
       "    </tr>\n",
       "    <tr>\n",
       "      <th>25%</th>\n",
       "      <td>2500.75000</td>\n",
       "      <td>1.562853e+07</td>\n",
       "      <td>NaN</td>\n",
       "      <td>584.000000</td>\n",
       "      <td>NaN</td>\n",
       "      <td>NaN</td>\n",
       "      <td>32.000000</td>\n",
       "      <td>2.000000</td>\n",
       "      <td>0.000000</td>\n",
       "      <td>1.000000</td>\n",
       "      <td>0.00000</td>\n",
       "      <td>0.000000</td>\n",
       "      <td>51002.110000</td>\n",
       "      <td>0.000000</td>\n",
       "    </tr>\n",
       "    <tr>\n",
       "      <th>50%</th>\n",
       "      <td>5000.50000</td>\n",
       "      <td>1.569074e+07</td>\n",
       "      <td>NaN</td>\n",
       "      <td>652.000000</td>\n",
       "      <td>NaN</td>\n",
       "      <td>NaN</td>\n",
       "      <td>37.000000</td>\n",
       "      <td>5.000000</td>\n",
       "      <td>97198.540000</td>\n",
       "      <td>1.000000</td>\n",
       "      <td>1.00000</td>\n",
       "      <td>1.000000</td>\n",
       "      <td>100193.915000</td>\n",
       "      <td>0.000000</td>\n",
       "    </tr>\n",
       "    <tr>\n",
       "      <th>75%</th>\n",
       "      <td>7500.25000</td>\n",
       "      <td>1.575323e+07</td>\n",
       "      <td>NaN</td>\n",
       "      <td>718.000000</td>\n",
       "      <td>NaN</td>\n",
       "      <td>NaN</td>\n",
       "      <td>44.000000</td>\n",
       "      <td>7.000000</td>\n",
       "      <td>127644.240000</td>\n",
       "      <td>2.000000</td>\n",
       "      <td>1.00000</td>\n",
       "      <td>1.000000</td>\n",
       "      <td>149388.247500</td>\n",
       "      <td>0.000000</td>\n",
       "    </tr>\n",
       "    <tr>\n",
       "      <th>max</th>\n",
       "      <td>10000.00000</td>\n",
       "      <td>1.581569e+07</td>\n",
       "      <td>NaN</td>\n",
       "      <td>850.000000</td>\n",
       "      <td>NaN</td>\n",
       "      <td>NaN</td>\n",
       "      <td>92.000000</td>\n",
       "      <td>10.000000</td>\n",
       "      <td>250898.090000</td>\n",
       "      <td>4.000000</td>\n",
       "      <td>1.00000</td>\n",
       "      <td>1.000000</td>\n",
       "      <td>199992.480000</td>\n",
       "      <td>1.000000</td>\n",
       "    </tr>\n",
       "  </tbody>\n",
       "</table>\n",
       "</div>"
      ],
      "text/plain": [
       "          RowNumber    CustomerId Surname   CreditScore Geography Gender  \\\n",
       "count   10000.00000  1.000000e+04   10000  10000.000000     10000  10000   \n",
       "unique          NaN           NaN    2932           NaN         3      2   \n",
       "top             NaN           NaN   Smith           NaN    France   Male   \n",
       "freq            NaN           NaN      32           NaN      5014   5457   \n",
       "mean     5000.50000  1.569094e+07     NaN    650.528800       NaN    NaN   \n",
       "std      2886.89568  7.193619e+04     NaN     96.653299       NaN    NaN   \n",
       "min         1.00000  1.556570e+07     NaN    350.000000       NaN    NaN   \n",
       "25%      2500.75000  1.562853e+07     NaN    584.000000       NaN    NaN   \n",
       "50%      5000.50000  1.569074e+07     NaN    652.000000       NaN    NaN   \n",
       "75%      7500.25000  1.575323e+07     NaN    718.000000       NaN    NaN   \n",
       "max     10000.00000  1.581569e+07     NaN    850.000000       NaN    NaN   \n",
       "\n",
       "                 Age       Tenure        Balance  NumOfProducts    HasCrCard  \\\n",
       "count   10000.000000  9091.000000   10000.000000   10000.000000  10000.00000   \n",
       "unique           NaN          NaN            NaN            NaN          NaN   \n",
       "top              NaN          NaN            NaN            NaN          NaN   \n",
       "freq             NaN          NaN            NaN            NaN          NaN   \n",
       "mean       38.921800     4.997690   76485.889288       1.530200      0.70550   \n",
       "std        10.487806     2.894723   62397.405202       0.581654      0.45584   \n",
       "min        18.000000     0.000000       0.000000       1.000000      0.00000   \n",
       "25%        32.000000     2.000000       0.000000       1.000000      0.00000   \n",
       "50%        37.000000     5.000000   97198.540000       1.000000      1.00000   \n",
       "75%        44.000000     7.000000  127644.240000       2.000000      1.00000   \n",
       "max        92.000000    10.000000  250898.090000       4.000000      1.00000   \n",
       "\n",
       "        IsActiveMember  EstimatedSalary        Exited  \n",
       "count     10000.000000     10000.000000  10000.000000  \n",
       "unique             NaN              NaN           NaN  \n",
       "top                NaN              NaN           NaN  \n",
       "freq               NaN              NaN           NaN  \n",
       "mean          0.515100    100090.239881      0.203700  \n",
       "std           0.499797     57510.492818      0.402769  \n",
       "min           0.000000        11.580000      0.000000  \n",
       "25%           0.000000     51002.110000      0.000000  \n",
       "50%           1.000000    100193.915000      0.000000  \n",
       "75%           1.000000    149388.247500      0.000000  \n",
       "max           1.000000    199992.480000      1.000000  "
      ]
     },
     "execution_count": 160,
     "metadata": {},
     "output_type": "execute_result"
    }
   ],
   "source": [
    "data.describe(include='all')"
   ]
  },
  {
   "cell_type": "code",
   "execution_count": 161,
   "metadata": {},
   "outputs": [
    {
     "data": {
      "image/png": "[encoded data removed]",
      "text/plain": [
       "<Figure size 1800x1800 with 12 Axes>"
      ]
     },
     "metadata": {
      "needs_background": "light"
     },
     "output_type": "display_data"
    }
   ],
   "source": [
    "data.hist(figsize=(25, 25));"
   ]
  },
  {
   "cell_type": "markdown",
   "metadata": {},
   "source": [
    "Исходный датафрейм имеет 10 000 строк и 14 столбцов.\n",
    "\n",
    "Признаки:\n",
    "- RowNumber — индекс строки в данных\n",
    "- CustomerId — уникальный идентификатор клиента\n",
    "- Surname — фамилия\n",
    "- CreditScore — кредитный рейтинг\n",
    "- Geography — страна проживания\n",
    "- Gender — пол\n",
    "- Age — возраст\n",
    "- Tenure — сколько лет человек является клиентом банка\n",
    "- Balance — баланс на счёте\n",
    "- NumOfProducts — количество продуктов банка, используемых клиентом\n",
    "- HasCrCard — наличие кредитной карты\n",
    "- IsActiveMember — активность клиента\n",
    "- EstimatedSalary — предполагаемая зарплата\n",
    "\n",
    "Целевой признак:\n",
    "- Exited — факт ухода клиента\n",
    "\n",
    "\n",
    "По графикам явных выбросов не наблюдается. Необходимо названия столбцов привести к стандартному виду, проверить исходный датафрейм на наличие дубликатов, заменить пропущенные значения и приведем к нужному типу данных столбцы, проверить столбец \"Предполагаемая зарплата, т.к. мин зарплата равна 11 долл. или евро и удалить лишние, которые не несут ценности для машинного обучения."
   ]
  },
  {
   "cell_type": "code",
   "execution_count": 162,
   "metadata": {},
   "outputs": [],
   "source": [
    "# приведем к стандартному виду названия столбцов\n",
    "data = data.rename(columns={'RowNumber':'row_number', 'CustomerId':'customer_id', 'CreditScore':'credit_score',\n",
    "       'NumOfProducts':'num_of_products', 'HasCrCard':'has_cr_card',\n",
    "       'IsActiveMember':'is_active_member', 'EstimatedSalary':'estimated_salary'})"
   ]
  },
  {
   "cell_type": "code",
   "execution_count": 163,
   "metadata": {},
   "outputs": [],
   "source": [
    "# переведем названия в нижний регистр\n",
    "data.columns = data.columns.str.lower()"
   ]
  },
  {
   "cell_type": "code",
   "execution_count": 164,
   "metadata": {},
   "outputs": [
    {
     "data": {
      "text/plain": [
       "Index(['row_number', 'customer_id', 'surname', 'credit_score', 'geography',\n",
       "       'gender', 'age', 'tenure', 'balance', 'num_of_products', 'has_cr_card',\n",
       "       'is_active_member', 'estimated_salary', 'exited'],\n",
       "      dtype='object')"
      ]
     },
     "execution_count": 164,
     "metadata": {},
     "output_type": "execute_result"
    }
   ],
   "source": [
    "# проверка названия столбцов\n",
    "data.columns"
   ]
  },
  {
   "cell_type": "code",
   "execution_count": 165,
   "metadata": {},
   "outputs": [
    {
     "data": {
      "text/plain": [
       "0"
      ]
     },
     "execution_count": 165,
     "metadata": {},
     "output_type": "execute_result"
    }
   ],
   "source": [
    "# проверим наличие дубликатов\n",
    "data.duplicated().sum()"
   ]
  },
  {
   "cell_type": "code",
   "execution_count": 166,
   "metadata": {},
   "outputs": [
    {
     "data": {
      "text/plain": [
       "0"
      ]
     },
     "execution_count": 166,
     "metadata": {},
     "output_type": "execute_result"
    }
   ],
   "source": [
    "# проверим наличие дубликатов в столбце \"customer_id\"\n",
    "data['customer_id'].duplicated().sum()"
   ]
  },
  {
   "cell_type": "code",
   "execution_count": 167,
   "metadata": {},
   "outputs": [
    {
     "data": {
      "text/html": [
       "<div>\n",
       "<style scoped>\n",
       "    .dataframe tbody tr th:only-of-type {\n",
       "        vertical-align: middle;\n",
       "    }\n",
       "\n",
       "    .dataframe tbody tr th {\n",
       "        vertical-align: top;\n",
       "    }\n",
       "\n",
       "    .dataframe thead th {\n",
       "        text-align: right;\n",
       "    }\n",
       "</style>\n",
       "<table border=\"1\" class=\"dataframe\">\n",
       "  <thead>\n",
       "    <tr style=\"text-align: right;\">\n",
       "      <th></th>\n",
       "      <th>row_number</th>\n",
       "      <th>customer_id</th>\n",
       "      <th>surname</th>\n",
       "      <th>credit_score</th>\n",
       "      <th>geography</th>\n",
       "      <th>gender</th>\n",
       "      <th>age</th>\n",
       "      <th>tenure</th>\n",
       "      <th>balance</th>\n",
       "      <th>num_of_products</th>\n",
       "      <th>has_cr_card</th>\n",
       "      <th>is_active_member</th>\n",
       "      <th>estimated_salary</th>\n",
       "      <th>exited</th>\n",
       "    </tr>\n",
       "  </thead>\n",
       "  <tbody>\n",
       "    <tr>\n",
       "      <th>30</th>\n",
       "      <td>31</td>\n",
       "      <td>15589475</td>\n",
       "      <td>Azikiwe</td>\n",
       "      <td>591</td>\n",
       "      <td>Spain</td>\n",
       "      <td>Female</td>\n",
       "      <td>39</td>\n",
       "      <td>NaN</td>\n",
       "      <td>0.00</td>\n",
       "      <td>3</td>\n",
       "      <td>1</td>\n",
       "      <td>0</td>\n",
       "      <td>140469.38</td>\n",
       "      <td>1</td>\n",
       "    </tr>\n",
       "    <tr>\n",
       "      <th>48</th>\n",
       "      <td>49</td>\n",
       "      <td>15766205</td>\n",
       "      <td>Yin</td>\n",
       "      <td>550</td>\n",
       "      <td>Germany</td>\n",
       "      <td>Male</td>\n",
       "      <td>38</td>\n",
       "      <td>NaN</td>\n",
       "      <td>103391.38</td>\n",
       "      <td>1</td>\n",
       "      <td>0</td>\n",
       "      <td>1</td>\n",
       "      <td>90878.13</td>\n",
       "      <td>0</td>\n",
       "    </tr>\n",
       "    <tr>\n",
       "      <th>51</th>\n",
       "      <td>52</td>\n",
       "      <td>15768193</td>\n",
       "      <td>Trevisani</td>\n",
       "      <td>585</td>\n",
       "      <td>Germany</td>\n",
       "      <td>Male</td>\n",
       "      <td>36</td>\n",
       "      <td>NaN</td>\n",
       "      <td>146050.97</td>\n",
       "      <td>2</td>\n",
       "      <td>0</td>\n",
       "      <td>0</td>\n",
       "      <td>86424.57</td>\n",
       "      <td>0</td>\n",
       "    </tr>\n",
       "    <tr>\n",
       "      <th>53</th>\n",
       "      <td>54</td>\n",
       "      <td>15702298</td>\n",
       "      <td>Parkhill</td>\n",
       "      <td>655</td>\n",
       "      <td>Germany</td>\n",
       "      <td>Male</td>\n",
       "      <td>41</td>\n",
       "      <td>NaN</td>\n",
       "      <td>125561.97</td>\n",
       "      <td>1</td>\n",
       "      <td>0</td>\n",
       "      <td>0</td>\n",
       "      <td>164040.94</td>\n",
       "      <td>1</td>\n",
       "    </tr>\n",
       "    <tr>\n",
       "      <th>60</th>\n",
       "      <td>61</td>\n",
       "      <td>15651280</td>\n",
       "      <td>Hunter</td>\n",
       "      <td>742</td>\n",
       "      <td>Germany</td>\n",
       "      <td>Male</td>\n",
       "      <td>35</td>\n",
       "      <td>NaN</td>\n",
       "      <td>136857.00</td>\n",
       "      <td>1</td>\n",
       "      <td>0</td>\n",
       "      <td>0</td>\n",
       "      <td>84509.57</td>\n",
       "      <td>0</td>\n",
       "    </tr>\n",
       "    <tr>\n",
       "      <th>...</th>\n",
       "      <td>...</td>\n",
       "      <td>...</td>\n",
       "      <td>...</td>\n",
       "      <td>...</td>\n",
       "      <td>...</td>\n",
       "      <td>...</td>\n",
       "      <td>...</td>\n",
       "      <td>...</td>\n",
       "      <td>...</td>\n",
       "      <td>...</td>\n",
       "      <td>...</td>\n",
       "      <td>...</td>\n",
       "      <td>...</td>\n",
       "      <td>...</td>\n",
       "    </tr>\n",
       "    <tr>\n",
       "      <th>9944</th>\n",
       "      <td>9945</td>\n",
       "      <td>15703923</td>\n",
       "      <td>Cameron</td>\n",
       "      <td>744</td>\n",
       "      <td>Germany</td>\n",
       "      <td>Male</td>\n",
       "      <td>41</td>\n",
       "      <td>NaN</td>\n",
       "      <td>190409.34</td>\n",
       "      <td>2</td>\n",
       "      <td>1</td>\n",
       "      <td>1</td>\n",
       "      <td>138361.48</td>\n",
       "      <td>0</td>\n",
       "    </tr>\n",
       "    <tr>\n",
       "      <th>9956</th>\n",
       "      <td>9957</td>\n",
       "      <td>15707861</td>\n",
       "      <td>Nucci</td>\n",
       "      <td>520</td>\n",
       "      <td>France</td>\n",
       "      <td>Female</td>\n",
       "      <td>46</td>\n",
       "      <td>NaN</td>\n",
       "      <td>85216.61</td>\n",
       "      <td>1</td>\n",
       "      <td>1</td>\n",
       "      <td>0</td>\n",
       "      <td>117369.52</td>\n",
       "      <td>1</td>\n",
       "    </tr>\n",
       "    <tr>\n",
       "      <th>9964</th>\n",
       "      <td>9965</td>\n",
       "      <td>15642785</td>\n",
       "      <td>Douglas</td>\n",
       "      <td>479</td>\n",
       "      <td>France</td>\n",
       "      <td>Male</td>\n",
       "      <td>34</td>\n",
       "      <td>NaN</td>\n",
       "      <td>117593.48</td>\n",
       "      <td>2</td>\n",
       "      <td>0</td>\n",
       "      <td>0</td>\n",
       "      <td>113308.29</td>\n",
       "      <td>0</td>\n",
       "    </tr>\n",
       "    <tr>\n",
       "      <th>9985</th>\n",
       "      <td>9986</td>\n",
       "      <td>15586914</td>\n",
       "      <td>Nepean</td>\n",
       "      <td>659</td>\n",
       "      <td>France</td>\n",
       "      <td>Male</td>\n",
       "      <td>36</td>\n",
       "      <td>NaN</td>\n",
       "      <td>123841.49</td>\n",
       "      <td>2</td>\n",
       "      <td>1</td>\n",
       "      <td>0</td>\n",
       "      <td>96833.00</td>\n",
       "      <td>0</td>\n",
       "    </tr>\n",
       "    <tr>\n",
       "      <th>9999</th>\n",
       "      <td>10000</td>\n",
       "      <td>15628319</td>\n",
       "      <td>Walker</td>\n",
       "      <td>792</td>\n",
       "      <td>France</td>\n",
       "      <td>Female</td>\n",
       "      <td>28</td>\n",
       "      <td>NaN</td>\n",
       "      <td>130142.79</td>\n",
       "      <td>1</td>\n",
       "      <td>1</td>\n",
       "      <td>0</td>\n",
       "      <td>38190.78</td>\n",
       "      <td>0</td>\n",
       "    </tr>\n",
       "  </tbody>\n",
       "</table>\n",
       "<p>909 rows × 14 columns</p>\n",
       "</div>"
      ],
      "text/plain": [
       "      row_number  customer_id    surname  credit_score geography  gender  age  \\\n",
       "30            31     15589475    Azikiwe           591     Spain  Female   39   \n",
       "48            49     15766205        Yin           550   Germany    Male   38   \n",
       "51            52     15768193  Trevisani           585   Germany    Male   36   \n",
       "53            54     15702298   Parkhill           655   Germany    Male   41   \n",
       "60            61     15651280     Hunter           742   Germany    Male   35   \n",
       "...          ...          ...        ...           ...       ...     ...  ...   \n",
       "9944        9945     15703923    Cameron           744   Germany    Male   41   \n",
       "9956        9957     15707861      Nucci           520    France  Female   46   \n",
       "9964        9965     15642785    Douglas           479    France    Male   34   \n",
       "9985        9986     15586914     Nepean           659    France    Male   36   \n",
       "9999       10000     15628319     Walker           792    France  Female   28   \n",
       "\n",
       "      tenure    balance  num_of_products  has_cr_card  is_active_member  \\\n",
       "30       NaN       0.00                3            1                 0   \n",
       "48       NaN  103391.38                1            0                 1   \n",
       "51       NaN  146050.97                2            0                 0   \n",
       "53       NaN  125561.97                1            0                 0   \n",
       "60       NaN  136857.00                1            0                 0   \n",
       "...      ...        ...              ...          ...               ...   \n",
       "9944     NaN  190409.34                2            1                 1   \n",
       "9956     NaN   85216.61                1            1                 0   \n",
       "9964     NaN  117593.48                2            0                 0   \n",
       "9985     NaN  123841.49                2            1                 0   \n",
       "9999     NaN  130142.79                1            1                 0   \n",
       "\n",
       "      estimated_salary  exited  \n",
       "30           140469.38       1  \n",
       "48            90878.13       0  \n",
       "51            86424.57       0  \n",
       "53           164040.94       1  \n",
       "60            84509.57       0  \n",
       "...                ...     ...  \n",
       "9944         138361.48       0  \n",
       "9956         117369.52       1  \n",
       "9964         113308.29       0  \n",
       "9985          96833.00       0  \n",
       "9999          38190.78       0  \n",
       "\n",
       "[909 rows x 14 columns]"
      ]
     },
     "execution_count": 167,
     "metadata": {},
     "output_type": "execute_result"
    }
   ],
   "source": [
    "# рассмотрим подробнее пропущенные значения\n",
    "data.query('tenure.isna()')"
   ]
  },
  {
   "cell_type": "markdown",
   "metadata": {},
   "source": [
    "Пропущенные значения в столбце \"Сколько лет человек является клиентом банка, возможно,  связан с тем, что это новые клиенты и поэтому присутствуют пропуски в столбце. Подтвердить это предроложение мы не можем, поэтому заменим медианными значениями, так как будем следовать принципу, что следующие данные будут такими же по распределению, как и текущие."
   ]
  },
  {
   "cell_type": "code",
   "execution_count": 168,
   "metadata": {},
   "outputs": [],
   "source": [
    "data['tenure']=data['tenure'].fillna(data['tenure'].median()).astype('int')"
   ]
  },
  {
   "cell_type": "markdown",
   "metadata": {},
   "source": [
    "Ранее заметили в столбце \"Предполагаемый доход\" доход 11 долл., что вызывает сомнения. Это выбивающееся значение из всех данных. Рассмотрим Предполагаемый доход менеее 50 долл"
   ]
  },
  {
   "cell_type": "code",
   "execution_count": 169,
   "metadata": {},
   "outputs": [
    {
     "data": {
      "text/html": [
       "<div>\n",
       "<style scoped>\n",
       "    .dataframe tbody tr th:only-of-type {\n",
       "        vertical-align: middle;\n",
       "    }\n",
       "\n",
       "    .dataframe tbody tr th {\n",
       "        vertical-align: top;\n",
       "    }\n",
       "\n",
       "    .dataframe thead th {\n",
       "        text-align: right;\n",
       "    }\n",
       "</style>\n",
       "<table border=\"1\" class=\"dataframe\">\n",
       "  <thead>\n",
       "    <tr style=\"text-align: right;\">\n",
       "      <th></th>\n",
       "      <th>row_number</th>\n",
       "      <th>customer_id</th>\n",
       "      <th>surname</th>\n",
       "      <th>credit_score</th>\n",
       "      <th>geography</th>\n",
       "      <th>gender</th>\n",
       "      <th>age</th>\n",
       "      <th>tenure</th>\n",
       "      <th>balance</th>\n",
       "      <th>num_of_products</th>\n",
       "      <th>has_cr_card</th>\n",
       "      <th>is_active_member</th>\n",
       "      <th>estimated_salary</th>\n",
       "      <th>exited</th>\n",
       "    </tr>\n",
       "  </thead>\n",
       "  <tbody>\n",
       "    <tr>\n",
       "      <th>2362</th>\n",
       "      <td>2363</td>\n",
       "      <td>15791053</td>\n",
       "      <td>Lucciano</td>\n",
       "      <td>709</td>\n",
       "      <td>Germany</td>\n",
       "      <td>Male</td>\n",
       "      <td>45</td>\n",
       "      <td>4</td>\n",
       "      <td>122917.71</td>\n",
       "      <td>1</td>\n",
       "      <td>1</td>\n",
       "      <td>1</td>\n",
       "      <td>11.58</td>\n",
       "      <td>1</td>\n",
       "    </tr>\n",
       "  </tbody>\n",
       "</table>\n",
       "</div>"
      ],
      "text/plain": [
       "      row_number  customer_id   surname  credit_score geography gender  age  \\\n",
       "2362        2363     15791053  Lucciano           709   Germany   Male   45   \n",
       "\n",
       "      tenure    balance  num_of_products  has_cr_card  is_active_member  \\\n",
       "2362       4  122917.71                1            1                 1   \n",
       "\n",
       "      estimated_salary  exited  \n",
       "2362             11.58       1  "
      ]
     },
     "execution_count": 169,
     "metadata": {},
     "output_type": "execute_result"
    }
   ],
   "source": [
    "data.query('estimated_salary<=50')"
   ]
  },
  {
   "cell_type": "markdown",
   "metadata": {},
   "source": [
    "Предполагаемый доход 11 долларов, удалим его, как правило, это должно благотворно отразиться на качестве модели при обучении."
   ]
  },
  {
   "cell_type": "code",
   "execution_count": 170,
   "metadata": {},
   "outputs": [],
   "source": [
    "data.drop(data.query('estimated_salary<=12').index, inplace=True, axis=0)"
   ]
  },
  {
   "cell_type": "markdown",
   "metadata": {},
   "source": [
    "Для дальнейшего машинного обучения удалим ненужные столбцы -  row_number, customer_id, surname."
   ]
  },
  {
   "cell_type": "code",
   "execution_count": 171,
   "metadata": {},
   "outputs": [],
   "source": [
    "data.drop(columns=['row_number', 'customer_id', 'surname'], inplace=True)"
   ]
  },
  {
   "cell_type": "code",
   "execution_count": 172,
   "metadata": {},
   "outputs": [
    {
     "data": {
      "text/plain": [
       "array(['France', 'Spain', 'Germany'], dtype=object)"
      ]
     },
     "execution_count": 172,
     "metadata": {},
     "output_type": "execute_result"
    }
   ],
   "source": [
    "# уникальные значения в столбце \"Страна проживания\"\n",
    "data['geography'].unique()"
   ]
  },
  {
   "cell_type": "code",
   "execution_count": 173,
   "metadata": {},
   "outputs": [
    {
     "data": {
      "text/plain": [
       "array(['Female', 'Male'], dtype=object)"
      ]
     },
     "execution_count": 173,
     "metadata": {},
     "output_type": "execute_result"
    }
   ],
   "source": [
    "# уникальные значения в столбце \"Пол\"\n",
    "data['gender'].unique()"
   ]
  },
  {
   "cell_type": "code",
   "execution_count": 174,
   "metadata": {},
   "outputs": [
    {
     "name": "stdout",
     "output_type": "stream",
     "text": [
      "<class 'pandas.core.frame.DataFrame'>\n",
      "Int64Index: 9999 entries, 0 to 9999\n",
      "Data columns (total 11 columns):\n",
      " #   Column            Non-Null Count  Dtype  \n",
      "---  ------            --------------  -----  \n",
      " 0   credit_score      9999 non-null   int64  \n",
      " 1   geography         9999 non-null   object \n",
      " 2   gender            9999 non-null   object \n",
      " 3   age               9999 non-null   int64  \n",
      " 4   tenure            9999 non-null   int64  \n",
      " 5   balance           9999 non-null   float64\n",
      " 6   num_of_products   9999 non-null   int64  \n",
      " 7   has_cr_card       9999 non-null   int64  \n",
      " 8   is_active_member  9999 non-null   int64  \n",
      " 9   estimated_salary  9999 non-null   float64\n",
      " 10  exited            9999 non-null   int64  \n",
      "dtypes: float64(2), int64(7), object(2)\n",
      "memory usage: 937.4+ KB\n"
     ]
    }
   ],
   "source": [
    "# информация по датафрейму после обработки\n",
    "data.info()"
   ]
  },
  {
   "cell_type": "markdown",
   "metadata": {},
   "source": [
    "При подготовке данных исходного датафрейма к дальнейшему обучению наименования столбцов были преведены к стандартному виду, заменены пропущенные значения и приведены в целочисленному вилу столбец \"tenure\", удалена одна выбивающаяся строка с суммой предполагаемого дохода менее 12 долл. Также для дальнейшего обучения были удалены столбцы, которые не несут ценность для дальнейшего обучения - 'row_number', 'customer_id', 'surname'"
   ]
  },
  {
   "cell_type": "markdown",
   "metadata": {},
   "source": [
    "## Исследование задачи"
   ]
  },
  {
   "cell_type": "markdown",
   "metadata": {},
   "source": [
    "Избавляемся от категориальных признаков методом прямого кодирования OHE:"
   ]
  },
  {
   "cell_type": "markdown",
   "metadata": {},
   "source": [
    "**Используем класс OHE из sklearn для кодирования и масштабирования выборок**"
   ]
  },
  {
   "cell_type": "markdown",
   "metadata": {},
   "source": [
    "Разделим исходные данные на признаки и целевой признак, а также разделим на обучающую (60%), тестовую (20%) и валидационную (20%) выборки. "
   ]
  },
  {
   "cell_type": "code",
   "execution_count": 183,
   "metadata": {},
   "outputs": [],
   "source": [
    "target = data['exited']\n",
    "features = data.drop('exited', axis=1)"
   ]
  },
  {
   "cell_type": "code",
   "execution_count": 184,
   "metadata": {},
   "outputs": [],
   "source": [
    "# разбиваем данные на  обучающую и контрольную выборки\n",
    "features_train, features_control, target_train, target_control = train_test_split(features, target, test_size=.4, random_state=12345)\n",
    "# разбиваем контрольную выборку на валидационную и тестовую\n",
    "features_test, features_valid, target_test, target_valid = train_test_split(features_control, target_control, test_size=.5, random_state=12345)"
   ]
  },
  {
   "cell_type": "code",
   "execution_count": 185,
   "metadata": {},
   "outputs": [
    {
     "name": "stdout",
     "output_type": "stream",
     "text": [
      "['geography', 'gender']\n"
     ]
    }
   ],
   "source": [
    "# выделим категориальные признаки для OHE\n",
    "ohe_features_train = features_train.select_dtypes(include='object').columns.to_list()\n",
    "print(ohe_features_train)"
   ]
  },
  {
   "cell_type": "code",
   "execution_count": 186,
   "metadata": {},
   "outputs": [
    {
     "data": {
      "text/plain": [
       "['credit_score',\n",
       " 'age',\n",
       " 'tenure',\n",
       " 'balance',\n",
       " 'num_of_products',\n",
       " 'has_cr_card',\n",
       " 'is_active_member',\n",
       " 'estimated_salary']"
      ]
     },
     "execution_count": 186,
     "metadata": {},
     "output_type": "execute_result"
    }
   ],
   "source": [
    "#численные признаки\n",
    "num_features = features_train.select_dtypes(exclude='object').columns.to_list()\n",
    "num_features"
   ]
  },
  {
   "cell_type": "code",
   "execution_count": 187,
   "metadata": {},
   "outputs": [],
   "source": [
    "encoder_ohe = OneHotEncoder(drop='first', handle_unknown='ignore', sparse=False)\n",
    "# обучаем энкодер на заданных категориальных признаках тренировочной выборки\n",
    "encoder_ohe.fit(features_train[ohe_features_train])\n",
    "# добавляем закодированные признаки\n",
    "features_train[\n",
    "    encoder_ohe.get_feature_names_out()\n",
    "] = encoder_ohe.transform(features_train[ohe_features_train])\n",
    "# удаляем незакодированные категориальные признаки (изначальные колонки)\n",
    "features_train = features_train.drop(ohe_features_train, axis=1)"
   ]
  },
  {
   "cell_type": "code",
   "execution_count": 188,
   "metadata": {},
   "outputs": [],
   "source": [
    "# создаём скелер\n",
    "scaler = StandardScaler()\n",
    "# обучаем его на численных признаках тренировочной выборки, трансформируем её же\n",
    "features_train[num_features] = scaler.fit_transform(features_train[num_features])"
   ]
  },
  {
   "cell_type": "code",
   "execution_count": 189,
   "metadata": {},
   "outputs": [
    {
     "data": {
      "text/html": [
       "<div>\n",
       "<style scoped>\n",
       "    .dataframe tbody tr th:only-of-type {\n",
       "        vertical-align: middle;\n",
       "    }\n",
       "\n",
       "    .dataframe tbody tr th {\n",
       "        vertical-align: top;\n",
       "    }\n",
       "\n",
       "    .dataframe thead th {\n",
       "        text-align: right;\n",
       "    }\n",
       "</style>\n",
       "<table border=\"1\" class=\"dataframe\">\n",
       "  <thead>\n",
       "    <tr style=\"text-align: right;\">\n",
       "      <th></th>\n",
       "      <th>credit_score</th>\n",
       "      <th>age</th>\n",
       "      <th>tenure</th>\n",
       "      <th>balance</th>\n",
       "      <th>num_of_products</th>\n",
       "      <th>has_cr_card</th>\n",
       "      <th>is_active_member</th>\n",
       "      <th>estimated_salary</th>\n",
       "      <th>geography_Germany</th>\n",
       "      <th>geography_Spain</th>\n",
       "      <th>gender_Male</th>\n",
       "    </tr>\n",
       "  </thead>\n",
       "  <tbody>\n",
       "    <tr>\n",
       "      <th>3412</th>\n",
       "      <td>-0.722654</td>\n",
       "      <td>-1.233545</td>\n",
       "      <td>0.362417</td>\n",
       "      <td>0.610087</td>\n",
       "      <td>-0.912539</td>\n",
       "      <td>0.640211</td>\n",
       "      <td>0.961886</td>\n",
       "      <td>-1.478599</td>\n",
       "      <td>1.0</td>\n",
       "      <td>0.0</td>\n",
       "      <td>1.0</td>\n",
       "    </tr>\n",
       "    <tr>\n",
       "      <th>6027</th>\n",
       "      <td>2.054653</td>\n",
       "      <td>0.481765</td>\n",
       "      <td>-0.727741</td>\n",
       "      <td>1.025636</td>\n",
       "      <td>0.813832</td>\n",
       "      <td>-1.561984</td>\n",
       "      <td>0.961886</td>\n",
       "      <td>1.509491</td>\n",
       "      <td>1.0</td>\n",
       "      <td>0.0</td>\n",
       "      <td>1.0</td>\n",
       "    </tr>\n",
       "    <tr>\n",
       "      <th>1247</th>\n",
       "      <td>-1.448070</td>\n",
       "      <td>-1.424135</td>\n",
       "      <td>0.362417</td>\n",
       "      <td>-1.223127</td>\n",
       "      <td>0.813832</td>\n",
       "      <td>0.640211</td>\n",
       "      <td>-1.039624</td>\n",
       "      <td>-1.069565</td>\n",
       "      <td>0.0</td>\n",
       "      <td>0.0</td>\n",
       "      <td>1.0</td>\n",
       "    </tr>\n",
       "    <tr>\n",
       "      <th>3717</th>\n",
       "      <td>-0.059416</td>\n",
       "      <td>0.005290</td>\n",
       "      <td>-1.817900</td>\n",
       "      <td>1.250622</td>\n",
       "      <td>-0.912539</td>\n",
       "      <td>0.640211</td>\n",
       "      <td>-1.039624</td>\n",
       "      <td>1.253263</td>\n",
       "      <td>1.0</td>\n",
       "      <td>0.0</td>\n",
       "      <td>1.0</td>\n",
       "    </tr>\n",
       "    <tr>\n",
       "      <th>8661</th>\n",
       "      <td>1.256696</td>\n",
       "      <td>-0.280595</td>\n",
       "      <td>-0.364355</td>\n",
       "      <td>0.472471</td>\n",
       "      <td>-0.912539</td>\n",
       "      <td>-1.561984</td>\n",
       "      <td>0.961886</td>\n",
       "      <td>-1.646674</td>\n",
       "      <td>1.0</td>\n",
       "      <td>0.0</td>\n",
       "      <td>0.0</td>\n",
       "    </tr>\n",
       "  </tbody>\n",
       "</table>\n",
       "</div>"
      ],
      "text/plain": [
       "      credit_score       age    tenure   balance  num_of_products  \\\n",
       "3412     -0.722654 -1.233545  0.362417  0.610087        -0.912539   \n",
       "6027      2.054653  0.481765 -0.727741  1.025636         0.813832   \n",
       "1247     -1.448070 -1.424135  0.362417 -1.223127         0.813832   \n",
       "3717     -0.059416  0.005290 -1.817900  1.250622        -0.912539   \n",
       "8661      1.256696 -0.280595 -0.364355  0.472471        -0.912539   \n",
       "\n",
       "      has_cr_card  is_active_member  estimated_salary  geography_Germany  \\\n",
       "3412     0.640211          0.961886         -1.478599                1.0   \n",
       "6027    -1.561984          0.961886          1.509491                1.0   \n",
       "1247     0.640211         -1.039624         -1.069565                0.0   \n",
       "3717     0.640211         -1.039624          1.253263                1.0   \n",
       "8661    -1.561984          0.961886         -1.646674                1.0   \n",
       "\n",
       "      geography_Spain  gender_Male  \n",
       "3412              0.0          1.0  \n",
       "6027              0.0          1.0  \n",
       "1247              0.0          1.0  \n",
       "3717              0.0          1.0  \n",
       "8661              0.0          0.0  "
      ]
     },
     "execution_count": 189,
     "metadata": {},
     "output_type": "execute_result"
    }
   ],
   "source": [
    "features_train.head()"
   ]
  },
  {
   "cell_type": "code",
   "execution_count": 190,
   "metadata": {},
   "outputs": [
    {
     "data": {
      "text/html": [
       "<div>\n",
       "<style scoped>\n",
       "    .dataframe tbody tr th:only-of-type {\n",
       "        vertical-align: middle;\n",
       "    }\n",
       "\n",
       "    .dataframe tbody tr th {\n",
       "        vertical-align: top;\n",
       "    }\n",
       "\n",
       "    .dataframe thead th {\n",
       "        text-align: right;\n",
       "    }\n",
       "</style>\n",
       "<table border=\"1\" class=\"dataframe\">\n",
       "  <thead>\n",
       "    <tr style=\"text-align: right;\">\n",
       "      <th></th>\n",
       "      <th>credit_score</th>\n",
       "      <th>age</th>\n",
       "      <th>tenure</th>\n",
       "      <th>balance</th>\n",
       "      <th>num_of_products</th>\n",
       "      <th>has_cr_card</th>\n",
       "      <th>is_active_member</th>\n",
       "      <th>estimated_salary</th>\n",
       "      <th>geography_Germany</th>\n",
       "      <th>geography_Spain</th>\n",
       "      <th>gender_Male</th>\n",
       "    </tr>\n",
       "  </thead>\n",
       "  <tbody>\n",
       "    <tr>\n",
       "      <th>8416</th>\n",
       "      <td>-1.282261</td>\n",
       "      <td>-0.661775</td>\n",
       "      <td>-1.091127</td>\n",
       "      <td>0.364092</td>\n",
       "      <td>-0.912539</td>\n",
       "      <td>-1.561984</td>\n",
       "      <td>0.961886</td>\n",
       "      <td>0.205736</td>\n",
       "      <td>1.0</td>\n",
       "      <td>0.0</td>\n",
       "      <td>1.0</td>\n",
       "    </tr>\n",
       "    <tr>\n",
       "      <th>2583</th>\n",
       "      <td>0.624547</td>\n",
       "      <td>-0.757070</td>\n",
       "      <td>0.725803</td>\n",
       "      <td>-1.223127</td>\n",
       "      <td>0.813832</td>\n",
       "      <td>0.640211</td>\n",
       "      <td>-1.039624</td>\n",
       "      <td>1.232689</td>\n",
       "      <td>0.0</td>\n",
       "      <td>0.0</td>\n",
       "      <td>0.0</td>\n",
       "    </tr>\n",
       "    <tr>\n",
       "      <th>8249</th>\n",
       "      <td>-0.681202</td>\n",
       "      <td>-0.090005</td>\n",
       "      <td>0.362417</td>\n",
       "      <td>-1.223127</td>\n",
       "      <td>0.813832</td>\n",
       "      <td>0.640211</td>\n",
       "      <td>0.961886</td>\n",
       "      <td>-1.064680</td>\n",
       "      <td>0.0</td>\n",
       "      <td>0.0</td>\n",
       "      <td>0.0</td>\n",
       "    </tr>\n",
       "    <tr>\n",
       "      <th>1774</th>\n",
       "      <td>-2.204575</td>\n",
       "      <td>-1.042955</td>\n",
       "      <td>0.725803</td>\n",
       "      <td>0.554441</td>\n",
       "      <td>0.813832</td>\n",
       "      <td>0.640211</td>\n",
       "      <td>-1.039624</td>\n",
       "      <td>0.680782</td>\n",
       "      <td>0.0</td>\n",
       "      <td>0.0</td>\n",
       "      <td>1.0</td>\n",
       "    </tr>\n",
       "    <tr>\n",
       "      <th>7863</th>\n",
       "      <td>0.976892</td>\n",
       "      <td>0.767650</td>\n",
       "      <td>1.089189</td>\n",
       "      <td>1.057485</td>\n",
       "      <td>-0.912539</td>\n",
       "      <td>0.640211</td>\n",
       "      <td>0.961886</td>\n",
       "      <td>-0.645614</td>\n",
       "      <td>0.0</td>\n",
       "      <td>0.0</td>\n",
       "      <td>1.0</td>\n",
       "    </tr>\n",
       "  </tbody>\n",
       "</table>\n",
       "</div>"
      ],
      "text/plain": [
       "      credit_score       age    tenure   balance  num_of_products  \\\n",
       "8416     -1.282261 -0.661775 -1.091127  0.364092        -0.912539   \n",
       "2583      0.624547 -0.757070  0.725803 -1.223127         0.813832   \n",
       "8249     -0.681202 -0.090005  0.362417 -1.223127         0.813832   \n",
       "1774     -2.204575 -1.042955  0.725803  0.554441         0.813832   \n",
       "7863      0.976892  0.767650  1.089189  1.057485        -0.912539   \n",
       "\n",
       "      has_cr_card  is_active_member  estimated_salary  geography_Germany  \\\n",
       "8416    -1.561984          0.961886          0.205736                1.0   \n",
       "2583     0.640211         -1.039624          1.232689                0.0   \n",
       "8249     0.640211          0.961886         -1.064680                0.0   \n",
       "1774     0.640211         -1.039624          0.680782                0.0   \n",
       "7863     0.640211          0.961886         -0.645614                0.0   \n",
       "\n",
       "      geography_Spain  gender_Male  \n",
       "8416              0.0          1.0  \n",
       "2583              0.0          0.0  \n",
       "8249              0.0          0.0  \n",
       "1774              0.0          1.0  \n",
       "7863              0.0          1.0  "
      ]
     },
     "execution_count": 190,
     "metadata": {},
     "output_type": "execute_result"
    }
   ],
   "source": [
    "# энкодером, который обучен на ТРЕНИРОВОЧНОЙ ВЫБОРКЕ, кодируем тестовую\n",
    "features_test[\n",
    "    encoder_ohe.get_feature_names_out()\n",
    "] = encoder_ohe.transform(features_test[ohe_features_train])\n",
    "\n",
    "features_test = features_test.drop(ohe_features_train, axis=1)\n",
    "\n",
    "# скелером, который обучен на ТРЕНИРОВОЧНОЙ ВЫБОРКЕ, масштабируем тестовую\n",
    "features_test[num_features] = scaler.transform(\n",
    "    features_test[num_features]\n",
    ")\n",
    "\n",
    "# смотрим на результат\n",
    "features_test.head()"
   ]
  },
  {
   "cell_type": "code",
   "execution_count": 191,
   "metadata": {},
   "outputs": [
    {
     "data": {
      "text/html": [
       "<div>\n",
       "<style scoped>\n",
       "    .dataframe tbody tr th:only-of-type {\n",
       "        vertical-align: middle;\n",
       "    }\n",
       "\n",
       "    .dataframe tbody tr th {\n",
       "        vertical-align: top;\n",
       "    }\n",
       "\n",
       "    .dataframe thead th {\n",
       "        text-align: right;\n",
       "    }\n",
       "</style>\n",
       "<table border=\"1\" class=\"dataframe\">\n",
       "  <thead>\n",
       "    <tr style=\"text-align: right;\">\n",
       "      <th></th>\n",
       "      <th>credit_score</th>\n",
       "      <th>age</th>\n",
       "      <th>tenure</th>\n",
       "      <th>balance</th>\n",
       "      <th>num_of_products</th>\n",
       "      <th>has_cr_card</th>\n",
       "      <th>is_active_member</th>\n",
       "      <th>estimated_salary</th>\n",
       "      <th>geography_Germany</th>\n",
       "      <th>geography_Spain</th>\n",
       "      <th>gender_Male</th>\n",
       "    </tr>\n",
       "  </thead>\n",
       "  <tbody>\n",
       "    <tr>\n",
       "      <th>643</th>\n",
       "      <td>0.085667</td>\n",
       "      <td>0.005290</td>\n",
       "      <td>-0.000969</td>\n",
       "      <td>0.941405</td>\n",
       "      <td>-0.912539</td>\n",
       "      <td>0.640211</td>\n",
       "      <td>-1.039624</td>\n",
       "      <td>1.290812</td>\n",
       "      <td>1.0</td>\n",
       "      <td>0.0</td>\n",
       "      <td>0.0</td>\n",
       "    </tr>\n",
       "    <tr>\n",
       "      <th>2899</th>\n",
       "      <td>-0.681202</td>\n",
       "      <td>-0.375890</td>\n",
       "      <td>0.725803</td>\n",
       "      <td>-1.223127</td>\n",
       "      <td>0.813832</td>\n",
       "      <td>0.640211</td>\n",
       "      <td>-1.039624</td>\n",
       "      <td>-0.495101</td>\n",
       "      <td>0.0</td>\n",
       "      <td>0.0</td>\n",
       "      <td>0.0</td>\n",
       "    </tr>\n",
       "    <tr>\n",
       "      <th>3018</th>\n",
       "      <td>-0.660475</td>\n",
       "      <td>-1.138250</td>\n",
       "      <td>1.089189</td>\n",
       "      <td>-1.223127</td>\n",
       "      <td>-0.912539</td>\n",
       "      <td>0.640211</td>\n",
       "      <td>-1.039624</td>\n",
       "      <td>-1.374751</td>\n",
       "      <td>0.0</td>\n",
       "      <td>0.0</td>\n",
       "      <td>0.0</td>\n",
       "    </tr>\n",
       "    <tr>\n",
       "      <th>8970</th>\n",
       "      <td>1.101249</td>\n",
       "      <td>2.101779</td>\n",
       "      <td>-1.091127</td>\n",
       "      <td>-1.223127</td>\n",
       "      <td>0.813832</td>\n",
       "      <td>0.640211</td>\n",
       "      <td>0.961886</td>\n",
       "      <td>-0.959759</td>\n",
       "      <td>0.0</td>\n",
       "      <td>1.0</td>\n",
       "      <td>1.0</td>\n",
       "    </tr>\n",
       "    <tr>\n",
       "      <th>8616</th>\n",
       "      <td>0.013125</td>\n",
       "      <td>-1.138250</td>\n",
       "      <td>0.362417</td>\n",
       "      <td>0.502791</td>\n",
       "      <td>0.813832</td>\n",
       "      <td>0.640211</td>\n",
       "      <td>0.961886</td>\n",
       "      <td>-1.143569</td>\n",
       "      <td>0.0</td>\n",
       "      <td>1.0</td>\n",
       "      <td>0.0</td>\n",
       "    </tr>\n",
       "  </tbody>\n",
       "</table>\n",
       "</div>"
      ],
      "text/plain": [
       "      credit_score       age    tenure   balance  num_of_products  \\\n",
       "643       0.085667  0.005290 -0.000969  0.941405        -0.912539   \n",
       "2899     -0.681202 -0.375890  0.725803 -1.223127         0.813832   \n",
       "3018     -0.660475 -1.138250  1.089189 -1.223127        -0.912539   \n",
       "8970      1.101249  2.101779 -1.091127 -1.223127         0.813832   \n",
       "8616      0.013125 -1.138250  0.362417  0.502791         0.813832   \n",
       "\n",
       "      has_cr_card  is_active_member  estimated_salary  geography_Germany  \\\n",
       "643      0.640211         -1.039624          1.290812                1.0   \n",
       "2899     0.640211         -1.039624         -0.495101                0.0   \n",
       "3018     0.640211         -1.039624         -1.374751                0.0   \n",
       "8970     0.640211          0.961886         -0.959759                0.0   \n",
       "8616     0.640211          0.961886         -1.143569                0.0   \n",
       "\n",
       "      geography_Spain  gender_Male  \n",
       "643               0.0          0.0  \n",
       "2899              0.0          0.0  \n",
       "3018              0.0          0.0  \n",
       "8970              1.0          1.0  \n",
       "8616              1.0          0.0  "
      ]
     },
     "execution_count": 191,
     "metadata": {},
     "output_type": "execute_result"
    }
   ],
   "source": [
    "# энкодером, который обучен на ТРЕНИРОВОЧНОЙ ВЫБОРКЕ, кодируем валидационную\n",
    "features_valid[\n",
    "    encoder_ohe.get_feature_names_out()\n",
    "] = encoder_ohe.transform(features_valid[ohe_features_train])\n",
    "\n",
    "features_valid = features_valid.drop(ohe_features_train, axis=1)\n",
    "\n",
    "# скелером, который обучен на ТРЕНИРОВОЧНОЙ ВЫБОРКЕ, масштабируем валидационную\n",
    "features_valid[num_features] = scaler.transform(\n",
    "    features_valid[num_features]\n",
    ")\n",
    "\n",
    "# смотрим на результат\n",
    "features_valid.head()"
   ]
  },
  {
   "cell_type": "code",
   "execution_count": 192,
   "metadata": {},
   "outputs": [
    {
     "data": {
      "text/plain": [
       "((5999, 11), (2000, 11), (2000, 11))"
      ]
     },
     "execution_count": 192,
     "metadata": {},
     "output_type": "execute_result"
    }
   ],
   "source": [
    "# проверяем наши выборки\n",
    "features_train.shape, features_valid.shape, features_test.shape"
   ]
  },
  {
   "cell_type": "markdown",
   "metadata": {},
   "source": [
    "## Борьба с дисбалансом"
   ]
  },
  {
   "cell_type": "markdown",
   "metadata": {},
   "source": [
    "Перед тем, как бороться с дисбалансом, проверим качество модели без дополнительных манипуляций"
   ]
  },
  {
   "cell_type": "markdown",
   "metadata": {},
   "source": [
    "### Модели  без учета дисбаланса"
   ]
  },
  {
   "cell_type": "markdown",
   "metadata": {},
   "source": [
    "*Модель Логистической регрессии без учета дисбаланса:*"
   ]
  },
  {
   "cell_type": "code",
   "execution_count": 193,
   "metadata": {},
   "outputs": [
    {
     "name": "stdout",
     "output_type": "stream",
     "text": [
      "F1: 0.2698706099815157\n",
      "Полнота: 0.18863049095607234\n",
      "Точность: 0.474025974025974\n"
     ]
    }
   ],
   "source": [
    "model_lr = LogisticRegression(random_state=12345)\n",
    "model_lr.fit(features_train, target_train)\n",
    "predicted_lr = model_lr.predict(features_valid)\n",
    "print(\"F1:\", f1_score(target_valid, predicted_lr))\n",
    "print('Полнота:', recall_score(target_valid, predicted_lr))\n",
    "print('Точность:', precision_score(target_valid, predicted_lr))"
   ]
  },
  {
   "cell_type": "code",
   "execution_count": 194,
   "metadata": {},
   "outputs": [],
   "source": [
    "probabilities_lr = model_lr.predict_proba(features_valid)\n",
    "probabilities_one_lr = probabilities_lr[:, 1]"
   ]
  },
  {
   "cell_type": "code",
   "execution_count": 195,
   "metadata": {},
   "outputs": [
    {
     "data": {
      "image/png": "[encoded data removed]",
      "text/plain": [
       "<Figure size 432x432 with 1 Axes>"
      ]
     },
     "metadata": {
      "needs_background": "light"
     },
     "output_type": "display_data"
    }
   ],
   "source": [
    "# Построим ROC - кривую\n",
    "fpr, tpr, thresholds = roc_curve(target_valid, probabilities_one_lr)\n",
    "plt.figure(figsize=(6,6))\n",
    "\n",
    "plt.plot(fpr, tpr,  color='red')\n",
    "plt.plot([0, 1], [0, 1], linestyle='--')\n",
    "plt.title('ROC - кривая')\n",
    "plt.xlabel('fpr False Positive Rate')\n",
    "plt.ylabel('tpr True Positive Rate')\n",
    "plt.show()"
   ]
  },
  {
   "cell_type": "code",
   "execution_count": 196,
   "metadata": {},
   "outputs": [
    {
     "name": "stdout",
     "output_type": "stream",
     "text": [
      "AUC-ROC модели: 0.738314822557675\n"
     ]
    }
   ],
   "source": [
    "# посчитаем AUC-ROC, чтобы выявить как сильно модель отличается от случайной\n",
    "\n",
    "print('AUC-ROC модели:', roc_auc_score(target_valid, probabilities_one_lr))"
   ]
  },
  {
   "cell_type": "markdown",
   "metadata": {},
   "source": [
    "*Модель дерева решений без учета дисбаланса:*"
   ]
  },
  {
   "cell_type": "code",
   "execution_count": 280,
   "metadata": {},
   "outputs": [
    {
     "name": "stdout",
     "output_type": "stream",
     "text": [
      "Лучшая F-мера 0.5548780487804879 cо значением глубины = 8\n",
      "Полнота: 0.5167958656330749\n",
      "Точность: 0.46296296296296297\n"
     ]
    }
   ],
   "source": [
    "best_model_dt = None\n",
    "best_result_dt = 0\n",
    "best_depth_dt=0\n",
    "for depth in range(1, 30):\n",
    "    model_dt = DecisionTreeClassifier(random_state=12345, max_depth=depth)\n",
    "    model_dt.fit(features_train, target_train)\n",
    "    predicted_dt = model_dt.predict(features_valid)\n",
    "    result_dt = f1_score(target_valid, predicted_dt)\n",
    "    \n",
    "    if best_result_dt < result_dt:\n",
    "        best_result_dt = result_dt\n",
    "        best_depth_dt = depth\n",
    "        best_model_dt = model_dt\n",
    "\n",
    "print(\"Лучшая F-мера\", best_result_dt, 'cо значением глубины =', best_depth_dt)\n",
    "print('Полнота:', recall_score(target_valid, predicted_dt))\n",
    "print('Точность:', precision_score(target_valid, predicted_dt))"
   ]
  },
  {
   "cell_type": "code",
   "execution_count": 198,
   "metadata": {},
   "outputs": [],
   "source": [
    "probabilities_dt = model_dt.predict_proba(features_valid)\n",
    "probabilities_one_dt = probabilities_dt[:, 1]"
   ]
  },
  {
   "cell_type": "code",
   "execution_count": 199,
   "metadata": {},
   "outputs": [
    {
     "data": {
      "image/png": "[encoded data removed]",
      "text/plain": [
       "<Figure size 432x432 with 1 Axes>"
      ]
     },
     "metadata": {
      "needs_background": "light"
     },
     "output_type": "display_data"
    }
   ],
   "source": [
    "# Построим ROC - кривую\n",
    "fpr, tpr, thresholds = roc_curve(target_valid, probabilities_one_dt)\n",
    "plt.figure(figsize=(6,6))\n",
    "\n",
    "plt.plot(fpr, tpr,  color='red')\n",
    "plt.plot([0, 1], [0, 1], linestyle='--')\n",
    "plt.title('ROC - кривая')\n",
    "plt.xlabel('fpr False Positive Rate')\n",
    "plt.ylabel('tpr True Positive Rate')\n",
    "plt.show()"
   ]
  },
  {
   "cell_type": "code",
   "execution_count": 200,
   "metadata": {},
   "outputs": [
    {
     "name": "stdout",
     "output_type": "stream",
     "text": [
      "AUC-ROC модели: 0.6864822477576411\n"
     ]
    }
   ],
   "source": [
    "# посчитаем AUC-ROC, чтобы выявить как сильно модель отличается от случайной\n",
    "\n",
    "print('AUC-ROC модели:', roc_auc_score(target_valid, probabilities_one_dt))"
   ]
  },
  {
   "cell_type": "markdown",
   "metadata": {},
   "source": [
    "*Модель случайного леса без учета дисбаланса:*"
   ]
  },
  {
   "cell_type": "code",
   "execution_count": 201,
   "metadata": {},
   "outputs": [
    {
     "name": "stdout",
     "output_type": "stream",
     "text": [
      "Лучшая F-мера 0.5913312693498453 при глубине = 21 и количестве деревьев = 21\n",
      "Полнота: 0.46770025839793283\n",
      "Точность: 0.7510373443983402\n",
      "CPU times: user 17.5 s, sys: 58.8 ms, total: 17.5 s\n",
      "Wall time: 17.7 s\n"
     ]
    }
   ],
   "source": [
    "%%time\n",
    "\n",
    "best_model_rf = None\n",
    "best_result_rf = 0\n",
    "best_depth = 0\n",
    "best_est = 0\n",
    "\n",
    "for estimator in range(1, 50, 10):\n",
    "    for depth in range(1, 30):\n",
    "        model_rf =  RandomForestClassifier(random_state=12345, n_estimators=estimator, max_depth = depth)\n",
    "        model_rf.fit(features_train, target_train)\n",
    "        predicted_valid_rf = model_rf.predict(features_valid)\n",
    "        result_rf = f1_score(target_valid, predicted_valid_rf) \n",
    "        \n",
    "        if result_rf > best_result_rf:\n",
    "            best_model_rf = model_rf\n",
    "            best_result_rf = result_rf\n",
    "            best_depth = depth\n",
    "            best_est = estimator\n",
    "\n",
    "print(\"Лучшая F-мера\", best_result_rf, 'при глубине = {0} и количестве деревьев = {1}'.format(best_depth, best_est))\n",
    "print('Полнота:', recall_score(target_valid, predicted_valid_rf))\n",
    "print('Точность:', precision_score(target_valid, predicted_valid_rf))"
   ]
  },
  {
   "cell_type": "code",
   "execution_count": 202,
   "metadata": {},
   "outputs": [],
   "source": [
    "probabilities_rf = model_rf.predict_proba(features_valid)\n",
    "probabilities_one_rf = probabilities_rf[:, 1]"
   ]
  },
  {
   "cell_type": "code",
   "execution_count": 203,
   "metadata": {},
   "outputs": [
    {
     "data": {
      "image/png": "[encoded data removed]",
      "text/plain": [
       "<Figure size 432x432 with 1 Axes>"
      ]
     },
     "metadata": {
      "needs_background": "light"
     },
     "output_type": "display_data"
    }
   ],
   "source": [
    "# Построим ROC - кривую\n",
    "fpr, tpr, thresholds = roc_curve(target_valid, probabilities_one_rf)\n",
    "plt.figure(figsize=(6,6))\n",
    "\n",
    "plt.plot(fpr, tpr,  color='red')\n",
    "plt.plot([0, 1], [0, 1], linestyle='--')\n",
    "plt.title('ROC - кривая')\n",
    "plt.xlabel('fpr False Positive Rate')\n",
    "plt.ylabel('tpr True Positive Rate')\n",
    "plt.show()"
   ]
  },
  {
   "cell_type": "code",
   "execution_count": 204,
   "metadata": {},
   "outputs": [
    {
     "name": "stdout",
     "output_type": "stream",
     "text": [
      "AUC-ROC модели: 0.83643234635896\n"
     ]
    }
   ],
   "source": [
    "# посчитаем AUC-ROC, чтобы выявить как сильно модель отличается от случайной\n",
    "\n",
    "print('AUC-ROC модели:', roc_auc_score(target_valid, probabilities_one_rf))"
   ]
  },
  {
   "cell_type": "code",
   "execution_count": 205,
   "metadata": {},
   "outputs": [
    {
     "data": {
      "image/png": "[encoded data removed]",
      "text/plain": [
       "<Figure size 432x288 with 1 Axes>"
      ]
     },
     "metadata": {
      "needs_background": "light"
     },
     "output_type": "display_data"
    }
   ],
   "source": [
    "# рассмотрим распределение целевого признака\n",
    "target.plot(kind='hist', )\n",
    "plt.title('Соотношение целевого признака')\n",
    "plt.show()"
   ]
  },
  {
   "cell_type": "markdown",
   "metadata": {},
   "source": [
    "В наших данных присутсвует дисбаланс целевого признака 1:4, исправим это при помощи балансировки, метода Upsampling и метода Downsampling и выберем лучшую модель."
   ]
  },
  {
   "cell_type": "markdown",
   "metadata": {},
   "source": [
    "### Модели с учетом балансировки классов"
   ]
  },
  {
   "cell_type": "markdown",
   "metadata": {},
   "source": [
    "Придадим целевому признаку оттока клиентов (1) больший вес методом Балансироки при помощи class_weight='balanced'"
   ]
  },
  {
   "cell_type": "code",
   "execution_count": 206,
   "metadata": {},
   "outputs": [
    {
     "name": "stdout",
     "output_type": "stream",
     "text": [
      "F1: 0.450530035335689\n",
      "Полнота: 0.6589147286821705\n",
      "Точность: 0.3422818791946309\n"
     ]
    }
   ],
   "source": [
    "# Логистическая регрессия с учетом балансировки классов\n",
    "model_lrb = LogisticRegression(random_state=12345, solver='liblinear', class_weight='balanced')\n",
    "model_lrb.fit(features_train, target_train)\n",
    "predicted_lrb = model_lrb.predict(features_valid)\n",
    "print(\"F1:\", f1_score(target_valid, predicted_lrb))\n",
    "print('Полнота:', recall_score(target_valid, predicted_lrb))\n",
    "print('Точность:', precision_score(target_valid, predicted_lrb))"
   ]
  },
  {
   "cell_type": "code",
   "execution_count": 207,
   "metadata": {},
   "outputs": [],
   "source": [
    "probabilities_lrb = model_lrb.predict_proba(features_valid)\n",
    "probabilities_one_lrb = probabilities_lrb[:, 1]"
   ]
  },
  {
   "cell_type": "code",
   "execution_count": 208,
   "metadata": {},
   "outputs": [
    {
     "data": {
      "image/png": "[encoded data removed]",
      "text/plain": [
       "<Figure size 432x432 with 1 Axes>"
      ]
     },
     "metadata": {
      "needs_background": "light"
     },
     "output_type": "display_data"
    }
   ],
   "source": [
    "# Построим ROC - кривую\n",
    "fpr, tpr, thresholds = roc_curve(target_valid, probabilities_one_lrb)\n",
    "plt.figure(figsize=(6,6))\n",
    "\n",
    "plt.plot(fpr, tpr,  color='red')\n",
    "plt.plot([0, 1], [0, 1], linestyle='--')\n",
    "plt.title('ROC - кривая')\n",
    "plt.xlabel('fpr False Positive Rate')\n",
    "plt.ylabel('tpr True Positive Rate')\n",
    "plt.show()"
   ]
  },
  {
   "cell_type": "code",
   "execution_count": 209,
   "metadata": {},
   "outputs": [
    {
     "name": "stdout",
     "output_type": "stream",
     "text": [
      "AUC-ROC модели: 0.7416389125179622\n"
     ]
    }
   ],
   "source": [
    "# посчитаем AUC-ROC, чтобы выявить как сильно модель отличается от случайной\n",
    "\n",
    "print('AUC-ROC модели:', roc_auc_score(target_valid, probabilities_one_lrb))"
   ]
  },
  {
   "cell_type": "code",
   "execution_count": 284,
   "metadata": {},
   "outputs": [
    {
     "name": "stdout",
     "output_type": "stream",
     "text": [
      "Лучшая F-мера 0.48840048840048833 cо значением глубины = 1\n",
      "Полнота: 0.5167958656330749\n",
      "Точность: 0.46296296296296297\n"
     ]
    }
   ],
   "source": [
    "# Дерево решений с учетом балансировки классов\n",
    "best_model_dtb = None\n",
    "best_result_dtb = 0\n",
    "best_depth_dtb = 0\n",
    "for depth in range(1, 50):\n",
    "    model_dtb = DecisionTreeClassifier(random_state=12345, max_depth=depth, class_weight='balanced')\n",
    "    model_dtb.fit(features_train, target_train)\n",
    "    predicted_dtb = model_dt.predict(features_valid)\n",
    "    result_dtb = f1_score(target_valid, predicted_dtb)\n",
    "    if best_result_dtb < result_dtb:\n",
    "        best_result_dtb = result_dtb\n",
    "        best_depth_dtb = depth\n",
    "        best_model_dtb = model_dtb\n",
    "\n",
    "print(\"Лучшая F-мера\", best_result_dtb, 'cо значением глубины =', best_depth_dtb)\n",
    "print('Полнота:', recall_score(target_valid, predicted_dtb))\n",
    "print('Точность:', precision_score(target_valid, predicted_dtb))"
   ]
  },
  {
   "cell_type": "code",
   "execution_count": 211,
   "metadata": {},
   "outputs": [],
   "source": [
    "probabilities_dtb = model_dtb.predict_proba(features_valid)\n",
    "probabilities_one_dtb = probabilities_dtb[:, 1]"
   ]
  },
  {
   "cell_type": "code",
   "execution_count": 212,
   "metadata": {},
   "outputs": [
    {
     "data": {
      "image/png": "[encoded data removed]",
      "text/plain": [
       "<Figure size 432x432 with 1 Axes>"
      ]
     },
     "metadata": {
      "needs_background": "light"
     },
     "output_type": "display_data"
    }
   ],
   "source": [
    "# Построим ROC - кривую\n",
    "fpr, tpr, thresholds = roc_curve(target_valid, probabilities_one_dtb)\n",
    "plt.figure(figsize=(6,6))\n",
    "\n",
    "plt.plot(fpr, tpr,  color='red')\n",
    "plt.plot([0, 1], [0, 1], linestyle='--')\n",
    "plt.title('ROC - кривая')\n",
    "plt.xlabel('fpr False Positive Rate')\n",
    "plt.ylabel('tpr True Positive Rate')\n",
    "plt.show()"
   ]
  },
  {
   "cell_type": "code",
   "execution_count": 213,
   "metadata": {},
   "outputs": [
    {
     "name": "stdout",
     "output_type": "stream",
     "text": [
      "AUC-ROC модели: 0.6827080039280331\n"
     ]
    }
   ],
   "source": [
    "# посчитаем AUC-ROC, чтобы выявить как сильно модель отличается от случайной\n",
    "\n",
    "print('AUC-ROC модели:', roc_auc_score(target_valid, probabilities_one_dtb))"
   ]
  },
  {
   "cell_type": "code",
   "execution_count": 262,
   "metadata": {},
   "outputs": [
    {
     "name": "stdout",
     "output_type": "stream",
     "text": [
      "Лучшая F-мера 0.625 при глубине = 9 и количестве деревьев = 61\n",
      "Полнота: 0.43669250645994834\n",
      "Точность: 0.7412280701754386\n",
      "CPU times: user 43 s, sys: 116 ms, total: 43.1 s\n",
      "Wall time: 43.1 s\n"
     ]
    }
   ],
   "source": [
    "%%time\n",
    "# случайный лес с учетом балансировки классов\n",
    "rfb_data = pd.DataFrame(columns=['depth', 'n_est', 'f1']) # новая таблица для гиперпараметров\n",
    "best_model_rfb = None\n",
    "best_result_rfb = 0\n",
    "best_depth = 0\n",
    "best_est = 0\n",
    "\n",
    "for estimator in range(1, 100, 10):\n",
    "    for depth in range(1, 20):\n",
    "        model_rfb =  RandomForestClassifier(random_state=12345, n_estimators=estimator, max_depth = depth, class_weight='balanced')\n",
    "        model_rfb.fit(features_train, target_train)\n",
    "        predicted_rfb = model_rfb.predict(features_valid)\n",
    "        result_rfb = f1_score(target_valid, predicted_rfb) \n",
    "        new_row = pd.Series(data={'depth': depth, 'n_est': estimator, 'f1': result_rfb}) # строки\n",
    "        rfb_data = rfb_data.append(new_row,ignore_index=True)\n",
    "        if result_rfb > best_result_rfb:\n",
    "            best_model_rfb = model_rfb\n",
    "            best_result_rfb = result_rfb\n",
    "            best_depth = depth\n",
    "            best_est = estimator\n",
    "\n",
    "print(\"Лучшая F-мера\", best_result_rfb, 'при глубине = {0} и количестве деревьев = {1}'.format(best_depth, best_est))\n",
    "print('Полнота:', recall_score(target_valid, predicted_rfb))\n",
    "print('Точность:', precision_score(target_valid, predicted_rfb))"
   ]
  },
  {
   "cell_type": "code",
   "execution_count": 269,
   "metadata": {},
   "outputs": [],
   "source": [
    "pd.set_option('display.max_rows', None)"
   ]
  },
  {
   "cell_type": "code",
   "execution_count": 270,
   "metadata": {},
   "outputs": [
    {
     "data": {
      "text/html": [
       "<div>\n",
       "<style scoped>\n",
       "    .dataframe tbody tr th:only-of-type {\n",
       "        vertical-align: middle;\n",
       "    }\n",
       "\n",
       "    .dataframe tbody tr th {\n",
       "        vertical-align: top;\n",
       "    }\n",
       "\n",
       "    .dataframe thead th {\n",
       "        text-align: right;\n",
       "    }\n",
       "</style>\n",
       "<table border=\"1\" class=\"dataframe\">\n",
       "  <thead>\n",
       "    <tr style=\"text-align: right;\">\n",
       "      <th></th>\n",
       "      <th>depth</th>\n",
       "      <th>n_est</th>\n",
       "      <th>f1</th>\n",
       "    </tr>\n",
       "  </thead>\n",
       "  <tbody>\n",
       "    <tr>\n",
       "      <th>0</th>\n",
       "      <td>1.0</td>\n",
       "      <td>1.0</td>\n",
       "      <td>0.293737</td>\n",
       "    </tr>\n",
       "    <tr>\n",
       "      <th>1</th>\n",
       "      <td>2.0</td>\n",
       "      <td>1.0</td>\n",
       "      <td>0.369588</td>\n",
       "    </tr>\n",
       "    <tr>\n",
       "      <th>2</th>\n",
       "      <td>3.0</td>\n",
       "      <td>1.0</td>\n",
       "      <td>0.450109</td>\n",
       "    </tr>\n",
       "    <tr>\n",
       "      <th>3</th>\n",
       "      <td>4.0</td>\n",
       "      <td>1.0</td>\n",
       "      <td>0.551648</td>\n",
       "    </tr>\n",
       "    <tr>\n",
       "      <th>4</th>\n",
       "      <td>5.0</td>\n",
       "      <td>1.0</td>\n",
       "      <td>0.538373</td>\n",
       "    </tr>\n",
       "    <tr>\n",
       "      <th>5</th>\n",
       "      <td>6.0</td>\n",
       "      <td>1.0</td>\n",
       "      <td>0.514184</td>\n",
       "    </tr>\n",
       "    <tr>\n",
       "      <th>6</th>\n",
       "      <td>7.0</td>\n",
       "      <td>1.0</td>\n",
       "      <td>0.511542</td>\n",
       "    </tr>\n",
       "    <tr>\n",
       "      <th>7</th>\n",
       "      <td>8.0</td>\n",
       "      <td>1.0</td>\n",
       "      <td>0.521087</td>\n",
       "    </tr>\n",
       "    <tr>\n",
       "      <th>8</th>\n",
       "      <td>9.0</td>\n",
       "      <td>1.0</td>\n",
       "      <td>0.532632</td>\n",
       "    </tr>\n",
       "    <tr>\n",
       "      <th>9</th>\n",
       "      <td>10.0</td>\n",
       "      <td>1.0</td>\n",
       "      <td>0.541275</td>\n",
       "    </tr>\n",
       "    <tr>\n",
       "      <th>10</th>\n",
       "      <td>11.0</td>\n",
       "      <td>1.0</td>\n",
       "      <td>0.520958</td>\n",
       "    </tr>\n",
       "    <tr>\n",
       "      <th>11</th>\n",
       "      <td>12.0</td>\n",
       "      <td>1.0</td>\n",
       "      <td>0.498982</td>\n",
       "    </tr>\n",
       "    <tr>\n",
       "      <th>12</th>\n",
       "      <td>13.0</td>\n",
       "      <td>1.0</td>\n",
       "      <td>0.492662</td>\n",
       "    </tr>\n",
       "    <tr>\n",
       "      <th>13</th>\n",
       "      <td>14.0</td>\n",
       "      <td>1.0</td>\n",
       "      <td>0.488499</td>\n",
       "    </tr>\n",
       "    <tr>\n",
       "      <th>14</th>\n",
       "      <td>15.0</td>\n",
       "      <td>1.0</td>\n",
       "      <td>0.490000</td>\n",
       "    </tr>\n",
       "    <tr>\n",
       "      <th>15</th>\n",
       "      <td>16.0</td>\n",
       "      <td>1.0</td>\n",
       "      <td>0.461347</td>\n",
       "    </tr>\n",
       "    <tr>\n",
       "      <th>16</th>\n",
       "      <td>17.0</td>\n",
       "      <td>1.0</td>\n",
       "      <td>0.467312</td>\n",
       "    </tr>\n",
       "    <tr>\n",
       "      <th>17</th>\n",
       "      <td>18.0</td>\n",
       "      <td>1.0</td>\n",
       "      <td>0.486005</td>\n",
       "    </tr>\n",
       "    <tr>\n",
       "      <th>18</th>\n",
       "      <td>19.0</td>\n",
       "      <td>1.0</td>\n",
       "      <td>0.480697</td>\n",
       "    </tr>\n",
       "    <tr>\n",
       "      <th>19</th>\n",
       "      <td>1.0</td>\n",
       "      <td>11.0</td>\n",
       "      <td>0.414343</td>\n",
       "    </tr>\n",
       "    <tr>\n",
       "      <th>20</th>\n",
       "      <td>2.0</td>\n",
       "      <td>11.0</td>\n",
       "      <td>0.557411</td>\n",
       "    </tr>\n",
       "    <tr>\n",
       "      <th>21</th>\n",
       "      <td>3.0</td>\n",
       "      <td>11.0</td>\n",
       "      <td>0.543278</td>\n",
       "    </tr>\n",
       "    <tr>\n",
       "      <th>22</th>\n",
       "      <td>4.0</td>\n",
       "      <td>11.0</td>\n",
       "      <td>0.569072</td>\n",
       "    </tr>\n",
       "    <tr>\n",
       "      <th>23</th>\n",
       "      <td>5.0</td>\n",
       "      <td>11.0</td>\n",
       "      <td>0.588113</td>\n",
       "    </tr>\n",
       "    <tr>\n",
       "      <th>24</th>\n",
       "      <td>6.0</td>\n",
       "      <td>11.0</td>\n",
       "      <td>0.589474</td>\n",
       "    </tr>\n",
       "    <tr>\n",
       "      <th>25</th>\n",
       "      <td>7.0</td>\n",
       "      <td>11.0</td>\n",
       "      <td>0.581197</td>\n",
       "    </tr>\n",
       "    <tr>\n",
       "      <th>26</th>\n",
       "      <td>8.0</td>\n",
       "      <td>11.0</td>\n",
       "      <td>0.585475</td>\n",
       "    </tr>\n",
       "    <tr>\n",
       "      <th>27</th>\n",
       "      <td>9.0</td>\n",
       "      <td>11.0</td>\n",
       "      <td>0.581158</td>\n",
       "    </tr>\n",
       "    <tr>\n",
       "      <th>28</th>\n",
       "      <td>10.0</td>\n",
       "      <td>11.0</td>\n",
       "      <td>0.588378</td>\n",
       "    </tr>\n",
       "    <tr>\n",
       "      <th>29</th>\n",
       "      <td>11.0</td>\n",
       "      <td>11.0</td>\n",
       "      <td>0.583548</td>\n",
       "    </tr>\n",
       "    <tr>\n",
       "      <th>30</th>\n",
       "      <td>12.0</td>\n",
       "      <td>11.0</td>\n",
       "      <td>0.580132</td>\n",
       "    </tr>\n",
       "    <tr>\n",
       "      <th>31</th>\n",
       "      <td>13.0</td>\n",
       "      <td>11.0</td>\n",
       "      <td>0.575419</td>\n",
       "    </tr>\n",
       "    <tr>\n",
       "      <th>32</th>\n",
       "      <td>14.0</td>\n",
       "      <td>11.0</td>\n",
       "      <td>0.540146</td>\n",
       "    </tr>\n",
       "    <tr>\n",
       "      <th>33</th>\n",
       "      <td>15.0</td>\n",
       "      <td>11.0</td>\n",
       "      <td>0.557721</td>\n",
       "    </tr>\n",
       "    <tr>\n",
       "      <th>34</th>\n",
       "      <td>16.0</td>\n",
       "      <td>11.0</td>\n",
       "      <td>0.554217</td>\n",
       "    </tr>\n",
       "    <tr>\n",
       "      <th>35</th>\n",
       "      <td>17.0</td>\n",
       "      <td>11.0</td>\n",
       "      <td>0.539185</td>\n",
       "    </tr>\n",
       "    <tr>\n",
       "      <th>36</th>\n",
       "      <td>18.0</td>\n",
       "      <td>11.0</td>\n",
       "      <td>0.550232</td>\n",
       "    </tr>\n",
       "    <tr>\n",
       "      <th>37</th>\n",
       "      <td>19.0</td>\n",
       "      <td>11.0</td>\n",
       "      <td>0.546012</td>\n",
       "    </tr>\n",
       "    <tr>\n",
       "      <th>38</th>\n",
       "      <td>1.0</td>\n",
       "      <td>21.0</td>\n",
       "      <td>0.507194</td>\n",
       "    </tr>\n",
       "    <tr>\n",
       "      <th>39</th>\n",
       "      <td>2.0</td>\n",
       "      <td>21.0</td>\n",
       "      <td>0.548757</td>\n",
       "    </tr>\n",
       "    <tr>\n",
       "      <th>40</th>\n",
       "      <td>3.0</td>\n",
       "      <td>21.0</td>\n",
       "      <td>0.545455</td>\n",
       "    </tr>\n",
       "    <tr>\n",
       "      <th>41</th>\n",
       "      <td>4.0</td>\n",
       "      <td>21.0</td>\n",
       "      <td>0.569416</td>\n",
       "    </tr>\n",
       "    <tr>\n",
       "      <th>42</th>\n",
       "      <td>5.0</td>\n",
       "      <td>21.0</td>\n",
       "      <td>0.573499</td>\n",
       "    </tr>\n",
       "    <tr>\n",
       "      <th>43</th>\n",
       "      <td>6.0</td>\n",
       "      <td>21.0</td>\n",
       "      <td>0.586864</td>\n",
       "    </tr>\n",
       "    <tr>\n",
       "      <th>44</th>\n",
       "      <td>7.0</td>\n",
       "      <td>21.0</td>\n",
       "      <td>0.597374</td>\n",
       "    </tr>\n",
       "    <tr>\n",
       "      <th>45</th>\n",
       "      <td>8.0</td>\n",
       "      <td>21.0</td>\n",
       "      <td>0.590909</td>\n",
       "    </tr>\n",
       "    <tr>\n",
       "      <th>46</th>\n",
       "      <td>9.0</td>\n",
       "      <td>21.0</td>\n",
       "      <td>0.611511</td>\n",
       "    </tr>\n",
       "    <tr>\n",
       "      <th>47</th>\n",
       "      <td>10.0</td>\n",
       "      <td>21.0</td>\n",
       "      <td>0.596977</td>\n",
       "    </tr>\n",
       "    <tr>\n",
       "      <th>48</th>\n",
       "      <td>11.0</td>\n",
       "      <td>21.0</td>\n",
       "      <td>0.585106</td>\n",
       "    </tr>\n",
       "    <tr>\n",
       "      <th>49</th>\n",
       "      <td>12.0</td>\n",
       "      <td>21.0</td>\n",
       "      <td>0.584362</td>\n",
       "    </tr>\n",
       "    <tr>\n",
       "      <th>50</th>\n",
       "      <td>13.0</td>\n",
       "      <td>21.0</td>\n",
       "      <td>0.590585</td>\n",
       "    </tr>\n",
       "    <tr>\n",
       "      <th>51</th>\n",
       "      <td>14.0</td>\n",
       "      <td>21.0</td>\n",
       "      <td>0.552672</td>\n",
       "    </tr>\n",
       "    <tr>\n",
       "      <th>52</th>\n",
       "      <td>15.0</td>\n",
       "      <td>21.0</td>\n",
       "      <td>0.559876</td>\n",
       "    </tr>\n",
       "    <tr>\n",
       "      <th>53</th>\n",
       "      <td>16.0</td>\n",
       "      <td>21.0</td>\n",
       "      <td>0.548589</td>\n",
       "    </tr>\n",
       "    <tr>\n",
       "      <th>54</th>\n",
       "      <td>17.0</td>\n",
       "      <td>21.0</td>\n",
       "      <td>0.546926</td>\n",
       "    </tr>\n",
       "    <tr>\n",
       "      <th>55</th>\n",
       "      <td>18.0</td>\n",
       "      <td>21.0</td>\n",
       "      <td>0.546900</td>\n",
       "    </tr>\n",
       "    <tr>\n",
       "      <th>56</th>\n",
       "      <td>19.0</td>\n",
       "      <td>21.0</td>\n",
       "      <td>0.548031</td>\n",
       "    </tr>\n",
       "    <tr>\n",
       "      <th>57</th>\n",
       "      <td>1.0</td>\n",
       "      <td>31.0</td>\n",
       "      <td>0.495986</td>\n",
       "    </tr>\n",
       "    <tr>\n",
       "      <th>58</th>\n",
       "      <td>2.0</td>\n",
       "      <td>31.0</td>\n",
       "      <td>0.556000</td>\n",
       "    </tr>\n",
       "    <tr>\n",
       "      <th>59</th>\n",
       "      <td>3.0</td>\n",
       "      <td>31.0</td>\n",
       "      <td>0.549057</td>\n",
       "    </tr>\n",
       "    <tr>\n",
       "      <th>60</th>\n",
       "      <td>4.0</td>\n",
       "      <td>31.0</td>\n",
       "      <td>0.569458</td>\n",
       "    </tr>\n",
       "    <tr>\n",
       "      <th>61</th>\n",
       "      <td>5.0</td>\n",
       "      <td>31.0</td>\n",
       "      <td>0.579979</td>\n",
       "    </tr>\n",
       "    <tr>\n",
       "      <th>62</th>\n",
       "      <td>6.0</td>\n",
       "      <td>31.0</td>\n",
       "      <td>0.589583</td>\n",
       "    </tr>\n",
       "    <tr>\n",
       "      <th>63</th>\n",
       "      <td>7.0</td>\n",
       "      <td>31.0</td>\n",
       "      <td>0.598050</td>\n",
       "    </tr>\n",
       "    <tr>\n",
       "      <th>64</th>\n",
       "      <td>8.0</td>\n",
       "      <td>31.0</td>\n",
       "      <td>0.596218</td>\n",
       "    </tr>\n",
       "    <tr>\n",
       "      <th>65</th>\n",
       "      <td>9.0</td>\n",
       "      <td>31.0</td>\n",
       "      <td>0.609639</td>\n",
       "    </tr>\n",
       "    <tr>\n",
       "      <th>66</th>\n",
       "      <td>10.0</td>\n",
       "      <td>31.0</td>\n",
       "      <td>0.604768</td>\n",
       "    </tr>\n",
       "    <tr>\n",
       "      <th>67</th>\n",
       "      <td>11.0</td>\n",
       "      <td>31.0</td>\n",
       "      <td>0.585561</td>\n",
       "    </tr>\n",
       "    <tr>\n",
       "      <th>68</th>\n",
       "      <td>12.0</td>\n",
       "      <td>31.0</td>\n",
       "      <td>0.586445</td>\n",
       "    </tr>\n",
       "    <tr>\n",
       "      <th>69</th>\n",
       "      <td>13.0</td>\n",
       "      <td>31.0</td>\n",
       "      <td>0.576369</td>\n",
       "    </tr>\n",
       "    <tr>\n",
       "      <th>70</th>\n",
       "      <td>14.0</td>\n",
       "      <td>31.0</td>\n",
       "      <td>0.543511</td>\n",
       "    </tr>\n",
       "    <tr>\n",
       "      <th>71</th>\n",
       "      <td>15.0</td>\n",
       "      <td>31.0</td>\n",
       "      <td>0.553323</td>\n",
       "    </tr>\n",
       "    <tr>\n",
       "      <th>72</th>\n",
       "      <td>16.0</td>\n",
       "      <td>31.0</td>\n",
       "      <td>0.542320</td>\n",
       "    </tr>\n",
       "    <tr>\n",
       "      <th>73</th>\n",
       "      <td>17.0</td>\n",
       "      <td>31.0</td>\n",
       "      <td>0.550725</td>\n",
       "    </tr>\n",
       "    <tr>\n",
       "      <th>74</th>\n",
       "      <td>18.0</td>\n",
       "      <td>31.0</td>\n",
       "      <td>0.557845</td>\n",
       "    </tr>\n",
       "    <tr>\n",
       "      <th>75</th>\n",
       "      <td>19.0</td>\n",
       "      <td>31.0</td>\n",
       "      <td>0.568254</td>\n",
       "    </tr>\n",
       "    <tr>\n",
       "      <th>76</th>\n",
       "      <td>1.0</td>\n",
       "      <td>41.0</td>\n",
       "      <td>0.501779</td>\n",
       "    </tr>\n",
       "    <tr>\n",
       "      <th>77</th>\n",
       "      <td>2.0</td>\n",
       "      <td>41.0</td>\n",
       "      <td>0.552553</td>\n",
       "    </tr>\n",
       "    <tr>\n",
       "      <th>78</th>\n",
       "      <td>3.0</td>\n",
       "      <td>41.0</td>\n",
       "      <td>0.543726</td>\n",
       "    </tr>\n",
       "    <tr>\n",
       "      <th>79</th>\n",
       "      <td>4.0</td>\n",
       "      <td>41.0</td>\n",
       "      <td>0.573399</td>\n",
       "    </tr>\n",
       "    <tr>\n",
       "      <th>80</th>\n",
       "      <td>5.0</td>\n",
       "      <td>41.0</td>\n",
       "      <td>0.582485</td>\n",
       "    </tr>\n",
       "    <tr>\n",
       "      <th>81</th>\n",
       "      <td>6.0</td>\n",
       "      <td>41.0</td>\n",
       "      <td>0.579111</td>\n",
       "    </tr>\n",
       "    <tr>\n",
       "      <th>82</th>\n",
       "      <td>7.0</td>\n",
       "      <td>41.0</td>\n",
       "      <td>0.595339</td>\n",
       "    </tr>\n",
       "    <tr>\n",
       "      <th>83</th>\n",
       "      <td>8.0</td>\n",
       "      <td>41.0</td>\n",
       "      <td>0.595369</td>\n",
       "    </tr>\n",
       "    <tr>\n",
       "      <th>84</th>\n",
       "      <td>9.0</td>\n",
       "      <td>41.0</td>\n",
       "      <td>0.615202</td>\n",
       "    </tr>\n",
       "    <tr>\n",
       "      <th>85</th>\n",
       "      <td>10.0</td>\n",
       "      <td>41.0</td>\n",
       "      <td>0.592500</td>\n",
       "    </tr>\n",
       "    <tr>\n",
       "      <th>86</th>\n",
       "      <td>11.0</td>\n",
       "      <td>41.0</td>\n",
       "      <td>0.588394</td>\n",
       "    </tr>\n",
       "    <tr>\n",
       "      <th>87</th>\n",
       "      <td>12.0</td>\n",
       "      <td>41.0</td>\n",
       "      <td>0.585915</td>\n",
       "    </tr>\n",
       "    <tr>\n",
       "      <th>88</th>\n",
       "      <td>13.0</td>\n",
       "      <td>41.0</td>\n",
       "      <td>0.573082</td>\n",
       "    </tr>\n",
       "    <tr>\n",
       "      <th>89</th>\n",
       "      <td>14.0</td>\n",
       "      <td>41.0</td>\n",
       "      <td>0.554545</td>\n",
       "    </tr>\n",
       "    <tr>\n",
       "      <th>90</th>\n",
       "      <td>15.0</td>\n",
       "      <td>41.0</td>\n",
       "      <td>0.561129</td>\n",
       "    </tr>\n",
       "    <tr>\n",
       "      <th>91</th>\n",
       "      <td>16.0</td>\n",
       "      <td>41.0</td>\n",
       "      <td>0.552050</td>\n",
       "    </tr>\n",
       "    <tr>\n",
       "      <th>92</th>\n",
       "      <td>17.0</td>\n",
       "      <td>41.0</td>\n",
       "      <td>0.558730</td>\n",
       "    </tr>\n",
       "    <tr>\n",
       "      <th>93</th>\n",
       "      <td>18.0</td>\n",
       "      <td>41.0</td>\n",
       "      <td>0.551282</td>\n",
       "    </tr>\n",
       "    <tr>\n",
       "      <th>94</th>\n",
       "      <td>19.0</td>\n",
       "      <td>41.0</td>\n",
       "      <td>0.555377</td>\n",
       "    </tr>\n",
       "    <tr>\n",
       "      <th>95</th>\n",
       "      <td>1.0</td>\n",
       "      <td>51.0</td>\n",
       "      <td>0.514554</td>\n",
       "    </tr>\n",
       "    <tr>\n",
       "      <th>96</th>\n",
       "      <td>2.0</td>\n",
       "      <td>51.0</td>\n",
       "      <td>0.552063</td>\n",
       "    </tr>\n",
       "    <tr>\n",
       "      <th>97</th>\n",
       "      <td>3.0</td>\n",
       "      <td>51.0</td>\n",
       "      <td>0.550476</td>\n",
       "    </tr>\n",
       "    <tr>\n",
       "      <th>98</th>\n",
       "      <td>4.0</td>\n",
       "      <td>51.0</td>\n",
       "      <td>0.572271</td>\n",
       "    </tr>\n",
       "    <tr>\n",
       "      <th>99</th>\n",
       "      <td>5.0</td>\n",
       "      <td>51.0</td>\n",
       "      <td>0.583838</td>\n",
       "    </tr>\n",
       "    <tr>\n",
       "      <th>100</th>\n",
       "      <td>6.0</td>\n",
       "      <td>51.0</td>\n",
       "      <td>0.589212</td>\n",
       "    </tr>\n",
       "    <tr>\n",
       "      <th>101</th>\n",
       "      <td>7.0</td>\n",
       "      <td>51.0</td>\n",
       "      <td>0.588235</td>\n",
       "    </tr>\n",
       "    <tr>\n",
       "      <th>102</th>\n",
       "      <td>8.0</td>\n",
       "      <td>51.0</td>\n",
       "      <td>0.599558</td>\n",
       "    </tr>\n",
       "    <tr>\n",
       "      <th>103</th>\n",
       "      <td>9.0</td>\n",
       "      <td>51.0</td>\n",
       "      <td>0.612634</td>\n",
       "    </tr>\n",
       "    <tr>\n",
       "      <th>104</th>\n",
       "      <td>10.0</td>\n",
       "      <td>51.0</td>\n",
       "      <td>0.604828</td>\n",
       "    </tr>\n",
       "    <tr>\n",
       "      <th>105</th>\n",
       "      <td>11.0</td>\n",
       "      <td>51.0</td>\n",
       "      <td>0.589359</td>\n",
       "    </tr>\n",
       "    <tr>\n",
       "      <th>106</th>\n",
       "      <td>12.0</td>\n",
       "      <td>51.0</td>\n",
       "      <td>0.585091</td>\n",
       "    </tr>\n",
       "    <tr>\n",
       "      <th>107</th>\n",
       "      <td>13.0</td>\n",
       "      <td>51.0</td>\n",
       "      <td>0.580175</td>\n",
       "    </tr>\n",
       "    <tr>\n",
       "      <th>108</th>\n",
       "      <td>14.0</td>\n",
       "      <td>51.0</td>\n",
       "      <td>0.554878</td>\n",
       "    </tr>\n",
       "    <tr>\n",
       "      <th>109</th>\n",
       "      <td>15.0</td>\n",
       "      <td>51.0</td>\n",
       "      <td>0.565217</td>\n",
       "    </tr>\n",
       "    <tr>\n",
       "      <th>110</th>\n",
       "      <td>16.0</td>\n",
       "      <td>51.0</td>\n",
       "      <td>0.552923</td>\n",
       "    </tr>\n",
       "    <tr>\n",
       "      <th>111</th>\n",
       "      <td>17.0</td>\n",
       "      <td>51.0</td>\n",
       "      <td>0.554487</td>\n",
       "    </tr>\n",
       "    <tr>\n",
       "      <th>112</th>\n",
       "      <td>18.0</td>\n",
       "      <td>51.0</td>\n",
       "      <td>0.544872</td>\n",
       "    </tr>\n",
       "    <tr>\n",
       "      <th>113</th>\n",
       "      <td>19.0</td>\n",
       "      <td>51.0</td>\n",
       "      <td>0.562701</td>\n",
       "    </tr>\n",
       "    <tr>\n",
       "      <th>114</th>\n",
       "      <td>1.0</td>\n",
       "      <td>61.0</td>\n",
       "      <td>0.514124</td>\n",
       "    </tr>\n",
       "    <tr>\n",
       "      <th>115</th>\n",
       "      <td>2.0</td>\n",
       "      <td>61.0</td>\n",
       "      <td>0.550725</td>\n",
       "    </tr>\n",
       "    <tr>\n",
       "      <th>116</th>\n",
       "      <td>3.0</td>\n",
       "      <td>61.0</td>\n",
       "      <td>0.548233</td>\n",
       "    </tr>\n",
       "    <tr>\n",
       "      <th>117</th>\n",
       "      <td>4.0</td>\n",
       "      <td>61.0</td>\n",
       "      <td>0.576205</td>\n",
       "    </tr>\n",
       "    <tr>\n",
       "      <th>118</th>\n",
       "      <td>5.0</td>\n",
       "      <td>61.0</td>\n",
       "      <td>0.588832</td>\n",
       "    </tr>\n",
       "    <tr>\n",
       "      <th>119</th>\n",
       "      <td>6.0</td>\n",
       "      <td>61.0</td>\n",
       "      <td>0.591667</td>\n",
       "    </tr>\n",
       "    <tr>\n",
       "      <th>120</th>\n",
       "      <td>7.0</td>\n",
       "      <td>61.0</td>\n",
       "      <td>0.591793</td>\n",
       "    </tr>\n",
       "    <tr>\n",
       "      <th>121</th>\n",
       "      <td>8.0</td>\n",
       "      <td>61.0</td>\n",
       "      <td>0.608989</td>\n",
       "    </tr>\n",
       "    <tr>\n",
       "      <th>122</th>\n",
       "      <td>9.0</td>\n",
       "      <td>61.0</td>\n",
       "      <td>0.625000</td>\n",
       "    </tr>\n",
       "    <tr>\n",
       "      <th>123</th>\n",
       "      <td>10.0</td>\n",
       "      <td>61.0</td>\n",
       "      <td>0.604061</td>\n",
       "    </tr>\n",
       "    <tr>\n",
       "      <th>124</th>\n",
       "      <td>11.0</td>\n",
       "      <td>61.0</td>\n",
       "      <td>0.586957</td>\n",
       "    </tr>\n",
       "    <tr>\n",
       "      <th>125</th>\n",
       "      <td>12.0</td>\n",
       "      <td>61.0</td>\n",
       "      <td>0.582985</td>\n",
       "    </tr>\n",
       "    <tr>\n",
       "      <th>126</th>\n",
       "      <td>13.0</td>\n",
       "      <td>61.0</td>\n",
       "      <td>0.585652</td>\n",
       "    </tr>\n",
       "    <tr>\n",
       "      <th>127</th>\n",
       "      <td>14.0</td>\n",
       "      <td>61.0</td>\n",
       "      <td>0.561457</td>\n",
       "    </tr>\n",
       "    <tr>\n",
       "      <th>128</th>\n",
       "      <td>15.0</td>\n",
       "      <td>61.0</td>\n",
       "      <td>0.554331</td>\n",
       "    </tr>\n",
       "    <tr>\n",
       "      <th>129</th>\n",
       "      <td>16.0</td>\n",
       "      <td>61.0</td>\n",
       "      <td>0.557121</td>\n",
       "    </tr>\n",
       "    <tr>\n",
       "      <th>130</th>\n",
       "      <td>17.0</td>\n",
       "      <td>61.0</td>\n",
       "      <td>0.554487</td>\n",
       "    </tr>\n",
       "    <tr>\n",
       "      <th>131</th>\n",
       "      <td>18.0</td>\n",
       "      <td>61.0</td>\n",
       "      <td>0.542536</td>\n",
       "    </tr>\n",
       "    <tr>\n",
       "      <th>132</th>\n",
       "      <td>19.0</td>\n",
       "      <td>61.0</td>\n",
       "      <td>0.546042</td>\n",
       "    </tr>\n",
       "    <tr>\n",
       "      <th>133</th>\n",
       "      <td>1.0</td>\n",
       "      <td>71.0</td>\n",
       "      <td>0.504488</td>\n",
       "    </tr>\n",
       "    <tr>\n",
       "      <th>134</th>\n",
       "      <td>2.0</td>\n",
       "      <td>71.0</td>\n",
       "      <td>0.547867</td>\n",
       "    </tr>\n",
       "    <tr>\n",
       "      <th>135</th>\n",
       "      <td>3.0</td>\n",
       "      <td>71.0</td>\n",
       "      <td>0.552908</td>\n",
       "    </tr>\n",
       "    <tr>\n",
       "      <th>136</th>\n",
       "      <td>4.0</td>\n",
       "      <td>71.0</td>\n",
       "      <td>0.570870</td>\n",
       "    </tr>\n",
       "    <tr>\n",
       "      <th>137</th>\n",
       "      <td>5.0</td>\n",
       "      <td>71.0</td>\n",
       "      <td>0.577236</td>\n",
       "    </tr>\n",
       "    <tr>\n",
       "      <th>138</th>\n",
       "      <td>6.0</td>\n",
       "      <td>71.0</td>\n",
       "      <td>0.589583</td>\n",
       "    </tr>\n",
       "    <tr>\n",
       "      <th>139</th>\n",
       "      <td>7.0</td>\n",
       "      <td>71.0</td>\n",
       "      <td>0.596983</td>\n",
       "    </tr>\n",
       "    <tr>\n",
       "      <th>140</th>\n",
       "      <td>8.0</td>\n",
       "      <td>71.0</td>\n",
       "      <td>0.606742</td>\n",
       "    </tr>\n",
       "    <tr>\n",
       "      <th>141</th>\n",
       "      <td>9.0</td>\n",
       "      <td>71.0</td>\n",
       "      <td>0.617021</td>\n",
       "    </tr>\n",
       "    <tr>\n",
       "      <th>142</th>\n",
       "      <td>10.0</td>\n",
       "      <td>71.0</td>\n",
       "      <td>0.610127</td>\n",
       "    </tr>\n",
       "    <tr>\n",
       "      <th>143</th>\n",
       "      <td>11.0</td>\n",
       "      <td>71.0</td>\n",
       "      <td>0.604336</td>\n",
       "    </tr>\n",
       "    <tr>\n",
       "      <th>144</th>\n",
       "      <td>12.0</td>\n",
       "      <td>71.0</td>\n",
       "      <td>0.591549</td>\n",
       "    </tr>\n",
       "    <tr>\n",
       "      <th>145</th>\n",
       "      <td>13.0</td>\n",
       "      <td>71.0</td>\n",
       "      <td>0.578635</td>\n",
       "    </tr>\n",
       "    <tr>\n",
       "      <th>146</th>\n",
       "      <td>14.0</td>\n",
       "      <td>71.0</td>\n",
       "      <td>0.558282</td>\n",
       "    </tr>\n",
       "    <tr>\n",
       "      <th>147</th>\n",
       "      <td>15.0</td>\n",
       "      <td>71.0</td>\n",
       "      <td>0.556082</td>\n",
       "    </tr>\n",
       "    <tr>\n",
       "      <th>148</th>\n",
       "      <td>16.0</td>\n",
       "      <td>71.0</td>\n",
       "      <td>0.556962</td>\n",
       "    </tr>\n",
       "    <tr>\n",
       "      <th>149</th>\n",
       "      <td>17.0</td>\n",
       "      <td>71.0</td>\n",
       "      <td>0.552716</td>\n",
       "    </tr>\n",
       "    <tr>\n",
       "      <th>150</th>\n",
       "      <td>18.0</td>\n",
       "      <td>71.0</td>\n",
       "      <td>0.547504</td>\n",
       "    </tr>\n",
       "    <tr>\n",
       "      <th>151</th>\n",
       "      <td>19.0</td>\n",
       "      <td>71.0</td>\n",
       "      <td>0.543974</td>\n",
       "    </tr>\n",
       "    <tr>\n",
       "      <th>152</th>\n",
       "      <td>1.0</td>\n",
       "      <td>81.0</td>\n",
       "      <td>0.518727</td>\n",
       "    </tr>\n",
       "    <tr>\n",
       "      <th>153</th>\n",
       "      <td>2.0</td>\n",
       "      <td>81.0</td>\n",
       "      <td>0.550143</td>\n",
       "    </tr>\n",
       "    <tr>\n",
       "      <th>154</th>\n",
       "      <td>3.0</td>\n",
       "      <td>81.0</td>\n",
       "      <td>0.556202</td>\n",
       "    </tr>\n",
       "    <tr>\n",
       "      <th>155</th>\n",
       "      <td>4.0</td>\n",
       "      <td>81.0</td>\n",
       "      <td>0.569185</td>\n",
       "    </tr>\n",
       "    <tr>\n",
       "      <th>156</th>\n",
       "      <td>5.0</td>\n",
       "      <td>81.0</td>\n",
       "      <td>0.584362</td>\n",
       "    </tr>\n",
       "    <tr>\n",
       "      <th>157</th>\n",
       "      <td>6.0</td>\n",
       "      <td>81.0</td>\n",
       "      <td>0.590198</td>\n",
       "    </tr>\n",
       "    <tr>\n",
       "      <th>158</th>\n",
       "      <td>7.0</td>\n",
       "      <td>81.0</td>\n",
       "      <td>0.601081</td>\n",
       "    </tr>\n",
       "    <tr>\n",
       "      <th>159</th>\n",
       "      <td>8.0</td>\n",
       "      <td>81.0</td>\n",
       "      <td>0.608889</td>\n",
       "    </tr>\n",
       "    <tr>\n",
       "      <th>160</th>\n",
       "      <td>9.0</td>\n",
       "      <td>81.0</td>\n",
       "      <td>0.617577</td>\n",
       "    </tr>\n",
       "    <tr>\n",
       "      <th>161</th>\n",
       "      <td>10.0</td>\n",
       "      <td>81.0</td>\n",
       "      <td>0.609137</td>\n",
       "    </tr>\n",
       "    <tr>\n",
       "      <th>162</th>\n",
       "      <td>11.0</td>\n",
       "      <td>81.0</td>\n",
       "      <td>0.602703</td>\n",
       "    </tr>\n",
       "    <tr>\n",
       "      <th>163</th>\n",
       "      <td>12.0</td>\n",
       "      <td>81.0</td>\n",
       "      <td>0.596639</td>\n",
       "    </tr>\n",
       "    <tr>\n",
       "      <th>164</th>\n",
       "      <td>13.0</td>\n",
       "      <td>81.0</td>\n",
       "      <td>0.586156</td>\n",
       "    </tr>\n",
       "    <tr>\n",
       "      <th>165</th>\n",
       "      <td>14.0</td>\n",
       "      <td>81.0</td>\n",
       "      <td>0.550989</td>\n",
       "    </tr>\n",
       "    <tr>\n",
       "      <th>166</th>\n",
       "      <td>15.0</td>\n",
       "      <td>81.0</td>\n",
       "      <td>0.543444</td>\n",
       "    </tr>\n",
       "    <tr>\n",
       "      <th>167</th>\n",
       "      <td>16.0</td>\n",
       "      <td>81.0</td>\n",
       "      <td>0.564184</td>\n",
       "    </tr>\n",
       "    <tr>\n",
       "      <th>168</th>\n",
       "      <td>17.0</td>\n",
       "      <td>81.0</td>\n",
       "      <td>0.557692</td>\n",
       "    </tr>\n",
       "    <tr>\n",
       "      <th>169</th>\n",
       "      <td>18.0</td>\n",
       "      <td>81.0</td>\n",
       "      <td>0.541935</td>\n",
       "    </tr>\n",
       "    <tr>\n",
       "      <th>170</th>\n",
       "      <td>19.0</td>\n",
       "      <td>81.0</td>\n",
       "      <td>0.545752</td>\n",
       "    </tr>\n",
       "    <tr>\n",
       "      <th>171</th>\n",
       "      <td>1.0</td>\n",
       "      <td>91.0</td>\n",
       "      <td>0.516494</td>\n",
       "    </tr>\n",
       "    <tr>\n",
       "      <th>172</th>\n",
       "      <td>2.0</td>\n",
       "      <td>91.0</td>\n",
       "      <td>0.548908</td>\n",
       "    </tr>\n",
       "    <tr>\n",
       "      <th>173</th>\n",
       "      <td>3.0</td>\n",
       "      <td>91.0</td>\n",
       "      <td>0.558767</td>\n",
       "    </tr>\n",
       "    <tr>\n",
       "      <th>174</th>\n",
       "      <td>4.0</td>\n",
       "      <td>91.0</td>\n",
       "      <td>0.569170</td>\n",
       "    </tr>\n",
       "    <tr>\n",
       "      <th>175</th>\n",
       "      <td>5.0</td>\n",
       "      <td>91.0</td>\n",
       "      <td>0.584362</td>\n",
       "    </tr>\n",
       "    <tr>\n",
       "      <th>176</th>\n",
       "      <td>6.0</td>\n",
       "      <td>91.0</td>\n",
       "      <td>0.589099</td>\n",
       "    </tr>\n",
       "    <tr>\n",
       "      <th>177</th>\n",
       "      <td>7.0</td>\n",
       "      <td>91.0</td>\n",
       "      <td>0.599356</td>\n",
       "    </tr>\n",
       "    <tr>\n",
       "      <th>178</th>\n",
       "      <td>8.0</td>\n",
       "      <td>91.0</td>\n",
       "      <td>0.607539</td>\n",
       "    </tr>\n",
       "    <tr>\n",
       "      <th>179</th>\n",
       "      <td>9.0</td>\n",
       "      <td>91.0</td>\n",
       "      <td>0.612827</td>\n",
       "    </tr>\n",
       "    <tr>\n",
       "      <th>180</th>\n",
       "      <td>10.0</td>\n",
       "      <td>91.0</td>\n",
       "      <td>0.603774</td>\n",
       "    </tr>\n",
       "    <tr>\n",
       "      <th>181</th>\n",
       "      <td>11.0</td>\n",
       "      <td>91.0</td>\n",
       "      <td>0.610215</td>\n",
       "    </tr>\n",
       "    <tr>\n",
       "      <th>182</th>\n",
       "      <td>12.0</td>\n",
       "      <td>91.0</td>\n",
       "      <td>0.593838</td>\n",
       "    </tr>\n",
       "    <tr>\n",
       "      <th>183</th>\n",
       "      <td>13.0</td>\n",
       "      <td>91.0</td>\n",
       "      <td>0.574815</td>\n",
       "    </tr>\n",
       "    <tr>\n",
       "      <th>184</th>\n",
       "      <td>14.0</td>\n",
       "      <td>91.0</td>\n",
       "      <td>0.561457</td>\n",
       "    </tr>\n",
       "    <tr>\n",
       "      <th>185</th>\n",
       "      <td>15.0</td>\n",
       "      <td>91.0</td>\n",
       "      <td>0.558870</td>\n",
       "    </tr>\n",
       "    <tr>\n",
       "      <th>186</th>\n",
       "      <td>16.0</td>\n",
       "      <td>91.0</td>\n",
       "      <td>0.559748</td>\n",
       "    </tr>\n",
       "    <tr>\n",
       "      <th>187</th>\n",
       "      <td>17.0</td>\n",
       "      <td>91.0</td>\n",
       "      <td>0.550725</td>\n",
       "    </tr>\n",
       "    <tr>\n",
       "      <th>188</th>\n",
       "      <td>18.0</td>\n",
       "      <td>91.0</td>\n",
       "      <td>0.540453</td>\n",
       "    </tr>\n",
       "    <tr>\n",
       "      <th>189</th>\n",
       "      <td>19.0</td>\n",
       "      <td>91.0</td>\n",
       "      <td>0.549593</td>\n",
       "    </tr>\n",
       "  </tbody>\n",
       "</table>\n",
       "</div>"
      ],
      "text/plain": [
       "     depth  n_est        f1\n",
       "0      1.0    1.0  0.293737\n",
       "1      2.0    1.0  0.369588\n",
       "2      3.0    1.0  0.450109\n",
       "3      4.0    1.0  0.551648\n",
       "4      5.0    1.0  0.538373\n",
       "5      6.0    1.0  0.514184\n",
       "6      7.0    1.0  0.511542\n",
       "7      8.0    1.0  0.521087\n",
       "8      9.0    1.0  0.532632\n",
       "9     10.0    1.0  0.541275\n",
       "10    11.0    1.0  0.520958\n",
       "11    12.0    1.0  0.498982\n",
       "12    13.0    1.0  0.492662\n",
       "13    14.0    1.0  0.488499\n",
       "14    15.0    1.0  0.490000\n",
       "15    16.0    1.0  0.461347\n",
       "16    17.0    1.0  0.467312\n",
       "17    18.0    1.0  0.486005\n",
       "18    19.0    1.0  0.480697\n",
       "19     1.0   11.0  0.414343\n",
       "20     2.0   11.0  0.557411\n",
       "21     3.0   11.0  0.543278\n",
       "22     4.0   11.0  0.569072\n",
       "23     5.0   11.0  0.588113\n",
       "24     6.0   11.0  0.589474\n",
       "25     7.0   11.0  0.581197\n",
       "26     8.0   11.0  0.585475\n",
       "27     9.0   11.0  0.581158\n",
       "28    10.0   11.0  0.588378\n",
       "29    11.0   11.0  0.583548\n",
       "30    12.0   11.0  0.580132\n",
       "31    13.0   11.0  0.575419\n",
       "32    14.0   11.0  0.540146\n",
       "33    15.0   11.0  0.557721\n",
       "34    16.0   11.0  0.554217\n",
       "35    17.0   11.0  0.539185\n",
       "36    18.0   11.0  0.550232\n",
       "37    19.0   11.0  0.546012\n",
       "38     1.0   21.0  0.507194\n",
       "39     2.0   21.0  0.548757\n",
       "40     3.0   21.0  0.545455\n",
       "41     4.0   21.0  0.569416\n",
       "42     5.0   21.0  0.573499\n",
       "43     6.0   21.0  0.586864\n",
       "44     7.0   21.0  0.597374\n",
       "45     8.0   21.0  0.590909\n",
       "46     9.0   21.0  0.611511\n",
       "47    10.0   21.0  0.596977\n",
       "48    11.0   21.0  0.585106\n",
       "49    12.0   21.0  0.584362\n",
       "50    13.0   21.0  0.590585\n",
       "51    14.0   21.0  0.552672\n",
       "52    15.0   21.0  0.559876\n",
       "53    16.0   21.0  0.548589\n",
       "54    17.0   21.0  0.546926\n",
       "55    18.0   21.0  0.546900\n",
       "56    19.0   21.0  0.548031\n",
       "57     1.0   31.0  0.495986\n",
       "58     2.0   31.0  0.556000\n",
       "59     3.0   31.0  0.549057\n",
       "60     4.0   31.0  0.569458\n",
       "61     5.0   31.0  0.579979\n",
       "62     6.0   31.0  0.589583\n",
       "63     7.0   31.0  0.598050\n",
       "64     8.0   31.0  0.596218\n",
       "65     9.0   31.0  0.609639\n",
       "66    10.0   31.0  0.604768\n",
       "67    11.0   31.0  0.585561\n",
       "68    12.0   31.0  0.586445\n",
       "69    13.0   31.0  0.576369\n",
       "70    14.0   31.0  0.543511\n",
       "71    15.0   31.0  0.553323\n",
       "72    16.0   31.0  0.542320\n",
       "73    17.0   31.0  0.550725\n",
       "74    18.0   31.0  0.557845\n",
       "75    19.0   31.0  0.568254\n",
       "76     1.0   41.0  0.501779\n",
       "77     2.0   41.0  0.552553\n",
       "78     3.0   41.0  0.543726\n",
       "79     4.0   41.0  0.573399\n",
       "80     5.0   41.0  0.582485\n",
       "81     6.0   41.0  0.579111\n",
       "82     7.0   41.0  0.595339\n",
       "83     8.0   41.0  0.595369\n",
       "84     9.0   41.0  0.615202\n",
       "85    10.0   41.0  0.592500\n",
       "86    11.0   41.0  0.588394\n",
       "87    12.0   41.0  0.585915\n",
       "88    13.0   41.0  0.573082\n",
       "89    14.0   41.0  0.554545\n",
       "90    15.0   41.0  0.561129\n",
       "91    16.0   41.0  0.552050\n",
       "92    17.0   41.0  0.558730\n",
       "93    18.0   41.0  0.551282\n",
       "94    19.0   41.0  0.555377\n",
       "95     1.0   51.0  0.514554\n",
       "96     2.0   51.0  0.552063\n",
       "97     3.0   51.0  0.550476\n",
       "98     4.0   51.0  0.572271\n",
       "99     5.0   51.0  0.583838\n",
       "100    6.0   51.0  0.589212\n",
       "101    7.0   51.0  0.588235\n",
       "102    8.0   51.0  0.599558\n",
       "103    9.0   51.0  0.612634\n",
       "104   10.0   51.0  0.604828\n",
       "105   11.0   51.0  0.589359\n",
       "106   12.0   51.0  0.585091\n",
       "107   13.0   51.0  0.580175\n",
       "108   14.0   51.0  0.554878\n",
       "109   15.0   51.0  0.565217\n",
       "110   16.0   51.0  0.552923\n",
       "111   17.0   51.0  0.554487\n",
       "112   18.0   51.0  0.544872\n",
       "113   19.0   51.0  0.562701\n",
       "114    1.0   61.0  0.514124\n",
       "115    2.0   61.0  0.550725\n",
       "116    3.0   61.0  0.548233\n",
       "117    4.0   61.0  0.576205\n",
       "118    5.0   61.0  0.588832\n",
       "119    6.0   61.0  0.591667\n",
       "120    7.0   61.0  0.591793\n",
       "121    8.0   61.0  0.608989\n",
       "122    9.0   61.0  0.625000\n",
       "123   10.0   61.0  0.604061\n",
       "124   11.0   61.0  0.586957\n",
       "125   12.0   61.0  0.582985\n",
       "126   13.0   61.0  0.585652\n",
       "127   14.0   61.0  0.561457\n",
       "128   15.0   61.0  0.554331\n",
       "129   16.0   61.0  0.557121\n",
       "130   17.0   61.0  0.554487\n",
       "131   18.0   61.0  0.542536\n",
       "132   19.0   61.0  0.546042\n",
       "133    1.0   71.0  0.504488\n",
       "134    2.0   71.0  0.547867\n",
       "135    3.0   71.0  0.552908\n",
       "136    4.0   71.0  0.570870\n",
       "137    5.0   71.0  0.577236\n",
       "138    6.0   71.0  0.589583\n",
       "139    7.0   71.0  0.596983\n",
       "140    8.0   71.0  0.606742\n",
       "141    9.0   71.0  0.617021\n",
       "142   10.0   71.0  0.610127\n",
       "143   11.0   71.0  0.604336\n",
       "144   12.0   71.0  0.591549\n",
       "145   13.0   71.0  0.578635\n",
       "146   14.0   71.0  0.558282\n",
       "147   15.0   71.0  0.556082\n",
       "148   16.0   71.0  0.556962\n",
       "149   17.0   71.0  0.552716\n",
       "150   18.0   71.0  0.547504\n",
       "151   19.0   71.0  0.543974\n",
       "152    1.0   81.0  0.518727\n",
       "153    2.0   81.0  0.550143\n",
       "154    3.0   81.0  0.556202\n",
       "155    4.0   81.0  0.569185\n",
       "156    5.0   81.0  0.584362\n",
       "157    6.0   81.0  0.590198\n",
       "158    7.0   81.0  0.601081\n",
       "159    8.0   81.0  0.608889\n",
       "160    9.0   81.0  0.617577\n",
       "161   10.0   81.0  0.609137\n",
       "162   11.0   81.0  0.602703\n",
       "163   12.0   81.0  0.596639\n",
       "164   13.0   81.0  0.586156\n",
       "165   14.0   81.0  0.550989\n",
       "166   15.0   81.0  0.543444\n",
       "167   16.0   81.0  0.564184\n",
       "168   17.0   81.0  0.557692\n",
       "169   18.0   81.0  0.541935\n",
       "170   19.0   81.0  0.545752\n",
       "171    1.0   91.0  0.516494\n",
       "172    2.0   91.0  0.548908\n",
       "173    3.0   91.0  0.558767\n",
       "174    4.0   91.0  0.569170\n",
       "175    5.0   91.0  0.584362\n",
       "176    6.0   91.0  0.589099\n",
       "177    7.0   91.0  0.599356\n",
       "178    8.0   91.0  0.607539\n",
       "179    9.0   91.0  0.612827\n",
       "180   10.0   91.0  0.603774\n",
       "181   11.0   91.0  0.610215\n",
       "182   12.0   91.0  0.593838\n",
       "183   13.0   91.0  0.574815\n",
       "184   14.0   91.0  0.561457\n",
       "185   15.0   91.0  0.558870\n",
       "186   16.0   91.0  0.559748\n",
       "187   17.0   91.0  0.550725\n",
       "188   18.0   91.0  0.540453\n",
       "189   19.0   91.0  0.549593"
      ]
     },
     "execution_count": 270,
     "metadata": {},
     "output_type": "execute_result"
    }
   ],
   "source": [
    "# посмотрим как изменялся параметр F1 при изменении гиперпараметров\n",
    "rfb_data"
   ]
  },
  {
   "cell_type": "code",
   "execution_count": 215,
   "metadata": {},
   "outputs": [],
   "source": [
    "probabilities_rfb = model_rfb.predict_proba(features_valid)\n",
    "probabilities_one_rfb = probabilities_rfb[:, 1]"
   ]
  },
  {
   "cell_type": "code",
   "execution_count": 216,
   "metadata": {},
   "outputs": [
    {
     "data": {
      "image/png": "[encoded data removed]",
      "text/plain": [
       "<Figure size 432x432 with 1 Axes>"
      ]
     },
     "metadata": {
      "needs_background": "light"
     },
     "output_type": "display_data"
    }
   ],
   "source": [
    "# Построим ROC - кривую\n",
    "fpr, tpr, thresholds = roc_curve(target_valid, probabilities_one_rfb)\n",
    "plt.figure(figsize=(6,6))\n",
    "\n",
    "plt.plot(fpr, tpr,  color='red')\n",
    "plt.plot([0, 1], [0, 1], linestyle='--')\n",
    "plt.title('ROC - кривая')\n",
    "plt.xlabel('fpr False Positive Rate')\n",
    "plt.ylabel('tpr True Positive Rate')\n",
    "plt.show()"
   ]
  },
  {
   "cell_type": "code",
   "execution_count": 217,
   "metadata": {},
   "outputs": [
    {
     "name": "stdout",
     "output_type": "stream",
     "text": [
      "AUC-ROC модели: 0.8488828654776838\n"
     ]
    }
   ],
   "source": [
    "# посчитаем AUC-ROC, чтобы выявить как сильно модель отличается от случайной\n",
    "\n",
    "print('AUC-ROC модели:', roc_auc_score(target_valid, probabilities_one_rfb))"
   ]
  },
  {
   "cell_type": "markdown",
   "metadata": {},
   "source": [
    "### Модели с учетом метода Upsampling"
   ]
  },
  {
   "cell_type": "markdown",
   "metadata": {},
   "source": [
    "Чтобы избавиться от дисбаланса воспользуемся функцией Upsampling и увеличим количество клиентов оттока(target==1)"
   ]
  },
  {
   "cell_type": "code",
   "execution_count": 218,
   "metadata": {},
   "outputs": [],
   "source": [
    "def upsample(features, target, repeat):\n",
    "    features_zeros = features[target == 0]\n",
    "    features_ones = features[target == 1]\n",
    "    target_zeros = target[target == 0]\n",
    "    target_ones = target[target == 1]\n",
    "\n",
    "    features_upsampled = pd.concat([features_zeros] + [features_ones] * repeat)\n",
    "    target_upsampled = pd.concat([target_zeros] + [target_ones] * repeat)\n",
    "    \n",
    "    features_upsampled, target_upsampled = shuffle(\n",
    "        features_upsampled, target_upsampled, random_state=12345)\n",
    "    \n",
    "    return features_upsampled, target_upsampled\n"
   ]
  },
  {
   "cell_type": "code",
   "execution_count": 219,
   "metadata": {},
   "outputs": [],
   "source": [
    "# применим функцию upsample\n",
    "features_upsampled, target_upsampled = upsample(features_train, target_train, 4)"
   ]
  },
  {
   "cell_type": "code",
   "execution_count": 220,
   "metadata": {},
   "outputs": [
    {
     "data": {
      "image/png": "[encoded data removed]",
      "text/plain": [
       "<Figure size 432x288 with 1 Axes>"
      ]
     },
     "metadata": {
      "needs_background": "light"
     },
     "output_type": "display_data"
    }
   ],
   "source": [
    "# проверим количество значений\n",
    "target_upsampled.plot(kind='hist', )\n",
    "plt.title('Соотношение целевого признака')\n",
    "plt.show()"
   ]
  },
  {
   "cell_type": "markdown",
   "metadata": {},
   "source": [
    "Cоотношение значений каждого класса практически одинаково."
   ]
  },
  {
   "cell_type": "code",
   "execution_count": 221,
   "metadata": {},
   "outputs": [
    {
     "name": "stdout",
     "output_type": "stream",
     "text": [
      "F1: 0.4465682015638575\n",
      "Полнота: 0.6640826873385013\n",
      "Точность: 0.33638743455497383\n"
     ]
    }
   ],
   "source": [
    "# логистическая регрессия метод upsample\n",
    "model_lr_up = LogisticRegression(solver='liblinear', random_state=12345)\n",
    "model_lr_up.fit(features_upsampled, target_upsampled)\n",
    "predicted_lr_up=model_lr_up.predict(features_valid)\n",
    "\n",
    "print(\"F1:\", f1_score(target_valid, predicted_lr_up))\n",
    "print('Полнота:', recall_score(target_valid, predicted_lr_up))\n",
    "print('Точность:', precision_score(target_valid, predicted_lr_up))"
   ]
  },
  {
   "cell_type": "code",
   "execution_count": 222,
   "metadata": {},
   "outputs": [],
   "source": [
    "probabilities_lr_up = model_lr_up.predict_proba(features_valid)\n",
    "probabilities_one_lr_up = probabilities_lr_up[:, 1]"
   ]
  },
  {
   "cell_type": "code",
   "execution_count": 223,
   "metadata": {},
   "outputs": [
    {
     "data": {
      "image/png": "[encoded data removed]",
      "text/plain": [
       "<Figure size 432x432 with 1 Axes>"
      ]
     },
     "metadata": {
      "needs_background": "light"
     },
     "output_type": "display_data"
    }
   ],
   "source": [
    "# Построим ROC - кривую\n",
    "fpr, tpr, thresholds = roc_curve(target_valid, probabilities_one_lr_up)\n",
    "plt.figure(figsize=(6,6))\n",
    "\n",
    "plt.plot(fpr, tpr,  color='red')\n",
    "plt.plot([0, 1], [0, 1], linestyle='--')\n",
    "plt.title('ROC - кривая')\n",
    "plt.xlabel('fpr False Positive Rate')\n",
    "plt.ylabel('tpr True Positive Rate')\n",
    "plt.show()"
   ]
  },
  {
   "cell_type": "code",
   "execution_count": 224,
   "metadata": {},
   "outputs": [
    {
     "name": "stdout",
     "output_type": "stream",
     "text": [
      "AUC-ROC модели: 0.7416693499682009\n"
     ]
    }
   ],
   "source": [
    "# посчитаем AUC-ROC, чтобы выявить как сильно модель отличается от случайной\n",
    "\n",
    "print('AUC-ROC модели:', roc_auc_score(target_valid, probabilities_one_lr_up))"
   ]
  },
  {
   "cell_type": "code",
   "execution_count": 278,
   "metadata": {},
   "outputs": [
    {
     "name": "stdout",
     "output_type": "stream",
     "text": [
      "1 0.4682926829268293\n",
      "2 0.5103578154425612\n",
      "3 0.5103578154425612\n",
      "4 0.5464684014869888\n",
      "5 0.5335628227194492\n",
      "6 0.5690021231422505\n",
      "7 0.5662188099808061\n",
      "8 0.5524752475247524\n",
      "9 0.5443425076452599\n",
      "10 0.5193482688391039\n",
      "11 0.5115303983228512\n",
      "12 0.5125408942202836\n",
      "13 0.47926267281105994\n",
      "14 0.4847775175644028\n",
      "15 0.4804878048780488\n",
      "16 0.4717691342534504\n",
      "17 0.47295597484276725\n",
      "18 0.4752223634053367\n",
      "19 0.48538754764930114\n",
      "20 0.47959183673469385\n",
      "21 0.4846153846153846\n",
      "22 0.47741935483870973\n",
      "23 0.47741935483870973\n",
      "24 0.47741935483870973\n",
      "25 0.47741935483870973\n",
      "26 0.47741935483870973\n",
      "27 0.47741935483870973\n",
      "28 0.47741935483870973\n",
      "29 0.47741935483870973\n",
      "30 0.47741935483870973\n",
      "31 0.47741935483870973\n",
      "32 0.47741935483870973\n",
      "33 0.47741935483870973\n",
      "34 0.47741935483870973\n",
      "35 0.47741935483870973\n",
      "36 0.47741935483870973\n",
      "37 0.47741935483870973\n",
      "38 0.47741935483870973\n",
      "39 0.47741935483870973\n",
      "40 0.47741935483870973\n",
      "41 0.47741935483870973\n",
      "42 0.47741935483870973\n",
      "43 0.47741935483870973\n",
      "44 0.47741935483870973\n",
      "45 0.47741935483870973\n",
      "46 0.47741935483870973\n",
      "47 0.47741935483870973\n",
      "48 0.47741935483870973\n",
      "49 0.47741935483870973\n",
      "Лучшая F-мера 0.5690021231422505 cо значением глубины = 6\n",
      "Полнота: 0.4780361757105943\n",
      "Точность: 0.47680412371134023\n"
     ]
    }
   ],
   "source": [
    "# дерево решений метод upsample\n",
    "best_model_dt_up = None\n",
    "best_result_dt_up = 0\n",
    "best_depth_dt = 0\n",
    "for depth in range(1, 50):\n",
    "    model_dt_up = DecisionTreeClassifier(random_state=12345, max_depth=depth)\n",
    "    model_dt_up.fit(features_upsampled, target_upsampled)\n",
    "    predicted_dt_up = model_dt_up.predict(features_valid)\n",
    "    result_dt_up = f1_score(target_valid, predicted_dt_up)\n",
    "    print(depth, result_dt_up)\n",
    "    if result_dt_up > best_result_dt_up:\n",
    "        best_result_dt_up = result_dt_up\n",
    "        best_depth_dt = depth\n",
    "        best_model_dt_up = model_dt_up\n",
    "\n",
    "print(\"Лучшая F-мера\", best_result_dt_up, 'cо значением глубины =', best_depth_dt)\n",
    "print('Полнота:', recall_score(target_valid, predicted_dt_up))\n",
    "print('Точность:', precision_score(target_valid, predicted_dt_up))"
   ]
  },
  {
   "cell_type": "code",
   "execution_count": 228,
   "metadata": {},
   "outputs": [],
   "source": [
    "probabilities_dt_up = model_dt_up.predict_proba(features_valid)\n",
    "probabilities_one_dt_up = probabilities_dt_up[:, 1]"
   ]
  },
  {
   "cell_type": "code",
   "execution_count": 229,
   "metadata": {},
   "outputs": [
    {
     "data": {
      "image/png": "[encoded data removed]",
      "text/plain": [
       "<Figure size 432x432 with 1 Axes>"
      ]
     },
     "metadata": {
      "needs_background": "light"
     },
     "output_type": "display_data"
    }
   ],
   "source": [
    "# Построим ROC - кривую\n",
    "fpr, tpr, thresholds = roc_curve(target_valid, probabilities_one_dt_up)\n",
    "plt.figure(figsize=(6,6))\n",
    "\n",
    "plt.plot(fpr, tpr,  color='red')\n",
    "plt.plot([0, 1], [0, 1], linestyle='--')\n",
    "plt.title('ROC - кривая')\n",
    "plt.xlabel('fpr False Positive Rate')\n",
    "plt.ylabel('tpr True Positive Rate')\n",
    "plt.show()"
   ]
  },
  {
   "cell_type": "code",
   "execution_count": 230,
   "metadata": {},
   "outputs": [
    {
     "name": "stdout",
     "output_type": "stream",
     "text": [
      "AUC-ROC модели: 0.6760918634287628\n"
     ]
    }
   ],
   "source": [
    "# посчитаем AUC-ROC, чтобы выявить как сильно модель отличается от случайной\n",
    "\n",
    "print('AUC-ROC модели:', roc_auc_score(target_valid, probabilities_one_dt_up))"
   ]
  },
  {
   "cell_type": "code",
   "execution_count": 231,
   "metadata": {},
   "outputs": [
    {
     "name": "stdout",
     "output_type": "stream",
     "text": [
      "Лучшая F-мера 0.6103896103896105 при глубине = 14 и количестве деревьев = 61\n",
      "Полнота: 0.5297157622739018\n",
      "Точность: 0.6269113149847095\n",
      "CPU times: user 1min 3s, sys: 244 ms, total: 1min 4s\n",
      "Wall time: 1min 4s\n"
     ]
    }
   ],
   "source": [
    "%%time\n",
    "# случайный лес метод upsample\n",
    "best_model_rf_up = None\n",
    "best_result_rf_up = 0\n",
    "best_depth = 0\n",
    "best_est = 0\n",
    "\n",
    "for estimator in range(1, 70, 5):\n",
    "    for depth in range(1, 20):\n",
    "        model_rf_up =  RandomForestClassifier(random_state=12345, n_estimators=estimator, max_depth = depth)\n",
    "        model_rf_up.fit(features_upsampled, target_upsampled)\n",
    "        predicted_rf_up = model_rf_up.predict(features_valid)\n",
    "        result_rf_up = f1_score(target_valid, predicted_rf_up) \n",
    "        if result_rf_up > best_result_rf_up:\n",
    "            best_model_rf_up = model_rf_up\n",
    "            best_result_rf_up = result_rf_up\n",
    "            best_depth = depth\n",
    "            best_est = estimator\n",
    "\n",
    "print(\"Лучшая F-мера\", best_result_rf_up, 'при глубине = {0} и количестве деревьев = {1}'.format(best_depth, best_est))\n",
    "print('Полнота:', recall_score(target_valid, predicted_rf_up))\n",
    "print('Точность:', precision_score(target_valid, predicted_rf_up))"
   ]
  },
  {
   "cell_type": "code",
   "execution_count": 232,
   "metadata": {},
   "outputs": [],
   "source": [
    "probabilities_rf_up = model_rf_up.predict_proba(features_valid)\n",
    "probabilities_one_rf_up = probabilities_rf_up[:, 1]"
   ]
  },
  {
   "cell_type": "code",
   "execution_count": 233,
   "metadata": {},
   "outputs": [
    {
     "data": {
      "image/png": "[encoded data removed]",
      "text/plain": [
       "<Figure size 432x432 with 1 Axes>"
      ]
     },
     "metadata": {
      "needs_background": "light"
     },
     "output_type": "display_data"
    }
   ],
   "source": [
    "# Построим ROC - кривую\n",
    "fpr, tpr, thresholds = roc_curve(target_valid, probabilities_one_rf_up)\n",
    "plt.figure(figsize=(6,6))\n",
    "\n",
    "plt.plot(fpr, tpr,  color='red')\n",
    "plt.plot([0, 1], [0, 1], linestyle='--')\n",
    "plt.title('ROC - кривая')\n",
    "plt.xlabel('fpr False Positive Rate')\n",
    "plt.ylabel('tpr True Positive Rate')\n",
    "plt.show()"
   ]
  },
  {
   "cell_type": "code",
   "execution_count": 234,
   "metadata": {},
   "outputs": [
    {
     "name": "stdout",
     "output_type": "stream",
     "text": [
      "AUC-ROC модели: 0.8435082525539424\n"
     ]
    }
   ],
   "source": [
    "# посчитаем AUC-ROC, чтобы выявить как сильно модель отличается от случайной\n",
    "\n",
    "print('AUC-ROC модели:', roc_auc_score(target_valid, probabilities_one_rf_up))"
   ]
  },
  {
   "cell_type": "markdown",
   "metadata": {},
   "source": [
    "### Модели с учетом метода Downsampling"
   ]
  },
  {
   "cell_type": "markdown",
   "metadata": {},
   "source": [
    "Воспользуемся функцией Downsampling и уменьшим количество клиентов (target==0)"
   ]
  },
  {
   "cell_type": "code",
   "execution_count": 235,
   "metadata": {},
   "outputs": [],
   "source": [
    "def downsample(features, target, fraction):\n",
    "    features_zeros = features[target == 0]\n",
    "    features_ones = features[target == 1]\n",
    "    target_zeros = target[target == 0]\n",
    "    target_ones = target[target == 1]\n",
    "\n",
    "    features_downsampled = pd.concat(\n",
    "        [features_zeros.sample(frac=fraction, random_state=12345)] + [features_ones])\n",
    "    target_downsampled = pd.concat(\n",
    "        [target_zeros.sample(frac=fraction, random_state=12345)] + [target_ones])\n",
    "    \n",
    "    features_downsampled, target_downsampled = shuffle(\n",
    "        features_downsampled, target_downsampled, random_state=12345)\n",
    "    \n",
    "    return features_downsampled, target_downsampled\n",
    "\n",
    "features_downsampled, target_downsampled = downsample(features_train, target_train, 0.25)"
   ]
  },
  {
   "cell_type": "code",
   "execution_count": 236,
   "metadata": {},
   "outputs": [
    {
     "name": "stdout",
     "output_type": "stream",
     "text": [
      "F1: 0.456352636127917\n",
      "Полнота: 0.6821705426356589\n",
      "Точность: 0.34285714285714286\n"
     ]
    }
   ],
   "source": [
    "# логистическая регрессия методом Downsampling\n",
    "model_lg_d = LogisticRegression(random_state=12345, solver='liblinear')\n",
    "model_lg_d.fit(features_downsampled, target_downsampled)\n",
    "predicted_lg_d = model_lg_d.predict(features_valid)\n",
    "print(\"F1:\", f1_score(target_valid, predicted_lg_d))\n",
    "print('Полнота:', recall_score(target_valid, predicted_lg_d))\n",
    "print('Точность:', precision_score(target_valid, predicted_lg_d))"
   ]
  },
  {
   "cell_type": "code",
   "execution_count": 237,
   "metadata": {},
   "outputs": [],
   "source": [
    "probabilities_lg_d = model_lg_d.predict_proba(features_valid)\n",
    "probabilities_one_lg_d = probabilities_lg_d[:, 1]"
   ]
  },
  {
   "cell_type": "code",
   "execution_count": 238,
   "metadata": {},
   "outputs": [
    {
     "data": {
      "image/png": "[encoded data removed]",
      "text/plain": [
       "<Figure size 432x432 with 1 Axes>"
      ]
     },
     "metadata": {
      "needs_background": "light"
     },
     "output_type": "display_data"
    }
   ],
   "source": [
    "# Построим ROC - кривую\n",
    "fpr, tpr, thresholds = roc_curve(target_valid, probabilities_one_lg_d)\n",
    "plt.figure(figsize=(6,6))\n",
    "\n",
    "plt.plot(fpr, tpr,  color='red')\n",
    "plt.plot([0, 1], [0, 1], linestyle='--')\n",
    "plt.title('ROC - кривая')\n",
    "plt.xlabel('fpr False Positive Rate')\n",
    "plt.ylabel('tpr True Positive Rate')\n",
    "plt.show()"
   ]
  },
  {
   "cell_type": "code",
   "execution_count": 239,
   "metadata": {},
   "outputs": [
    {
     "name": "stdout",
     "output_type": "stream",
     "text": [
      "AUC-ROC модели: 0.7395211067697696\n"
     ]
    }
   ],
   "source": [
    "# посчитаем AUC-ROC, чтобы выявить как сильно модель отличается от случайной\n",
    "\n",
    "print('AUC-ROC модели:', roc_auc_score(target_valid, probabilities_one_lg_d))"
   ]
  },
  {
   "cell_type": "code",
   "execution_count": 281,
   "metadata": {},
   "outputs": [
    {
     "name": "stdout",
     "output_type": "stream",
     "text": [
      "Лучшая F-мера 0.5690021231422505 cо значением глубины = 8\n",
      "Полнота: 0.7157622739018088\n",
      "Точность: 0.35421994884910485\n"
     ]
    }
   ],
   "source": [
    "# дерево решений методом Downsampling\n",
    "best_model_dt_d = None\n",
    "best_result_dt_d = 0\n",
    "best_depth_dt_d = 0\n",
    "for depth in range(1, 30):\n",
    "    model_dt_d = DecisionTreeClassifier(random_state=12345, max_depth=depth)\n",
    "    model_dt_d.fit(features_downsampled, target_downsampled)\n",
    "    predicted_dt_d = model_dt_d.predict(features_valid)\n",
    "    result_dt_d = f1_score(target_valid, predicted_dt_d)\n",
    "    \n",
    "    if best_result_dt_d < result_dt_d:\n",
    "        best_result_dt_d = result_dt_d\n",
    "        best_depth_dt_d = depth\n",
    "        best_model_dt_d = model_dt_d\n",
    "\n",
    "print(\"Лучшая F-мера\", best_result_dt_up, 'cо значением глубины =', best_depth_dt_d)\n",
    "print('Полнота:', recall_score(target_valid, predicted_dt_d))\n",
    "print('Точность:', precision_score(target_valid, predicted_dt_d))"
   ]
  },
  {
   "cell_type": "code",
   "execution_count": 241,
   "metadata": {},
   "outputs": [],
   "source": [
    "probabilities_dt_d = model_dt_d.predict_proba(features_valid)\n",
    "probabilities_one_dt_d = probabilities_dt_d[:, 1]"
   ]
  },
  {
   "cell_type": "code",
   "execution_count": 242,
   "metadata": {},
   "outputs": [
    {
     "data": {
      "image/png": "[encoded data removed]",
      "text/plain": [
       "<Figure size 432x432 with 1 Axes>"
      ]
     },
     "metadata": {
      "needs_background": "light"
     },
     "output_type": "display_data"
    }
   ],
   "source": [
    "# Построим ROC - кривую\n",
    "fpr, tpr, thresholds = roc_curve(target_valid, probabilities_one_dt_d)\n",
    "plt.figure(figsize=(6,6))\n",
    "\n",
    "plt.plot(fpr, tpr,  color='red')\n",
    "plt.plot([0, 1], [0, 1], linestyle='--')\n",
    "plt.title('ROC - кривая')\n",
    "plt.xlabel('fpr False Positive Rate')\n",
    "plt.ylabel('tpr True Positive Rate')\n",
    "plt.show()"
   ]
  },
  {
   "cell_type": "code",
   "execution_count": 243,
   "metadata": {},
   "outputs": [
    {
     "name": "stdout",
     "output_type": "stream",
     "text": [
      "AUC-ROC модели: 0.7013405293873582\n"
     ]
    }
   ],
   "source": [
    "# посчитаем AUC-ROC, чтобы выявить как сильно модель отличается от случайной\n",
    "\n",
    "print('AUC-ROC модели:', roc_auc_score(target_valid, probabilities_one_dt_d))"
   ]
  },
  {
   "cell_type": "code",
   "execution_count": 244,
   "metadata": {},
   "outputs": [
    {
     "name": "stdout",
     "output_type": "stream",
     "text": [
      "Лучшая F-мера 0.5866935483870968 при глубине = 8 и количестве деревьев = 21\n",
      "Полнота: 0.7596899224806202\n",
      "Точность: 0.45440494590417313\n",
      "CPU times: user 26.5 s, sys: 124 ms, total: 26.6 s\n",
      "Wall time: 26.8 s\n"
     ]
    }
   ],
   "source": [
    "%%time\n",
    "# случайный лес\n",
    "best_model_rf_d = None\n",
    "best_result_rf_d = 0\n",
    "best_depth = 0\n",
    "best_est = 0\n",
    "\n",
    "for estimator in range(1, 100, 10):\n",
    "    for depth in range(1, 20):\n",
    "        model_rf_d =  RandomForestClassifier(random_state=12345, n_estimators=estimator, max_depth = depth)\n",
    "        model_rf_d.fit(features_downsampled, target_downsampled)\n",
    "        predicted_rf_d = model_rf_d.predict(features_valid)\n",
    "        result_rf_d = f1_score(target_valid, predicted_rf_d) \n",
    "        \n",
    "        if result_rf_d > best_result_rf_d:\n",
    "            best_model_rf_d = model_rf_d\n",
    "            best_result_rf_d = result_rf_d\n",
    "            best_depth = depth\n",
    "            best_est = estimator\n",
    "\n",
    "print(\"Лучшая F-мера\", best_result_rf_d, 'при глубине = {0} и количестве деревьев = {1}'.format(best_depth, best_est))\n",
    "print('Полнота:', recall_score(target_valid, predicted_rf_d))\n",
    "print('Точность:', precision_score(target_valid, predicted_rf_d))"
   ]
  },
  {
   "cell_type": "code",
   "execution_count": 245,
   "metadata": {},
   "outputs": [],
   "source": [
    "probabilities_rf_d = model_rf_d.predict_proba(features_valid)\n",
    "probabilities_one_rf_d = probabilities_rf_d[:, 1]"
   ]
  },
  {
   "cell_type": "code",
   "execution_count": 246,
   "metadata": {},
   "outputs": [
    {
     "data": {
      "image/png": "[encoded data removed]",
      "text/plain": [
       "<Figure size 432x432 with 1 Axes>"
      ]
     },
     "metadata": {
      "needs_background": "light"
     },
     "output_type": "display_data"
    }
   ],
   "source": [
    "# Построим ROC - кривую\n",
    "fpr, tpr, thresholds = roc_curve(target_valid, probabilities_one_rf_d)\n",
    "plt.figure(figsize=(6,6))\n",
    "\n",
    "plt.plot(fpr, tpr,  color='red')\n",
    "plt.plot([0, 1], [0, 1], linestyle='--')\n",
    "plt.title('ROC - кривая')\n",
    "plt.xlabel('fpr False Positive Rate')\n",
    "plt.ylabel('tpr True Positive Rate')\n",
    "plt.show()"
   ]
  },
  {
   "cell_type": "code",
   "execution_count": 247,
   "metadata": {},
   "outputs": [
    {
     "name": "stdout",
     "output_type": "stream",
     "text": [
      "AUC-ROC модели: 0.8469188489517503\n"
     ]
    }
   ],
   "source": [
    "# посчитаем AUC-ROC, чтобы выявить как сильно модель отличается от случайной\n",
    "\n",
    "print('AUC-ROC модели:', roc_auc_score(target_valid, probabilities_one_rf_d))"
   ]
  },
  {
   "cell_type": "markdown",
   "metadata": {},
   "source": [
    "Вывод:\n",
    "\n",
    "Таким образом, наилучшей моделью, является модель случайного леса с балансировкой классов: \n",
    "\n",
    "Лучшая F-мера 0.625 при глубине = 9 и количестве деревьев = 61\n",
    "\n",
    "Полнота: 0.4367\n",
    "\n",
    "Точность: 0.7412\n",
    "\n",
    "AUC-ROC модели: 0.8488\n",
    "\n"
   ]
  },
  {
   "cell_type": "markdown",
   "metadata": {},
   "source": [
    "## Тестирование модели"
   ]
  },
  {
   "cell_type": "markdown",
   "metadata": {},
   "source": [
    "Проверим нашу наилучшую модель на тестовой выборки."
   ]
  },
  {
   "cell_type": "code",
   "execution_count": 248,
   "metadata": {},
   "outputs": [
    {
     "name": "stdout",
     "output_type": "stream",
     "text": [
      "F1: 0.6131025957972807\n",
      "Полнота: 0.5975903614457831\n",
      "Точность: 0.6294416243654822\n",
      "CPU times: user 480 ms, sys: 3.94 ms, total: 484 ms\n",
      "Wall time: 495 ms\n"
     ]
    }
   ],
   "source": [
    "%%time\n",
    "model_test =  RandomForestClassifier(random_state=12345, n_estimators=91, max_depth = 10, class_weight='balanced')\n",
    "model_test.fit(features_train, target_train)\n",
    "predicted_test = model_test.predict(features_test)\n",
    "result_test = f1_score(target_test, predicted_test)\n",
    "print('F1:', result_test)\n",
    "print('Полнота:', recall_score(target_test, predicted_test))\n",
    "print('Точность:', precision_score(target_test, predicted_test))"
   ]
  },
  {
   "cell_type": "markdown",
   "metadata": {},
   "source": [
    "На тестовой выборке модель ведет себя чуть хуже, но все равно более 0,6. Построим ROC-кривую и посчитаем AUC-ROC для нашей модели и посмотрим насколько она лучше случайной модели"
   ]
  },
  {
   "cell_type": "code",
   "execution_count": 249,
   "metadata": {},
   "outputs": [],
   "source": [
    "probabilities_test = model_test.predict_proba(features_test)\n",
    "probabilities_one_test = probabilities_test[:, 1]"
   ]
  },
  {
   "cell_type": "code",
   "execution_count": 250,
   "metadata": {},
   "outputs": [
    {
     "data": {
      "image/png": "[encoded data removed]",
      "text/plain": [
       "<Figure size 432x432 with 1 Axes>"
      ]
     },
     "metadata": {
      "needs_background": "light"
     },
     "output_type": "display_data"
    }
   ],
   "source": [
    "# Построим ROC - кривую\n",
    "fpr, tpr, thresholds = roc_curve(target_test, probabilities_one_test)\n",
    "plt.figure(figsize=(6,6))\n",
    "\n",
    "plt.plot(fpr, tpr,  color='red')\n",
    "plt.plot([0, 1], [0, 1], linestyle='--')\n",
    "plt.title('ROC - кривая')\n",
    "plt.xlabel('fpr False Positive Rate')\n",
    "plt.ylabel('tpr True Positive Rate')\n",
    "plt.show()"
   ]
  },
  {
   "cell_type": "code",
   "execution_count": 251,
   "metadata": {},
   "outputs": [
    {
     "name": "stdout",
     "output_type": "stream",
     "text": [
      "AUC-ROC наилучшей модели: 0.8518840028885257\n"
     ]
    }
   ],
   "source": [
    "# посчитаем AUC-ROC, чтобы выявить как сильно модель отличается от случайной\n",
    "\n",
    "print('AUC-ROC наилучшей модели:', roc_auc_score(target_test, probabilities_one_test))"
   ]
  },
  {
   "cell_type": "code",
   "execution_count": 252,
   "metadata": {},
   "outputs": [
    {
     "name": "stdout",
     "output_type": "stream",
     "text": [
      "AUC-ROC константой модели: 0.5\n"
     ]
    }
   ],
   "source": [
    "target_predict_constant = pd.Series([0]*len(target_test))\n",
    "print('AUC-ROC константой модели:', roc_auc_score(target_valid, target_predict_constant))"
   ]
  },
  {
   "cell_type": "markdown",
   "metadata": {},
   "source": [
    "Таким образом наша наилучшая модель показывает результаты лучше, чем константная модель. Нашу модель можно считать адекватной для дальнейшего прогноза."
   ]
  },
  {
   "cell_type": "markdown",
   "metadata": {},
   "source": [
    "## Вывод"
   ]
  },
  {
   "cell_type": "markdown",
   "metadata": {},
   "source": [
    " Проведено прогнозирование оттока клиентов банка на основе исторических данных поведения клиентов.\n",
    "\n",
    "Было проведено:\n",
    "- Подготовка данных: в исходных данных наименования столбцов были приведены к стандартному виду, заменены пропущенные значения и приведены в целочисленному вилу столбец \"tenure\", данные проверены на дубликаты, удалена одна выбивающаяся строка с суммой предполагаемого дохода менее 12 долл. Также для дальнейшего обучения были удалены столбцы, которые не несут ценность для дальнейшего обучения - 'row_number', 'customer_id', 'surname'.\n",
    "- Исследование данных: категориальные признаки в столбцах \"Страна нахождения\" и \"Пол\" были переведены в дамми-переменные. Выборка была поделена на обучающую, тестовую и валидационную выборки. Так как в наших данных есть и маленькие значения и большие стандартизировали обучающую, тестовую и валидационную выборки.\n",
    "- Борьба с дисбалансом: использована техника балансировки классов, upsampling и downsampling, проанализированы модели LogisticRegression, DecisionTreeClassifier, RandomForestClassifier. Самый высокий результат показала модель случайного леса с балансировкой классов: F1 на валидационной выборке=0.625 при глубине = 9 и количестве деревьев = 61. F1 на тестовой выборке=0.6131.\n",
    "- Тестирование модели: проведена проверка модели на адекватность, путём сравнения со случайной моделью. Показеть AUC-ROC наилучшей модели: 0.851. Это значит, что наилучшая модель на 85% отличается от случайной.\n",
    "\n",
    "\n",
    "Таким образом модель случайного леса при глубине = 9 и количестве деревьев = 61 рекомендуется использовать при прогнозе оттока клиентов.\n"
   ]
  }
 ],
 "metadata": {
  "ExecuteTimeLog": [
   {
    "duration": 408,
    "start_time": "2022-12-29T02:28:39.832Z"
   },
   {
    "duration": 78,
    "start_time": "2022-12-29T02:28:40.399Z"
   },
   {
    "duration": 18,
    "start_time": "2022-12-29T02:28:41.216Z"
   },
   {
    "duration": 12,
    "start_time": "2022-12-29T02:29:05.008Z"
   },
   {
    "duration": 5,
    "start_time": "2022-12-29T02:30:10.870Z"
   },
   {
    "duration": 5,
    "start_time": "2022-12-29T02:30:24.726Z"
   },
   {
    "duration": 5,
    "start_time": "2022-12-29T02:30:34.707Z"
   },
   {
    "duration": 6,
    "start_time": "2022-12-29T02:30:42.994Z"
   },
   {
    "duration": 4,
    "start_time": "2022-12-29T02:30:59.214Z"
   },
   {
    "duration": 5,
    "start_time": "2022-12-29T02:31:15.363Z"
   },
   {
    "duration": 4,
    "start_time": "2022-12-29T02:31:22.841Z"
   },
   {
    "duration": 69,
    "start_time": "2022-12-29T02:33:20.641Z"
   },
   {
    "duration": 6,
    "start_time": "2022-12-29T02:33:27.402Z"
   },
   {
    "duration": 55,
    "start_time": "2022-12-29T09:48:35.987Z"
   },
   {
    "duration": 7,
    "start_time": "2022-12-29T09:48:48.993Z"
   },
   {
    "duration": 386,
    "start_time": "2022-12-29T09:48:59.190Z"
   },
   {
    "duration": 75,
    "start_time": "2022-12-29T09:48:59.753Z"
   },
   {
    "duration": 28,
    "start_time": "2022-12-29T09:49:00.564Z"
   },
   {
    "duration": 14,
    "start_time": "2022-12-29T09:49:01.614Z"
   },
   {
    "duration": 18,
    "start_time": "2022-12-29T09:49:02.853Z"
   },
   {
    "duration": 43,
    "start_time": "2022-12-29T09:49:07.678Z"
   },
   {
    "duration": 3,
    "start_time": "2022-12-29T09:58:50.824Z"
   },
   {
    "duration": 9,
    "start_time": "2022-12-29T10:01:22.817Z"
   },
   {
    "duration": 4,
    "start_time": "2022-12-29T10:01:32.246Z"
   },
   {
    "duration": 3,
    "start_time": "2022-12-29T10:01:46.469Z"
   },
   {
    "duration": 38,
    "start_time": "2022-12-29T10:01:46.969Z"
   },
   {
    "duration": 11,
    "start_time": "2022-12-29T10:01:47.448Z"
   },
   {
    "duration": 11,
    "start_time": "2022-12-29T10:01:48.120Z"
   },
   {
    "duration": 36,
    "start_time": "2022-12-29T10:01:48.808Z"
   },
   {
    "duration": 5,
    "start_time": "2022-12-29T10:01:50.121Z"
   },
   {
    "duration": 4,
    "start_time": "2022-12-29T10:01:50.805Z"
   },
   {
    "duration": 4,
    "start_time": "2022-12-29T10:02:20.962Z"
   },
   {
    "duration": 4,
    "start_time": "2022-12-29T10:02:21.525Z"
   },
   {
    "duration": 3,
    "start_time": "2022-12-29T10:03:01.225Z"
   },
   {
    "duration": 4,
    "start_time": "2022-12-29T10:03:01.799Z"
   },
   {
    "duration": 1174,
    "start_time": "2022-12-29T10:03:46.521Z"
   },
   {
    "duration": 740,
    "start_time": "2022-12-29T10:03:53.089Z"
   },
   {
    "duration": 1527,
    "start_time": "2022-12-29T10:04:20.205Z"
   },
   {
    "duration": 34,
    "start_time": "2022-12-29T10:05:33.098Z"
   },
   {
    "duration": 8,
    "start_time": "2022-12-29T10:05:39.365Z"
   },
   {
    "duration": 14,
    "start_time": "2022-12-29T10:05:43.982Z"
   },
   {
    "duration": 10,
    "start_time": "2022-12-29T10:05:51.591Z"
   },
   {
    "duration": 6,
    "start_time": "2022-12-29T10:06:43.984Z"
   },
   {
    "duration": 6,
    "start_time": "2022-12-29T10:06:52.109Z"
   },
   {
    "duration": 23,
    "start_time": "2022-12-29T10:08:04.905Z"
   },
   {
    "duration": 6,
    "start_time": "2022-12-29T10:09:34.430Z"
   },
   {
    "duration": 4,
    "start_time": "2022-12-29T10:10:00.251Z"
   },
   {
    "duration": 13,
    "start_time": "2022-12-29T10:10:27.840Z"
   },
   {
    "duration": 20,
    "start_time": "2022-12-29T10:15:50.470Z"
   },
   {
    "duration": 27,
    "start_time": "2022-12-29T10:16:05.412Z"
   },
   {
    "duration": 17,
    "start_time": "2022-12-29T10:21:12.285Z"
   },
   {
    "duration": 15,
    "start_time": "2022-12-29T10:21:45.542Z"
   },
   {
    "duration": 13,
    "start_time": "2022-12-29T10:25:21.365Z"
   },
   {
    "duration": 20,
    "start_time": "2022-12-29T10:26:43.454Z"
   },
   {
    "duration": 9,
    "start_time": "2022-12-29T10:26:54.967Z"
   },
   {
    "duration": 20,
    "start_time": "2022-12-29T10:27:02.673Z"
   },
   {
    "duration": 20,
    "start_time": "2022-12-29T10:27:09.707Z"
   },
   {
    "duration": 18,
    "start_time": "2022-12-29T10:27:37.222Z"
   },
   {
    "duration": 48,
    "start_time": "2022-12-29T10:27:38.138Z"
   },
   {
    "duration": 52,
    "start_time": "2022-12-29T10:30:35.197Z"
   },
   {
    "duration": 11,
    "start_time": "2022-12-29T10:30:45.410Z"
   },
   {
    "duration": 7,
    "start_time": "2022-12-29T10:30:53.262Z"
   },
   {
    "duration": 11,
    "start_time": "2022-12-29T10:30:54.702Z"
   },
   {
    "duration": 4,
    "start_time": "2022-12-29T10:58:46.884Z"
   },
   {
    "duration": 11,
    "start_time": "2022-12-29T10:59:02.942Z"
   },
   {
    "duration": 6,
    "start_time": "2022-12-29T11:09:24.290Z"
   },
   {
    "duration": 12,
    "start_time": "2022-12-29T11:09:46.688Z"
   },
   {
    "duration": 11,
    "start_time": "2022-12-29T11:16:40.396Z"
   },
   {
    "duration": 10,
    "start_time": "2022-12-29T11:16:56.385Z"
   },
   {
    "duration": 2,
    "start_time": "2022-12-29T12:01:19.675Z"
   },
   {
    "duration": 37,
    "start_time": "2022-12-29T12:01:20.266Z"
   },
   {
    "duration": 12,
    "start_time": "2022-12-29T12:01:20.889Z"
   },
   {
    "duration": 14,
    "start_time": "2022-12-29T12:01:21.643Z"
   },
   {
    "duration": 37,
    "start_time": "2022-12-29T12:01:22.515Z"
   },
   {
    "duration": 1418,
    "start_time": "2022-12-29T12:01:23.109Z"
   },
   {
    "duration": 4,
    "start_time": "2022-12-29T12:01:24.529Z"
   },
   {
    "duration": 5,
    "start_time": "2022-12-29T12:01:25.041Z"
   },
   {
    "duration": 4,
    "start_time": "2022-12-29T12:01:25.734Z"
   },
   {
    "duration": 11,
    "start_time": "2022-12-29T12:01:26.417Z"
   },
   {
    "duration": 4,
    "start_time": "2022-12-29T12:01:27.033Z"
   },
   {
    "duration": 21,
    "start_time": "2022-12-29T12:01:27.627Z"
   },
   {
    "duration": 5,
    "start_time": "2022-12-29T12:01:28.388Z"
   },
   {
    "duration": 14,
    "start_time": "2022-12-29T12:01:29.409Z"
   },
   {
    "duration": 7,
    "start_time": "2022-12-29T12:01:30.884Z"
   },
   {
    "duration": 13,
    "start_time": "2022-12-29T12:01:31.776Z"
   },
   {
    "duration": 5,
    "start_time": "2022-12-29T12:01:33.381Z"
   },
   {
    "duration": 11,
    "start_time": "2022-12-29T12:01:34.649Z"
   },
   {
    "duration": 10,
    "start_time": "2022-12-29T12:01:40.257Z"
   },
   {
    "duration": 11,
    "start_time": "2022-12-29T12:01:40.999Z"
   },
   {
    "duration": 4859,
    "start_time": "2022-12-29T12:07:05.116Z"
   },
   {
    "duration": 43,
    "start_time": "2022-12-29T12:07:46.716Z"
   },
   {
    "duration": 72,
    "start_time": "2022-12-29T12:08:05.555Z"
   },
   {
    "duration": 2,
    "start_time": "2022-12-29T12:08:48.752Z"
   },
   {
    "duration": 37,
    "start_time": "2022-12-29T12:08:49.513Z"
   },
   {
    "duration": 14,
    "start_time": "2022-12-29T12:08:49.589Z"
   },
   {
    "duration": 12,
    "start_time": "2022-12-29T12:08:49.862Z"
   },
   {
    "duration": 37,
    "start_time": "2022-12-29T12:08:49.927Z"
   },
   {
    "duration": 1579,
    "start_time": "2022-12-29T12:08:50.197Z"
   },
   {
    "duration": 5,
    "start_time": "2022-12-29T12:08:51.778Z"
   },
   {
    "duration": 19,
    "start_time": "2022-12-29T12:08:51.784Z"
   },
   {
    "duration": 17,
    "start_time": "2022-12-29T12:08:51.805Z"
   },
   {
    "duration": 26,
    "start_time": "2022-12-29T12:08:51.824Z"
   },
   {
    "duration": 3,
    "start_time": "2022-12-29T12:08:51.852Z"
   },
   {
    "duration": 29,
    "start_time": "2022-12-29T12:08:51.857Z"
   },
   {
    "duration": 4,
    "start_time": "2022-12-29T12:08:51.887Z"
   },
   {
    "duration": 14,
    "start_time": "2022-12-29T12:08:51.892Z"
   },
   {
    "duration": 7,
    "start_time": "2022-12-29T12:08:52.880Z"
   },
   {
    "duration": 12,
    "start_time": "2022-12-29T12:08:53.307Z"
   },
   {
    "duration": 4,
    "start_time": "2022-12-29T12:08:54.644Z"
   },
   {
    "duration": 15,
    "start_time": "2022-12-29T12:08:55.229Z"
   },
   {
    "duration": 64,
    "start_time": "2022-12-29T12:08:56.696Z"
   },
   {
    "duration": 4931,
    "start_time": "2022-12-29T12:09:55.769Z"
   },
   {
    "duration": 5047,
    "start_time": "2022-12-29T12:10:06.666Z"
   },
   {
    "duration": 3966,
    "start_time": "2022-12-29T12:10:23.011Z"
   },
   {
    "duration": 3041,
    "start_time": "2022-12-29T12:10:45.848Z"
   },
   {
    "duration": 2437,
    "start_time": "2022-12-29T12:11:16.291Z"
   },
   {
    "duration": 1845,
    "start_time": "2022-12-29T12:11:29.328Z"
   },
   {
    "duration": 1287,
    "start_time": "2022-12-29T12:11:42.763Z"
   },
   {
    "duration": 6,
    "start_time": "2022-12-29T12:18:26.838Z"
   },
   {
    "duration": 669,
    "start_time": "2022-12-29T12:27:51.428Z"
   },
   {
    "duration": 4,
    "start_time": "2022-12-29T12:31:17.225Z"
   },
   {
    "duration": 37,
    "start_time": "2022-12-29T12:31:17.628Z"
   },
   {
    "duration": 15,
    "start_time": "2022-12-29T12:31:18.140Z"
   },
   {
    "duration": 14,
    "start_time": "2022-12-29T12:31:18.568Z"
   },
   {
    "duration": 40,
    "start_time": "2022-12-29T12:31:19.089Z"
   },
   {
    "duration": 1645,
    "start_time": "2022-12-29T12:31:19.636Z"
   },
   {
    "duration": 5,
    "start_time": "2022-12-29T12:31:21.283Z"
   },
   {
    "duration": 3,
    "start_time": "2022-12-29T12:31:21.358Z"
   },
   {
    "duration": 4,
    "start_time": "2022-12-29T12:31:21.941Z"
   },
   {
    "duration": 12,
    "start_time": "2022-12-29T12:31:22.509Z"
   },
   {
    "duration": 4,
    "start_time": "2022-12-29T12:31:23.053Z"
   },
   {
    "duration": 19,
    "start_time": "2022-12-29T12:31:23.614Z"
   },
   {
    "duration": 4,
    "start_time": "2022-12-29T12:31:24.069Z"
   },
   {
    "duration": 14,
    "start_time": "2022-12-29T12:31:24.796Z"
   },
   {
    "duration": 6,
    "start_time": "2022-12-29T12:31:25.934Z"
   },
   {
    "duration": 12,
    "start_time": "2022-12-29T12:31:26.471Z"
   },
   {
    "duration": 4,
    "start_time": "2022-12-29T12:31:27.769Z"
   },
   {
    "duration": 11,
    "start_time": "2022-12-29T12:31:28.402Z"
   },
   {
    "duration": 10,
    "start_time": "2022-12-29T12:31:31.022Z"
   },
   {
    "duration": 13,
    "start_time": "2022-12-29T12:31:31.557Z"
   },
   {
    "duration": 4,
    "start_time": "2022-12-29T12:31:33.515Z"
   },
   {
    "duration": 6,
    "start_time": "2022-12-29T12:31:34.218Z"
   },
   {
    "duration": 47,
    "start_time": "2022-12-29T12:32:41.362Z"
   },
   {
    "duration": 8,
    "start_time": "2022-12-29T12:32:51.437Z"
   },
   {
    "duration": 4,
    "start_time": "2022-12-29T12:33:28.495Z"
   },
   {
    "duration": 8,
    "start_time": "2022-12-29T12:33:29.021Z"
   },
   {
    "duration": 9,
    "start_time": "2022-12-29T12:34:51.068Z"
   },
   {
    "duration": 4,
    "start_time": "2022-12-29T12:35:21.734Z"
   },
   {
    "duration": 3,
    "start_time": "2022-12-29T12:36:30.271Z"
   },
   {
    "duration": 10,
    "start_time": "2022-12-29T12:38:06.587Z"
   },
   {
    "duration": 554,
    "start_time": "2022-12-29T12:38:22.832Z"
   },
   {
    "duration": 9,
    "start_time": "2022-12-29T12:46:51.443Z"
   },
   {
    "duration": 9,
    "start_time": "2022-12-29T12:47:44.465Z"
   },
   {
    "duration": 21,
    "start_time": "2022-12-29T12:48:25.077Z"
   },
   {
    "duration": 23,
    "start_time": "2022-12-29T12:49:07.159Z"
   },
   {
    "duration": 12,
    "start_time": "2022-12-29T12:49:37.582Z"
   },
   {
    "duration": 5,
    "start_time": "2022-12-29T12:51:31.415Z"
   },
   {
    "duration": 40,
    "start_time": "2022-12-29T12:51:31.475Z"
   },
   {
    "duration": 13,
    "start_time": "2022-12-29T12:51:31.763Z"
   },
   {
    "duration": 13,
    "start_time": "2022-12-29T12:51:31.810Z"
   },
   {
    "duration": 40,
    "start_time": "2022-12-29T12:51:32.100Z"
   },
   {
    "duration": 1712,
    "start_time": "2022-12-29T12:51:32.158Z"
   },
   {
    "duration": 4,
    "start_time": "2022-12-29T12:51:33.873Z"
   },
   {
    "duration": 9,
    "start_time": "2022-12-29T12:51:33.878Z"
   },
   {
    "duration": 15,
    "start_time": "2022-12-29T12:51:33.889Z"
   },
   {
    "duration": 19,
    "start_time": "2022-12-29T12:51:33.906Z"
   },
   {
    "duration": 5,
    "start_time": "2022-12-29T12:51:33.926Z"
   },
   {
    "duration": 31,
    "start_time": "2022-12-29T12:51:33.933Z"
   },
   {
    "duration": 3,
    "start_time": "2022-12-29T12:51:33.967Z"
   },
   {
    "duration": 19,
    "start_time": "2022-12-29T12:51:34.632Z"
   },
   {
    "duration": 7,
    "start_time": "2022-12-29T12:51:35.802Z"
   },
   {
    "duration": 13,
    "start_time": "2022-12-29T12:51:36.514Z"
   },
   {
    "duration": 4,
    "start_time": "2022-12-29T12:51:37.239Z"
   },
   {
    "duration": 15,
    "start_time": "2022-12-29T12:51:37.576Z"
   },
   {
    "duration": 9,
    "start_time": "2022-12-29T12:51:38.706Z"
   },
   {
    "duration": 11,
    "start_time": "2022-12-29T12:51:39.021Z"
   },
   {
    "duration": 6,
    "start_time": "2022-12-29T12:51:40.399Z"
   },
   {
    "duration": 12,
    "start_time": "2022-12-29T12:51:40.953Z"
   },
   {
    "duration": 4,
    "start_time": "2022-12-29T12:51:41.520Z"
   },
   {
    "duration": 24,
    "start_time": "2022-12-29T12:51:42.088Z"
   },
   {
    "duration": 13,
    "start_time": "2022-12-29T12:51:42.384Z"
   },
   {
    "duration": 5,
    "start_time": "2022-12-29T12:52:19.882Z"
   },
   {
    "duration": 8,
    "start_time": "2022-12-29T12:52:50.112Z"
   },
   {
    "duration": 3,
    "start_time": "2022-12-29T12:52:50.885Z"
   },
   {
    "duration": 31,
    "start_time": "2022-12-29T12:52:54.842Z"
   },
   {
    "duration": 11,
    "start_time": "2022-12-29T12:52:55.948Z"
   },
   {
    "duration": 11,
    "start_time": "2022-12-29T12:53:18.035Z"
   },
   {
    "duration": 6,
    "start_time": "2022-12-29T12:54:55.688Z"
   },
   {
    "duration": 132,
    "start_time": "2022-12-29T12:55:28.202Z"
   },
   {
    "duration": 140,
    "start_time": "2022-12-29T12:56:03.207Z"
   },
   {
    "duration": 132,
    "start_time": "2022-12-29T12:56:40.105Z"
   },
   {
    "duration": 5,
    "start_time": "2022-12-29T13:08:35.402Z"
   },
   {
    "duration": 11,
    "start_time": "2022-12-29T13:10:12.834Z"
   },
   {
    "duration": 5,
    "start_time": "2022-12-29T13:10:15.409Z"
   },
   {
    "duration": 9,
    "start_time": "2022-12-29T13:10:16.029Z"
   },
   {
    "duration": 9,
    "start_time": "2022-12-29T13:10:16.626Z"
   },
   {
    "duration": 8,
    "start_time": "2022-12-29T13:11:11.949Z"
   },
   {
    "duration": 5,
    "start_time": "2022-12-29T13:11:13.167Z"
   },
   {
    "duration": 41,
    "start_time": "2022-12-29T13:15:19.572Z"
   },
   {
    "duration": 189,
    "start_time": "2022-12-29T13:15:35.833Z"
   },
   {
    "duration": 49,
    "start_time": "2022-12-29T13:15:49.473Z"
   },
   {
    "duration": 9,
    "start_time": "2022-12-29T13:20:26.639Z"
   },
   {
    "duration": 155,
    "start_time": "2022-12-29T13:21:27.066Z"
   },
   {
    "duration": 19,
    "start_time": "2022-12-29T13:21:39.893Z"
   },
   {
    "duration": 17,
    "start_time": "2022-12-29T13:22:22.240Z"
   },
   {
    "duration": 22,
    "start_time": "2022-12-29T13:22:43.655Z"
   },
   {
    "duration": 13,
    "start_time": "2022-12-29T13:22:47.065Z"
   },
   {
    "duration": 10,
    "start_time": "2022-12-29T13:22:47.095Z"
   },
   {
    "duration": 46,
    "start_time": "2022-12-29T13:22:47.420Z"
   },
   {
    "duration": 49,
    "start_time": "2022-12-29T13:22:47.735Z"
   },
   {
    "duration": 135,
    "start_time": "2022-12-29T13:22:47.787Z"
   },
   {
    "duration": 27,
    "start_time": "2022-12-29T13:23:50.403Z"
   },
   {
    "duration": 287,
    "start_time": "2022-12-29T13:25:28.136Z"
   },
   {
    "duration": 175,
    "start_time": "2022-12-29T13:25:41.848Z"
   },
   {
    "duration": 50,
    "start_time": "2022-12-29T13:27:36.881Z"
   },
   {
    "duration": 117,
    "start_time": "2022-12-29T13:27:47.905Z"
   },
   {
    "duration": 4,
    "start_time": "2022-12-29T14:02:16.468Z"
   },
   {
    "duration": 41,
    "start_time": "2022-12-29T14:02:17.215Z"
   },
   {
    "duration": 13,
    "start_time": "2022-12-29T14:02:17.759Z"
   },
   {
    "duration": 14,
    "start_time": "2022-12-29T14:02:18.234Z"
   },
   {
    "duration": 36,
    "start_time": "2022-12-29T14:02:18.789Z"
   },
   {
    "duration": 1615,
    "start_time": "2022-12-29T14:02:19.313Z"
   },
   {
    "duration": 4,
    "start_time": "2022-12-29T14:02:20.930Z"
   },
   {
    "duration": 3,
    "start_time": "2022-12-29T14:02:21.215Z"
   },
   {
    "duration": 3,
    "start_time": "2022-12-29T14:02:21.879Z"
   },
   {
    "duration": 12,
    "start_time": "2022-12-29T14:02:22.596Z"
   },
   {
    "duration": 4,
    "start_time": "2022-12-29T14:02:23.355Z"
   },
   {
    "duration": 22,
    "start_time": "2022-12-29T14:02:23.970Z"
   },
   {
    "duration": 4,
    "start_time": "2022-12-29T14:02:24.682Z"
   },
   {
    "duration": 17,
    "start_time": "2022-12-29T14:02:25.419Z"
   },
   {
    "duration": 7,
    "start_time": "2022-12-29T14:02:27.703Z"
   },
   {
    "duration": 11,
    "start_time": "2022-12-29T14:02:30.160Z"
   },
   {
    "duration": 5,
    "start_time": "2022-12-29T14:02:31.655Z"
   },
   {
    "duration": 10,
    "start_time": "2022-12-29T14:02:32.290Z"
   },
   {
    "duration": 9,
    "start_time": "2022-12-29T14:02:34.648Z"
   },
   {
    "duration": 11,
    "start_time": "2022-12-29T14:02:35.896Z"
   },
   {
    "duration": 4,
    "start_time": "2022-12-29T14:02:38.441Z"
   },
   {
    "duration": 7,
    "start_time": "2022-12-29T14:02:39.085Z"
   },
   {
    "duration": 4,
    "start_time": "2022-12-29T14:02:39.902Z"
   },
   {
    "duration": 24,
    "start_time": "2022-12-29T14:02:41.452Z"
   },
   {
    "duration": 11,
    "start_time": "2022-12-29T14:02:42.109Z"
   },
   {
    "duration": 13,
    "start_time": "2022-12-29T14:02:42.790Z"
   },
   {
    "duration": 27,
    "start_time": "2022-12-29T14:02:50.300Z"
   },
   {
    "duration": 149,
    "start_time": "2022-12-29T14:02:52.573Z"
   },
   {
    "duration": 160,
    "start_time": "2022-12-29T14:06:55.262Z"
   },
   {
    "duration": 42,
    "start_time": "2022-12-29T14:08:02.005Z"
   },
   {
    "duration": 185,
    "start_time": "2022-12-29T14:08:19.337Z"
   },
   {
    "duration": 87,
    "start_time": "2022-12-29T14:09:58.539Z"
   },
   {
    "duration": 104,
    "start_time": "2022-12-29T14:12:39.118Z"
   },
   {
    "duration": 6,
    "start_time": "2022-12-29T14:15:49.700Z"
   },
   {
    "duration": 4,
    "start_time": "2022-12-29T14:16:06.978Z"
   },
   {
    "duration": 24,
    "start_time": "2022-12-29T14:16:32.263Z"
   },
   {
    "duration": 11,
    "start_time": "2022-12-29T14:16:52.088Z"
   },
   {
    "duration": 15,
    "start_time": "2022-12-29T14:16:52.868Z"
   },
   {
    "duration": 12,
    "start_time": "2022-12-29T14:17:04.051Z"
   },
   {
    "duration": 40,
    "start_time": "2022-12-29T14:17:14.501Z"
   },
   {
    "duration": 53,
    "start_time": "2022-12-29T14:17:52.350Z"
   },
   {
    "duration": 672,
    "start_time": "2022-12-29T14:18:03.059Z"
   },
   {
    "duration": 51,
    "start_time": "2022-12-29T14:19:10.893Z"
   },
   {
    "duration": 57,
    "start_time": "2022-12-29T14:19:15.348Z"
   },
   {
    "duration": 55,
    "start_time": "2022-12-29T14:19:39.171Z"
   },
   {
    "duration": 72,
    "start_time": "2022-12-29T14:19:54.565Z"
   },
   {
    "duration": 52,
    "start_time": "2022-12-29T14:19:59.815Z"
   },
   {
    "duration": 68,
    "start_time": "2022-12-29T14:23:08.882Z"
   },
   {
    "duration": 111,
    "start_time": "2022-12-29T14:23:46.623Z"
   },
   {
    "duration": 39,
    "start_time": "2022-12-29T14:25:26.073Z"
   },
   {
    "duration": 41,
    "start_time": "2022-12-29T14:25:55.088Z"
   },
   {
    "duration": 43,
    "start_time": "2022-12-29T14:26:02.775Z"
   },
   {
    "duration": 5,
    "start_time": "2022-12-29T14:26:20.963Z"
   },
   {
    "duration": 5,
    "start_time": "2022-12-29T14:26:52.444Z"
   },
   {
    "duration": 35,
    "start_time": "2022-12-29T14:26:53.068Z"
   },
   {
    "duration": 12,
    "start_time": "2022-12-29T14:26:53.635Z"
   },
   {
    "duration": 11,
    "start_time": "2022-12-29T14:26:54.209Z"
   },
   {
    "duration": 36,
    "start_time": "2022-12-29T14:26:54.822Z"
   },
   {
    "duration": 1412,
    "start_time": "2022-12-29T14:26:55.465Z"
   },
   {
    "duration": 4,
    "start_time": "2022-12-29T14:26:56.879Z"
   },
   {
    "duration": 3,
    "start_time": "2022-12-29T14:26:57.278Z"
   },
   {
    "duration": 5,
    "start_time": "2022-12-29T14:26:57.854Z"
   },
   {
    "duration": 10,
    "start_time": "2022-12-29T14:26:58.477Z"
   },
   {
    "duration": 5,
    "start_time": "2022-12-29T14:26:59.031Z"
   },
   {
    "duration": 20,
    "start_time": "2022-12-29T14:26:59.777Z"
   },
   {
    "duration": 4,
    "start_time": "2022-12-29T14:27:00.507Z"
   },
   {
    "duration": 15,
    "start_time": "2022-12-29T14:27:01.161Z"
   },
   {
    "duration": 7,
    "start_time": "2022-12-29T14:27:02.320Z"
   },
   {
    "duration": 13,
    "start_time": "2022-12-29T14:27:02.914Z"
   },
   {
    "duration": 4,
    "start_time": "2022-12-29T14:27:04.091Z"
   },
   {
    "duration": 12,
    "start_time": "2022-12-29T14:27:04.637Z"
   },
   {
    "duration": 11,
    "start_time": "2022-12-29T14:27:07.124Z"
   },
   {
    "duration": 11,
    "start_time": "2022-12-29T14:27:08.174Z"
   },
   {
    "duration": 5,
    "start_time": "2022-12-29T14:27:12.869Z"
   },
   {
    "duration": 6,
    "start_time": "2022-12-29T14:27:13.503Z"
   },
   {
    "duration": 4,
    "start_time": "2022-12-29T14:27:14.123Z"
   },
   {
    "duration": 26,
    "start_time": "2022-12-29T14:27:15.356Z"
   },
   {
    "duration": 10,
    "start_time": "2022-12-29T14:27:15.882Z"
   },
   {
    "duration": 10,
    "start_time": "2022-12-29T14:27:16.446Z"
   },
   {
    "duration": 49,
    "start_time": "2022-12-29T14:27:19.784Z"
   },
   {
    "duration": 5,
    "start_time": "2022-12-29T14:27:21.833Z"
   },
   {
    "duration": 146,
    "start_time": "2022-12-29T14:27:22.388Z"
   },
   {
    "duration": 5,
    "start_time": "2022-12-29T14:27:23.939Z"
   },
   {
    "duration": 8,
    "start_time": "2022-12-29T14:27:29.164Z"
   },
   {
    "duration": 5,
    "start_time": "2022-12-29T14:27:30.541Z"
   },
   {
    "duration": 36,
    "start_time": "2022-12-29T14:27:31.631Z"
   },
   {
    "duration": 5,
    "start_time": "2022-12-29T14:29:03.943Z"
   },
   {
    "duration": 35,
    "start_time": "2022-12-29T14:29:04.496Z"
   },
   {
    "duration": 13,
    "start_time": "2022-12-29T14:29:05.072Z"
   },
   {
    "duration": 12,
    "start_time": "2022-12-29T14:29:05.588Z"
   },
   {
    "duration": 38,
    "start_time": "2022-12-29T14:29:06.142Z"
   },
   {
    "duration": 1551,
    "start_time": "2022-12-29T14:29:06.687Z"
   },
   {
    "duration": 3,
    "start_time": "2022-12-29T14:29:08.240Z"
   },
   {
    "duration": 3,
    "start_time": "2022-12-29T14:29:08.320Z"
   },
   {
    "duration": 4,
    "start_time": "2022-12-29T14:29:08.855Z"
   },
   {
    "duration": 11,
    "start_time": "2022-12-29T14:29:09.371Z"
   },
   {
    "duration": 4,
    "start_time": "2022-12-29T14:29:09.888Z"
   },
   {
    "duration": 22,
    "start_time": "2022-12-29T14:29:10.382Z"
   },
   {
    "duration": 4,
    "start_time": "2022-12-29T14:29:10.937Z"
   },
   {
    "duration": 15,
    "start_time": "2022-12-29T14:29:11.521Z"
   },
   {
    "duration": 7,
    "start_time": "2022-12-29T14:29:12.580Z"
   },
   {
    "duration": 11,
    "start_time": "2022-12-29T14:29:13.102Z"
   },
   {
    "duration": 4,
    "start_time": "2022-12-29T14:29:14.353Z"
   },
   {
    "duration": 11,
    "start_time": "2022-12-29T14:29:14.907Z"
   },
   {
    "duration": 11,
    "start_time": "2022-12-29T14:29:17.057Z"
   },
   {
    "duration": 11,
    "start_time": "2022-12-29T14:29:17.483Z"
   },
   {
    "duration": 6,
    "start_time": "2022-12-29T14:29:19.108Z"
   },
   {
    "duration": 6,
    "start_time": "2022-12-29T14:29:19.841Z"
   },
   {
    "duration": 4,
    "start_time": "2022-12-29T14:29:20.782Z"
   },
   {
    "duration": 20,
    "start_time": "2022-12-29T14:29:22.459Z"
   },
   {
    "duration": 10,
    "start_time": "2022-12-29T14:29:23.140Z"
   },
   {
    "duration": 10,
    "start_time": "2022-12-29T14:29:23.932Z"
   },
   {
    "duration": 50,
    "start_time": "2022-12-29T14:29:27.973Z"
   },
   {
    "duration": 6,
    "start_time": "2022-12-29T14:29:30.251Z"
   },
   {
    "duration": 133,
    "start_time": "2022-12-29T14:29:31.173Z"
   },
   {
    "duration": 4,
    "start_time": "2022-12-29T14:29:43.983Z"
   },
   {
    "duration": 11,
    "start_time": "2022-12-29T14:29:44.718Z"
   },
   {
    "duration": 114,
    "start_time": "2022-12-29T14:29:45.508Z"
   },
   {
    "duration": 110,
    "start_time": "2022-12-29T14:31:45.720Z"
   },
   {
    "duration": 5,
    "start_time": "2022-12-29T14:38:35.006Z"
   },
   {
    "duration": 36,
    "start_time": "2022-12-29T14:38:35.062Z"
   },
   {
    "duration": 14,
    "start_time": "2022-12-29T14:38:35.396Z"
   },
   {
    "duration": 16,
    "start_time": "2022-12-29T14:38:35.471Z"
   },
   {
    "duration": 37,
    "start_time": "2022-12-29T14:38:35.735Z"
   },
   {
    "duration": 1415,
    "start_time": "2022-12-29T14:38:36.119Z"
   },
   {
    "duration": 4,
    "start_time": "2022-12-29T14:38:37.536Z"
   },
   {
    "duration": 8,
    "start_time": "2022-12-29T14:38:37.541Z"
   },
   {
    "duration": 9,
    "start_time": "2022-12-29T14:38:37.550Z"
   },
   {
    "duration": 16,
    "start_time": "2022-12-29T14:38:37.560Z"
   },
   {
    "duration": 4,
    "start_time": "2022-12-29T14:38:37.628Z"
   },
   {
    "duration": 21,
    "start_time": "2022-12-29T14:38:38.011Z"
   },
   {
    "duration": 4,
    "start_time": "2022-12-29T14:38:38.565Z"
   },
   {
    "duration": 14,
    "start_time": "2022-12-29T14:38:38.942Z"
   },
   {
    "duration": 7,
    "start_time": "2022-12-29T14:38:39.814Z"
   },
   {
    "duration": 11,
    "start_time": "2022-12-29T14:38:40.417Z"
   },
   {
    "duration": 4,
    "start_time": "2022-12-29T14:38:41.676Z"
   },
   {
    "duration": 12,
    "start_time": "2022-12-29T14:38:42.130Z"
   },
   {
    "duration": 12,
    "start_time": "2022-12-29T14:38:44.280Z"
   },
   {
    "duration": 11,
    "start_time": "2022-12-29T14:38:44.913Z"
   },
   {
    "duration": 5,
    "start_time": "2022-12-29T14:38:46.777Z"
   },
   {
    "duration": 5,
    "start_time": "2022-12-29T14:38:47.708Z"
   },
   {
    "duration": 4,
    "start_time": "2022-12-29T14:38:49.094Z"
   },
   {
    "duration": 22,
    "start_time": "2022-12-29T14:38:50.739Z"
   },
   {
    "duration": 10,
    "start_time": "2022-12-29T14:38:51.502Z"
   },
   {
    "duration": 10,
    "start_time": "2022-12-29T14:38:52.453Z"
   },
   {
    "duration": 94,
    "start_time": "2022-12-29T14:39:56.926Z"
   },
   {
    "duration": 34,
    "start_time": "2022-12-29T14:40:47.694Z"
   },
   {
    "duration": 261,
    "start_time": "2022-12-29T14:41:15.270Z"
   },
   {
    "duration": 38,
    "start_time": "2022-12-29T14:41:20.561Z"
   },
   {
    "duration": 42,
    "start_time": "2022-12-29T14:43:24.163Z"
   },
   {
    "duration": 41,
    "start_time": "2022-12-29T14:43:38.923Z"
   },
   {
    "duration": 849,
    "start_time": "2022-12-29T14:48:17.797Z"
   },
   {
    "duration": 71576,
    "start_time": "2022-12-29T14:50:47.060Z"
   },
   {
    "duration": 71936,
    "start_time": "2022-12-29T14:52:14.601Z"
   },
   {
    "duration": 48,
    "start_time": "2022-12-29T14:57:24.405Z"
   },
   {
    "duration": 50,
    "start_time": "2022-12-29T14:58:03.683Z"
   },
   {
    "duration": 818,
    "start_time": "2022-12-29T14:59:27.030Z"
   },
   {
    "duration": 836,
    "start_time": "2022-12-29T14:59:53.656Z"
   },
   {
    "duration": 1480,
    "start_time": "2022-12-29T15:09:06.149Z"
   },
   {
    "duration": 154,
    "start_time": "2022-12-29T15:09:07.631Z"
   },
   {
    "duration": 17,
    "start_time": "2022-12-29T15:09:07.787Z"
   },
   {
    "duration": 74,
    "start_time": "2022-12-29T15:09:07.806Z"
   },
   {
    "duration": 44,
    "start_time": "2022-12-29T15:09:07.882Z"
   },
   {
    "duration": 1578,
    "start_time": "2022-12-29T15:09:07.927Z"
   },
   {
    "duration": 5,
    "start_time": "2022-12-29T15:09:09.507Z"
   },
   {
    "duration": 12,
    "start_time": "2022-12-29T15:09:09.514Z"
   },
   {
    "duration": 17,
    "start_time": "2022-12-29T15:09:09.528Z"
   },
   {
    "duration": 24,
    "start_time": "2022-12-29T15:09:09.547Z"
   },
   {
    "duration": 8,
    "start_time": "2022-12-29T15:09:09.573Z"
   },
   {
    "duration": 31,
    "start_time": "2022-12-29T15:09:09.582Z"
   },
   {
    "duration": 4,
    "start_time": "2022-12-29T15:09:09.614Z"
   },
   {
    "duration": 25,
    "start_time": "2022-12-29T15:09:09.619Z"
   },
   {
    "duration": 8,
    "start_time": "2022-12-29T15:09:09.927Z"
   },
   {
    "duration": 12,
    "start_time": "2022-12-29T15:09:10.363Z"
   },
   {
    "duration": 4,
    "start_time": "2022-12-29T15:09:10.719Z"
   },
   {
    "duration": 11,
    "start_time": "2022-12-29T15:09:11.106Z"
   },
   {
    "duration": 9,
    "start_time": "2022-12-29T15:09:12.783Z"
   },
   {
    "duration": 18,
    "start_time": "2022-12-29T15:09:13.186Z"
   },
   {
    "duration": 5,
    "start_time": "2022-12-29T15:09:14.326Z"
   },
   {
    "duration": 6,
    "start_time": "2022-12-29T15:09:14.831Z"
   },
   {
    "duration": 4,
    "start_time": "2022-12-29T15:09:15.140Z"
   },
   {
    "duration": 101,
    "start_time": "2022-12-29T15:09:16.119Z"
   },
   {
    "duration": 10,
    "start_time": "2022-12-29T15:09:16.713Z"
   },
   {
    "duration": 11,
    "start_time": "2022-12-29T15:09:17.317Z"
   },
   {
    "duration": 41,
    "start_time": "2022-12-29T15:09:19.902Z"
   },
   {
    "duration": 806,
    "start_time": "2022-12-29T15:09:20.952Z"
   },
   {
    "duration": 69911,
    "start_time": "2022-12-29T15:09:22.022Z"
   },
   {
    "duration": 64,
    "start_time": "2022-12-29T15:10:31.935Z"
   },
   {
    "duration": 0,
    "start_time": "2022-12-29T15:10:32.001Z"
   },
   {
    "duration": 0,
    "start_time": "2022-12-29T15:10:32.003Z"
   },
   {
    "duration": 0,
    "start_time": "2022-12-29T15:10:32.004Z"
   },
   {
    "duration": 48,
    "start_time": "2022-12-29T15:11:32.985Z"
   },
   {
    "duration": 875,
    "start_time": "2022-12-29T15:11:34.879Z"
   },
   {
    "duration": 70842,
    "start_time": "2022-12-29T15:12:57.989Z"
   },
   {
    "duration": 52116,
    "start_time": "2022-12-29T15:14:22.117Z"
   },
   {
    "duration": 6,
    "start_time": "2022-12-29T15:17:50.468Z"
   },
   {
    "duration": 13,
    "start_time": "2022-12-29T15:17:53.826Z"
   },
   {
    "duration": 13,
    "start_time": "2022-12-29T15:18:21.850Z"
   },
   {
    "duration": 48,
    "start_time": "2022-12-29T15:19:06.738Z"
   },
   {
    "duration": 5,
    "start_time": "2022-12-29T15:19:25.159Z"
   },
   {
    "duration": 130,
    "start_time": "2022-12-29T15:19:25.686Z"
   },
   {
    "duration": 15,
    "start_time": "2022-12-29T15:19:47.813Z"
   },
   {
    "duration": 10,
    "start_time": "2022-12-29T15:19:48.964Z"
   },
   {
    "duration": 52,
    "start_time": "2022-12-29T15:19:49.530Z"
   },
   {
    "duration": 50,
    "start_time": "2022-12-29T15:20:02.011Z"
   },
   {
    "duration": 887,
    "start_time": "2022-12-29T15:22:20.944Z"
   },
   {
    "duration": 51373,
    "start_time": "2022-12-29T15:22:33.133Z"
   },
   {
    "duration": 1058,
    "start_time": "2022-12-29T15:24:40.530Z"
   },
   {
    "duration": 72761,
    "start_time": "2022-12-29T15:26:55.271Z"
   },
   {
    "duration": 114,
    "start_time": "2022-12-29T15:32:38.214Z"
   },
   {
    "duration": 23,
    "start_time": "2022-12-29T15:37:57.198Z"
   },
   {
    "duration": 319,
    "start_time": "2022-12-29T15:39:37.775Z"
   },
   {
    "duration": 24622,
    "start_time": "2022-12-29T15:41:26.713Z"
   },
   {
    "duration": 14,
    "start_time": "2022-12-29T15:43:20.815Z"
   },
   {
    "duration": 36,
    "start_time": "2022-12-29T15:43:33.673Z"
   },
   {
    "duration": 5,
    "start_time": "2022-12-29T15:43:42.784Z"
   },
   {
    "duration": 44,
    "start_time": "2022-12-29T15:43:43.318Z"
   },
   {
    "duration": 14,
    "start_time": "2022-12-29T15:43:43.845Z"
   },
   {
    "duration": 26,
    "start_time": "2022-12-29T15:43:44.458Z"
   },
   {
    "duration": 51,
    "start_time": "2022-12-29T15:43:45.162Z"
   },
   {
    "duration": 1707,
    "start_time": "2022-12-29T15:43:45.627Z"
   },
   {
    "duration": 4,
    "start_time": "2022-12-29T15:43:47.336Z"
   },
   {
    "duration": 3,
    "start_time": "2022-12-29T15:43:47.395Z"
   },
   {
    "duration": 6,
    "start_time": "2022-12-29T15:43:47.983Z"
   },
   {
    "duration": 16,
    "start_time": "2022-12-29T15:43:48.550Z"
   },
   {
    "duration": 6,
    "start_time": "2022-12-29T15:43:49.127Z"
   },
   {
    "duration": 30,
    "start_time": "2022-12-29T15:43:49.728Z"
   },
   {
    "duration": 4,
    "start_time": "2022-12-29T15:43:50.411Z"
   },
   {
    "duration": 14,
    "start_time": "2022-12-29T15:43:51.044Z"
   },
   {
    "duration": 9,
    "start_time": "2022-12-29T15:43:52.447Z"
   },
   {
    "duration": 12,
    "start_time": "2022-12-29T15:43:53.046Z"
   },
   {
    "duration": 5,
    "start_time": "2022-12-29T15:43:54.326Z"
   },
   {
    "duration": 15,
    "start_time": "2022-12-29T15:43:54.928Z"
   },
   {
    "duration": 16,
    "start_time": "2022-12-29T15:43:57.503Z"
   },
   {
    "duration": 15,
    "start_time": "2022-12-29T15:43:58.167Z"
   },
   {
    "duration": 6,
    "start_time": "2022-12-29T15:44:00.102Z"
   },
   {
    "duration": 7,
    "start_time": "2022-12-29T15:44:00.905Z"
   },
   {
    "duration": 23,
    "start_time": "2022-12-29T15:44:01.863Z"
   },
   {
    "duration": 32,
    "start_time": "2022-12-29T15:44:04.487Z"
   },
   {
    "duration": 16,
    "start_time": "2022-12-29T15:44:05.000Z"
   },
   {
    "duration": 17,
    "start_time": "2022-12-29T15:44:05.659Z"
   },
   {
    "duration": 96,
    "start_time": "2022-12-29T15:44:08.343Z"
   },
   {
    "duration": 843,
    "start_time": "2022-12-29T15:44:10.485Z"
   },
   {
    "duration": 74915,
    "start_time": "2022-12-29T15:44:14.883Z"
   },
   {
    "duration": 120,
    "start_time": "2022-12-29T15:45:34.423Z"
   },
   {
    "duration": 938,
    "start_time": "2022-12-29T15:45:35.490Z"
   },
   {
    "duration": 54846,
    "start_time": "2022-12-29T15:45:37.049Z"
   },
   {
    "duration": 9,
    "start_time": "2022-12-29T15:46:34.632Z"
   },
   {
    "duration": 224,
    "start_time": "2022-12-29T15:46:35.752Z"
   },
   {
    "duration": 6,
    "start_time": "2022-12-29T15:46:38.028Z"
   },
   {
    "duration": 9,
    "start_time": "2022-12-29T15:46:39.030Z"
   },
   {
    "duration": 97,
    "start_time": "2022-12-29T15:46:39.758Z"
   },
   {
    "duration": 1279,
    "start_time": "2022-12-29T15:46:40.454Z"
   },
   {
    "duration": 74502,
    "start_time": "2022-12-29T15:46:41.735Z"
   },
   {
    "duration": 73,
    "start_time": "2022-12-29T15:47:56.239Z"
   },
   {
    "duration": 0,
    "start_time": "2022-12-29T15:47:56.314Z"
   },
   {
    "duration": 0,
    "start_time": "2022-12-29T15:47:56.316Z"
   },
   {
    "duration": 0,
    "start_time": "2022-12-29T15:47:56.317Z"
   },
   {
    "duration": 0,
    "start_time": "2022-12-29T15:47:56.319Z"
   },
   {
    "duration": 10,
    "start_time": "2022-12-29T15:50:00.613Z"
   },
   {
    "duration": 23,
    "start_time": "2022-12-29T15:50:01.843Z"
   },
   {
    "duration": 386,
    "start_time": "2022-12-29T15:50:02.769Z"
   },
   {
    "duration": 29200,
    "start_time": "2022-12-29T15:50:05.098Z"
   },
   {
    "duration": 4,
    "start_time": "2022-12-29T16:45:01.685Z"
   },
   {
    "duration": 37,
    "start_time": "2022-12-29T16:45:03.186Z"
   },
   {
    "duration": 12,
    "start_time": "2022-12-29T16:45:07.258Z"
   },
   {
    "duration": 11,
    "start_time": "2022-12-29T16:45:08.129Z"
   },
   {
    "duration": 38,
    "start_time": "2022-12-29T16:45:09.357Z"
   },
   {
    "duration": 1453,
    "start_time": "2022-12-29T16:45:10.457Z"
   },
   {
    "duration": 4,
    "start_time": "2022-12-29T16:45:11.973Z"
   },
   {
    "duration": 3,
    "start_time": "2022-12-29T16:45:12.646Z"
   },
   {
    "duration": 4,
    "start_time": "2022-12-29T16:45:13.181Z"
   },
   {
    "duration": 10,
    "start_time": "2022-12-29T16:45:13.756Z"
   },
   {
    "duration": 5,
    "start_time": "2022-12-29T16:45:14.321Z"
   },
   {
    "duration": 25,
    "start_time": "2022-12-29T16:45:14.974Z"
   },
   {
    "duration": 5,
    "start_time": "2022-12-29T16:45:15.740Z"
   },
   {
    "duration": 14,
    "start_time": "2022-12-29T16:45:18.145Z"
   },
   {
    "duration": 7,
    "start_time": "2022-12-29T16:45:19.794Z"
   },
   {
    "duration": 12,
    "start_time": "2022-12-29T16:45:20.076Z"
   },
   {
    "duration": 4,
    "start_time": "2022-12-29T16:52:17.896Z"
   },
   {
    "duration": 36,
    "start_time": "2022-12-29T16:52:20.085Z"
   },
   {
    "duration": 12,
    "start_time": "2022-12-29T16:52:21.671Z"
   },
   {
    "duration": 13,
    "start_time": "2022-12-29T16:52:22.642Z"
   },
   {
    "duration": 38,
    "start_time": "2022-12-29T16:52:23.572Z"
   },
   {
    "duration": 1617,
    "start_time": "2022-12-29T16:52:24.562Z"
   },
   {
    "duration": 5,
    "start_time": "2022-12-29T16:52:29.942Z"
   },
   {
    "duration": 4,
    "start_time": "2022-12-29T16:52:30.745Z"
   },
   {
    "duration": 4,
    "start_time": "2022-12-29T16:52:31.675Z"
   },
   {
    "duration": 12,
    "start_time": "2022-12-29T16:52:32.526Z"
   },
   {
    "duration": 5,
    "start_time": "2022-12-29T16:52:33.637Z"
   },
   {
    "duration": 26,
    "start_time": "2022-12-29T16:52:34.460Z"
   },
   {
    "duration": 6,
    "start_time": "2022-12-29T16:52:35.572Z"
   },
   {
    "duration": 16,
    "start_time": "2022-12-29T16:52:36.501Z"
   },
   {
    "duration": 7,
    "start_time": "2022-12-29T16:52:38.124Z"
   },
   {
    "duration": 11,
    "start_time": "2022-12-29T16:52:38.998Z"
   },
   {
    "duration": 4,
    "start_time": "2022-12-29T16:52:40.920Z"
   },
   {
    "duration": 13,
    "start_time": "2022-12-29T16:52:41.554Z"
   },
   {
    "duration": 51,
    "start_time": "2022-12-29T17:20:47.930Z"
   },
   {
    "duration": 1747,
    "start_time": "2022-12-29T17:24:38.820Z"
   },
   {
    "duration": 192,
    "start_time": "2022-12-29T17:24:40.569Z"
   },
   {
    "duration": 18,
    "start_time": "2022-12-29T17:24:40.763Z"
   },
   {
    "duration": 15,
    "start_time": "2022-12-29T17:24:40.797Z"
   },
   {
    "duration": 50,
    "start_time": "2022-12-29T17:24:41.334Z"
   },
   {
    "duration": 1786,
    "start_time": "2022-12-29T17:24:42.107Z"
   },
   {
    "duration": 5,
    "start_time": "2022-12-29T17:24:43.896Z"
   },
   {
    "duration": 4,
    "start_time": "2022-12-29T17:24:44.051Z"
   },
   {
    "duration": 4,
    "start_time": "2022-12-29T17:24:44.700Z"
   },
   {
    "duration": 14,
    "start_time": "2022-12-29T17:24:45.342Z"
   },
   {
    "duration": 5,
    "start_time": "2022-12-29T17:24:46.100Z"
   },
   {
    "duration": 34,
    "start_time": "2022-12-29T17:24:46.727Z"
   },
   {
    "duration": 4,
    "start_time": "2022-12-29T17:24:48.458Z"
   },
   {
    "duration": 15,
    "start_time": "2022-12-29T17:24:54.386Z"
   },
   {
    "duration": 9,
    "start_time": "2022-12-29T17:24:57.885Z"
   },
   {
    "duration": 5,
    "start_time": "2022-12-29T17:25:05.604Z"
   },
   {
    "duration": 15,
    "start_time": "2022-12-29T17:25:06.485Z"
   },
   {
    "duration": 5,
    "start_time": "2022-12-29T17:26:25.134Z"
   },
   {
    "duration": 5,
    "start_time": "2022-12-29T17:26:39.054Z"
   },
   {
    "duration": 7,
    "start_time": "2022-12-29T17:30:12.302Z"
   },
   {
    "duration": 14,
    "start_time": "2022-12-29T17:30:13.084Z"
   },
   {
    "duration": 5,
    "start_time": "2022-12-29T17:33:09.002Z"
   },
   {
    "duration": 38,
    "start_time": "2022-12-29T17:33:09.537Z"
   },
   {
    "duration": 14,
    "start_time": "2022-12-29T17:33:10.344Z"
   },
   {
    "duration": 16,
    "start_time": "2022-12-29T17:33:10.959Z"
   },
   {
    "duration": 58,
    "start_time": "2022-12-29T17:33:11.764Z"
   },
   {
    "duration": 1661,
    "start_time": "2022-12-29T17:33:12.295Z"
   },
   {
    "duration": 4,
    "start_time": "2022-12-29T17:33:13.958Z"
   },
   {
    "duration": 4,
    "start_time": "2022-12-29T17:33:14.362Z"
   },
   {
    "duration": 4,
    "start_time": "2022-12-29T17:33:14.996Z"
   },
   {
    "duration": 13,
    "start_time": "2022-12-29T17:33:15.541Z"
   },
   {
    "duration": 6,
    "start_time": "2022-12-29T17:33:16.148Z"
   },
   {
    "duration": 34,
    "start_time": "2022-12-29T17:33:16.728Z"
   },
   {
    "duration": 5,
    "start_time": "2022-12-29T17:33:18.011Z"
   },
   {
    "duration": 19,
    "start_time": "2022-12-29T17:33:20.143Z"
   },
   {
    "duration": 9,
    "start_time": "2022-12-29T17:33:21.477Z"
   },
   {
    "duration": 5,
    "start_time": "2022-12-29T17:33:23.087Z"
   },
   {
    "duration": 7,
    "start_time": "2022-12-29T17:33:23.667Z"
   },
   {
    "duration": 6,
    "start_time": "2022-12-29T17:33:24.359Z"
   },
   {
    "duration": 15,
    "start_time": "2022-12-29T17:33:25.270Z"
   },
   {
    "duration": 14,
    "start_time": "2022-12-29T17:34:48.062Z"
   },
   {
    "duration": 17,
    "start_time": "2022-12-29T17:34:48.832Z"
   },
   {
    "duration": 6,
    "start_time": "2022-12-29T17:39:42.248Z"
   },
   {
    "duration": 10,
    "start_time": "2022-12-29T17:39:42.837Z"
   },
   {
    "duration": 9,
    "start_time": "2022-12-29T17:39:43.352Z"
   },
   {
    "duration": 7,
    "start_time": "2022-12-29T17:40:03.009Z"
   },
   {
    "duration": 16,
    "start_time": "2022-12-29T17:42:50.551Z"
   },
   {
    "duration": 13,
    "start_time": "2022-12-29T17:42:56.319Z"
   },
   {
    "duration": 6,
    "start_time": "2022-12-29T17:43:14.966Z"
   },
   {
    "duration": 43,
    "start_time": "2022-12-29T17:43:15.593Z"
   },
   {
    "duration": 14,
    "start_time": "2022-12-29T17:43:16.106Z"
   },
   {
    "duration": 22,
    "start_time": "2022-12-29T17:43:16.651Z"
   },
   {
    "duration": 55,
    "start_time": "2022-12-29T17:43:17.304Z"
   },
   {
    "duration": 2054,
    "start_time": "2022-12-29T17:43:17.928Z"
   },
   {
    "duration": 5,
    "start_time": "2022-12-29T17:43:19.985Z"
   },
   {
    "duration": 11,
    "start_time": "2022-12-29T17:43:19.992Z"
   },
   {
    "duration": 6,
    "start_time": "2022-12-29T17:43:20.403Z"
   },
   {
    "duration": 20,
    "start_time": "2022-12-29T17:43:20.996Z"
   },
   {
    "duration": 6,
    "start_time": "2022-12-29T17:43:21.651Z"
   },
   {
    "duration": 38,
    "start_time": "2022-12-29T17:43:22.225Z"
   },
   {
    "duration": 5,
    "start_time": "2022-12-29T17:43:23.458Z"
   },
   {
    "duration": 22,
    "start_time": "2022-12-29T17:43:24.579Z"
   },
   {
    "duration": 9,
    "start_time": "2022-12-29T17:43:25.668Z"
   },
   {
    "duration": 6,
    "start_time": "2022-12-29T17:43:26.773Z"
   },
   {
    "duration": 7,
    "start_time": "2022-12-29T17:43:27.333Z"
   },
   {
    "duration": 7,
    "start_time": "2022-12-29T17:43:27.915Z"
   },
   {
    "duration": 19,
    "start_time": "2022-12-29T17:43:28.515Z"
   },
   {
    "duration": 15,
    "start_time": "2022-12-29T17:43:31.008Z"
   },
   {
    "duration": 20,
    "start_time": "2022-12-29T17:43:32.085Z"
   },
   {
    "duration": 7,
    "start_time": "2022-12-29T17:43:37.695Z"
   },
   {
    "duration": 8,
    "start_time": "2022-12-29T17:43:38.292Z"
   },
   {
    "duration": 7,
    "start_time": "2022-12-29T17:43:38.946Z"
   },
   {
    "duration": 5,
    "start_time": "2022-12-29T17:43:39.569Z"
   },
   {
    "duration": 34,
    "start_time": "2022-12-29T17:43:41.647Z"
   },
   {
    "duration": 23,
    "start_time": "2022-12-29T17:43:48.000Z"
   },
   {
    "duration": 19,
    "start_time": "2022-12-29T17:43:49.073Z"
   },
   {
    "duration": 45,
    "start_time": "2022-12-29T17:44:22.437Z"
   },
   {
    "duration": 34,
    "start_time": "2022-12-29T17:45:25.415Z"
   },
   {
    "duration": 41,
    "start_time": "2022-12-29T17:47:28.108Z"
   },
   {
    "duration": 22,
    "start_time": "2022-12-29T17:48:00.334Z"
   },
   {
    "duration": 839,
    "start_time": "2022-12-29T17:48:02.784Z"
   },
   {
    "duration": 75367,
    "start_time": "2022-12-29T17:48:24.504Z"
   },
   {
    "duration": 124,
    "start_time": "2022-12-29T17:51:53.238Z"
   },
   {
    "duration": 983,
    "start_time": "2022-12-29T17:52:48.848Z"
   },
   {
    "duration": 74546,
    "start_time": "2022-12-29T17:53:01.377Z"
   },
   {
    "duration": 170,
    "start_time": "2022-12-29T17:54:22.908Z"
   },
   {
    "duration": 94703,
    "start_time": "2022-12-29T17:54:45.085Z"
   },
   {
    "duration": 66,
    "start_time": "2022-12-29T17:56:43.419Z"
   },
   {
    "duration": 115,
    "start_time": "2022-12-29T17:57:15.846Z"
   },
   {
    "duration": 54092,
    "start_time": "2022-12-29T17:58:56.397Z"
   },
   {
    "duration": 4,
    "start_time": "2022-12-29T18:01:18.105Z"
   },
   {
    "duration": 13,
    "start_time": "2022-12-29T18:01:19.882Z"
   },
   {
    "duration": 46,
    "start_time": "2022-12-29T18:01:21.084Z"
   },
   {
    "duration": 966,
    "start_time": "2022-12-29T18:01:34.609Z"
   },
   {
    "duration": 122394,
    "start_time": "2022-12-29T18:01:54.167Z"
   },
   {
    "duration": 28312,
    "start_time": "2022-12-29T18:04:20.547Z"
   },
   {
    "duration": 11,
    "start_time": "2022-12-29T18:07:01.710Z"
   },
   {
    "duration": 81,
    "start_time": "2022-12-29T18:07:22.872Z"
   },
   {
    "duration": 397,
    "start_time": "2022-12-29T18:07:43.548Z"
   },
   {
    "duration": 30886,
    "start_time": "2022-12-29T18:07:55.085Z"
   },
   {
    "duration": 1383,
    "start_time": "2022-12-29T18:12:34.303Z"
   },
   {
    "duration": 1160,
    "start_time": "2022-12-29T18:14:44.924Z"
   },
   {
    "duration": 1102,
    "start_time": "2022-12-29T18:15:27.156Z"
   },
   {
    "duration": 106815,
    "start_time": "2022-12-29T18:15:56.000Z"
   },
   {
    "duration": 186,
    "start_time": "2022-12-29T18:18:10.073Z"
   },
   {
    "duration": 970,
    "start_time": "2022-12-29T18:18:42.072Z"
   },
   {
    "duration": 59707,
    "start_time": "2022-12-29T18:18:51.875Z"
   },
   {
    "duration": 57010,
    "start_time": "2022-12-29T18:20:00.405Z"
   },
   {
    "duration": 90,
    "start_time": "2022-12-29T18:21:54.967Z"
   },
   {
    "duration": 51755,
    "start_time": "2022-12-29T18:22:06.376Z"
   },
   {
    "duration": 4,
    "start_time": "2022-12-29T18:22:58.133Z"
   },
   {
    "duration": 9,
    "start_time": "2022-12-29T18:23:24.532Z"
   },
   {
    "duration": 122,
    "start_time": "2022-12-29T18:23:25.233Z"
   },
   {
    "duration": 1121,
    "start_time": "2022-12-29T18:23:28.903Z"
   },
   {
    "duration": 30378,
    "start_time": "2022-12-29T18:23:31.271Z"
   },
   {
    "duration": 98,
    "start_time": "2022-12-29T18:24:39.661Z"
   },
   {
    "duration": 404,
    "start_time": "2022-12-29T18:24:44.100Z"
   },
   {
    "duration": 1026,
    "start_time": "2022-12-29T18:25:18.321Z"
   },
   {
    "duration": 30151,
    "start_time": "2022-12-29T18:26:23.334Z"
   },
   {
    "duration": 15,
    "start_time": "2022-12-29T18:26:53.486Z"
   },
   {
    "duration": 57,
    "start_time": "2022-12-29T18:26:53.504Z"
   },
   {
    "duration": 511,
    "start_time": "2022-12-29T18:27:00.022Z"
   },
   {
    "duration": 33493,
    "start_time": "2022-12-29T18:27:40.216Z"
   },
   {
    "duration": 122694,
    "start_time": "2022-12-29T18:32:19.108Z"
   },
   {
    "duration": 282323,
    "start_time": "2022-12-29T18:53:04.789Z"
   },
   {
    "duration": 83328,
    "start_time": "2022-12-29T18:58:04.048Z"
   },
   {
    "duration": 620,
    "start_time": "2022-12-29T19:04:21.279Z"
   },
   {
    "duration": 712,
    "start_time": "2022-12-29T19:07:12.602Z"
   },
   {
    "duration": 654,
    "start_time": "2022-12-29T19:07:24.896Z"
   },
   {
    "duration": 700,
    "start_time": "2022-12-29T19:07:39.285Z"
   },
   {
    "duration": 6,
    "start_time": "2022-12-29T19:11:28.284Z"
   },
   {
    "duration": 698,
    "start_time": "2022-12-29T19:11:56.306Z"
   },
   {
    "duration": 735,
    "start_time": "2022-12-29T19:12:29.174Z"
   },
   {
    "duration": 618,
    "start_time": "2022-12-29T19:14:12.508Z"
   },
   {
    "duration": 16,
    "start_time": "2022-12-29T19:17:09.771Z"
   },
   {
    "duration": 6,
    "start_time": "2022-12-29T19:17:34.408Z"
   },
   {
    "duration": 15,
    "start_time": "2022-12-29T19:17:43.073Z"
   },
   {
    "duration": 17,
    "start_time": "2022-12-29T19:18:33.424Z"
   },
   {
    "duration": 15,
    "start_time": "2022-12-29T19:20:14.562Z"
   },
   {
    "duration": 66,
    "start_time": "2022-12-29T19:20:37.439Z"
   },
   {
    "duration": 14,
    "start_time": "2022-12-29T19:23:18.732Z"
   },
   {
    "duration": 57,
    "start_time": "2022-12-29T19:23:36.943Z"
   },
   {
    "duration": 11,
    "start_time": "2022-12-29T19:23:37.773Z"
   },
   {
    "duration": 44,
    "start_time": "2022-12-29T19:24:16.568Z"
   },
   {
    "duration": 189,
    "start_time": "2022-12-29T19:24:17.184Z"
   },
   {
    "duration": 15,
    "start_time": "2022-12-29T19:25:14.149Z"
   },
   {
    "duration": 8,
    "start_time": "2022-12-29T19:28:18.442Z"
   },
   {
    "duration": 18,
    "start_time": "2022-12-29T19:29:05.315Z"
   },
   {
    "duration": 7,
    "start_time": "2022-12-29T19:29:39.120Z"
   },
   {
    "duration": 7,
    "start_time": "2022-12-29T19:30:04.180Z"
   },
   {
    "duration": 7,
    "start_time": "2022-12-29T19:30:05.475Z"
   },
   {
    "duration": 5,
    "start_time": "2022-12-29T19:48:14.478Z"
   },
   {
    "duration": 55,
    "start_time": "2022-12-29T19:48:19.737Z"
   },
   {
    "duration": 19,
    "start_time": "2022-12-29T19:48:20.692Z"
   },
   {
    "duration": 19,
    "start_time": "2022-12-29T19:48:21.780Z"
   },
   {
    "duration": 43,
    "start_time": "2022-12-29T19:48:22.636Z"
   },
   {
    "duration": 2002,
    "start_time": "2022-12-29T19:48:23.526Z"
   },
   {
    "duration": 5,
    "start_time": "2022-12-29T19:48:29.394Z"
   },
   {
    "duration": 4,
    "start_time": "2022-12-29T19:48:31.388Z"
   },
   {
    "duration": 5,
    "start_time": "2022-12-29T19:48:32.932Z"
   },
   {
    "duration": 20,
    "start_time": "2022-12-29T19:48:34.027Z"
   },
   {
    "duration": 232,
    "start_time": "2022-12-29T19:50:09.385Z"
   },
   {
    "duration": 99,
    "start_time": "2022-12-29T19:50:14.391Z"
   },
   {
    "duration": 6,
    "start_time": "2022-12-29T19:50:38.717Z"
   },
   {
    "duration": 41,
    "start_time": "2022-12-29T19:50:39.708Z"
   },
   {
    "duration": 17,
    "start_time": "2022-12-29T19:50:40.745Z"
   },
   {
    "duration": 17,
    "start_time": "2022-12-29T19:50:41.444Z"
   },
   {
    "duration": 48,
    "start_time": "2022-12-29T19:50:42.081Z"
   },
   {
    "duration": 1821,
    "start_time": "2022-12-29T19:50:42.751Z"
   },
   {
    "duration": 5,
    "start_time": "2022-12-29T19:50:44.574Z"
   },
   {
    "duration": 3,
    "start_time": "2022-12-29T19:50:44.609Z"
   },
   {
    "duration": 6,
    "start_time": "2022-12-29T19:50:45.125Z"
   },
   {
    "duration": 19,
    "start_time": "2022-12-29T19:50:45.306Z"
   },
   {
    "duration": 6,
    "start_time": "2022-12-29T19:50:45.507Z"
   },
   {
    "duration": 39,
    "start_time": "2022-12-29T19:50:45.727Z"
   },
   {
    "duration": 6,
    "start_time": "2022-12-29T19:50:46.107Z"
   },
   {
    "duration": 23,
    "start_time": "2022-12-29T19:50:46.814Z"
   },
   {
    "duration": 12,
    "start_time": "2022-12-29T19:50:47.843Z"
   },
   {
    "duration": 5,
    "start_time": "2022-12-29T19:50:48.496Z"
   },
   {
    "duration": 5,
    "start_time": "2022-12-29T19:50:48.732Z"
   },
   {
    "duration": 7,
    "start_time": "2022-12-29T19:50:48.948Z"
   },
   {
    "duration": 14,
    "start_time": "2022-12-29T19:50:49.169Z"
   },
   {
    "duration": 18,
    "start_time": "2022-12-29T19:50:50.238Z"
   },
   {
    "duration": 16,
    "start_time": "2022-12-29T19:50:50.807Z"
   },
   {
    "duration": 6,
    "start_time": "2022-12-29T19:50:52.358Z"
   },
   {
    "duration": 7,
    "start_time": "2022-12-29T19:50:52.841Z"
   },
   {
    "duration": 6,
    "start_time": "2022-12-29T19:50:53.288Z"
   },
   {
    "duration": 5,
    "start_time": "2022-12-29T19:50:53.678Z"
   },
   {
    "duration": 43,
    "start_time": "2022-12-29T19:50:54.625Z"
   },
   {
    "duration": 14,
    "start_time": "2022-12-29T19:50:55.093Z"
   },
   {
    "duration": 13,
    "start_time": "2022-12-29T19:50:55.574Z"
   },
   {
    "duration": 897,
    "start_time": "2022-12-29T19:50:58.565Z"
   },
   {
    "duration": 827,
    "start_time": "2022-12-29T19:50:59.993Z"
   },
   {
    "duration": 91871,
    "start_time": "2022-12-29T19:51:02.506Z"
   },
   {
    "duration": 169,
    "start_time": "2022-12-29T19:52:34.379Z"
   },
   {
    "duration": 107,
    "start_time": "2022-12-29T19:52:34.553Z"
   },
   {
    "duration": 931,
    "start_time": "2022-12-29T19:52:34.669Z"
   },
   {
    "duration": 55372,
    "start_time": "2022-12-29T19:52:35.602Z"
   },
   {
    "duration": 5,
    "start_time": "2022-12-29T19:53:30.976Z"
   },
   {
    "duration": 43,
    "start_time": "2022-12-29T19:53:30.983Z"
   },
   {
    "duration": 21638,
    "start_time": "2022-12-29T19:53:31.029Z"
   },
   {
    "duration": 158,
    "start_time": "2022-12-29T19:53:57.956Z"
   },
   {
    "duration": 94,
    "start_time": "2022-12-29T19:54:11.571Z"
   },
   {
    "duration": 857,
    "start_time": "2022-12-29T19:54:12.726Z"
   },
   {
    "duration": 57227,
    "start_time": "2022-12-29T19:54:15.455Z"
   },
   {
    "duration": 7,
    "start_time": "2022-12-29T19:55:24.648Z"
   },
   {
    "duration": 190,
    "start_time": "2022-12-29T19:55:49.602Z"
   },
   {
    "duration": 1094,
    "start_time": "2022-12-29T19:55:50.747Z"
   },
   {
    "duration": 82886,
    "start_time": "2022-12-29T19:55:53.442Z"
   },
   {
    "duration": 12,
    "start_time": "2022-12-29T19:57:28.414Z"
   },
   {
    "duration": 72,
    "start_time": "2022-12-29T19:57:29.493Z"
   },
   {
    "duration": 452,
    "start_time": "2022-12-29T19:57:30.523Z"
   },
   {
    "duration": 32573,
    "start_time": "2022-12-29T19:57:32.425Z"
   },
   {
    "duration": 647,
    "start_time": "2022-12-29T19:58:05.001Z"
   },
   {
    "duration": 596,
    "start_time": "2022-12-29T19:58:14.266Z"
   },
   {
    "duration": 54,
    "start_time": "2022-12-29T19:58:23.795Z"
   },
   {
    "duration": 173,
    "start_time": "2022-12-29T19:58:25.294Z"
   },
   {
    "duration": 7,
    "start_time": "2022-12-29T19:58:29.811Z"
   },
   {
    "duration": 7,
    "start_time": "2022-12-29T19:58:36.834Z"
   },
   {
    "duration": 1547,
    "start_time": "2023-01-08T11:03:20.505Z"
   },
   {
    "duration": 115,
    "start_time": "2023-01-08T11:03:22.054Z"
   },
   {
    "duration": 24,
    "start_time": "2023-01-08T11:03:22.708Z"
   },
   {
    "duration": 13,
    "start_time": "2023-01-08T11:03:23.436Z"
   },
   {
    "duration": 49,
    "start_time": "2023-01-08T11:03:23.990Z"
   },
   {
    "duration": 1766,
    "start_time": "2023-01-08T11:03:25.364Z"
   },
   {
    "duration": 6,
    "start_time": "2023-01-08T11:03:27.131Z"
   },
   {
    "duration": 3,
    "start_time": "2023-01-08T11:03:27.245Z"
   },
   {
    "duration": 6,
    "start_time": "2023-01-08T11:03:27.933Z"
   },
   {
    "duration": 12,
    "start_time": "2023-01-08T11:03:28.470Z"
   },
   {
    "duration": 6,
    "start_time": "2023-01-08T11:03:29.147Z"
   },
   {
    "duration": 22,
    "start_time": "2023-01-08T11:03:29.738Z"
   },
   {
    "duration": 11,
    "start_time": "2023-01-08T11:03:31.121Z"
   },
   {
    "duration": 29,
    "start_time": "2023-01-08T11:03:35.314Z"
   },
   {
    "duration": 9,
    "start_time": "2023-01-08T11:03:37.874Z"
   },
   {
    "duration": 10,
    "start_time": "2023-01-08T11:03:39.624Z"
   },
   {
    "duration": 5,
    "start_time": "2023-01-08T11:03:44.051Z"
   },
   {
    "duration": 5,
    "start_time": "2023-01-08T11:03:47.835Z"
   },
   {
    "duration": 11,
    "start_time": "2023-01-08T11:03:50.751Z"
   },
   {
    "duration": 9,
    "start_time": "2023-01-08T11:04:00.781Z"
   },
   {
    "duration": 5,
    "start_time": "2023-01-08T11:10:23.134Z"
   },
   {
    "duration": 62,
    "start_time": "2023-01-08T11:11:24.689Z"
   },
   {
    "duration": 17,
    "start_time": "2023-01-08T11:11:25.326Z"
   },
   {
    "duration": 17,
    "start_time": "2023-01-08T11:11:25.930Z"
   },
   {
    "duration": 40,
    "start_time": "2023-01-08T11:11:26.630Z"
   },
   {
    "duration": 1638,
    "start_time": "2023-01-08T11:11:28.526Z"
   },
   {
    "duration": 5,
    "start_time": "2023-01-08T11:11:30.166Z"
   },
   {
    "duration": 3,
    "start_time": "2023-01-08T11:11:31.233Z"
   },
   {
    "duration": 9,
    "start_time": "2023-01-08T11:11:33.220Z"
   },
   {
    "duration": 12,
    "start_time": "2023-01-08T11:11:33.761Z"
   },
   {
    "duration": 6,
    "start_time": "2023-01-08T11:11:34.550Z"
   },
   {
    "duration": 35,
    "start_time": "2023-01-08T11:11:35.611Z"
   },
   {
    "duration": 5,
    "start_time": "2023-01-08T11:11:38.683Z"
   },
   {
    "duration": 5,
    "start_time": "2023-01-08T11:13:40.130Z"
   },
   {
    "duration": 46,
    "start_time": "2023-01-08T11:14:05.754Z"
   },
   {
    "duration": 18,
    "start_time": "2023-01-08T11:17:12.820Z"
   },
   {
    "duration": 6,
    "start_time": "2023-01-08T11:17:24.280Z"
   },
   {
    "duration": 5,
    "start_time": "2023-01-08T11:17:30.478Z"
   },
   {
    "duration": 4,
    "start_time": "2023-01-08T11:17:56.079Z"
   },
   {
    "duration": 5,
    "start_time": "2023-01-08T11:17:56.981Z"
   },
   {
    "duration": 12,
    "start_time": "2023-01-08T11:17:57.888Z"
   },
   {
    "duration": 10,
    "start_time": "2023-01-08T11:18:01.658Z"
   },
   {
    "duration": 4,
    "start_time": "2023-01-08T11:47:07.568Z"
   },
   {
    "duration": 117,
    "start_time": "2023-01-08T12:49:15.916Z"
   },
   {
    "duration": 10768,
    "start_time": "2023-01-08T12:49:33.151Z"
   },
   {
    "duration": 5,
    "start_time": "2023-01-08T12:49:43.922Z"
   },
   {
    "duration": 42,
    "start_time": "2023-01-08T12:49:43.929Z"
   },
   {
    "duration": 12,
    "start_time": "2023-01-08T12:49:43.973Z"
   },
   {
    "duration": 16,
    "start_time": "2023-01-08T12:49:43.986Z"
   },
   {
    "duration": 51,
    "start_time": "2023-01-08T12:49:44.006Z"
   },
   {
    "duration": 1710,
    "start_time": "2023-01-08T12:49:53.285Z"
   },
   {
    "duration": 5,
    "start_time": "2023-01-08T12:49:55.324Z"
   },
   {
    "duration": 3,
    "start_time": "2023-01-08T12:49:56.265Z"
   },
   {
    "duration": 4,
    "start_time": "2023-01-08T12:49:56.950Z"
   },
   {
    "duration": 12,
    "start_time": "2023-01-08T12:49:57.531Z"
   },
   {
    "duration": 4,
    "start_time": "2023-01-08T12:49:58.119Z"
   },
   {
    "duration": 31,
    "start_time": "2023-01-08T12:49:58.694Z"
   },
   {
    "duration": 5,
    "start_time": "2023-01-08T12:49:59.787Z"
   },
   {
    "duration": 23,
    "start_time": "2023-01-08T12:50:04.896Z"
   },
   {
    "duration": 8,
    "start_time": "2023-01-08T12:50:08.681Z"
   },
   {
    "duration": 5,
    "start_time": "2023-01-08T12:50:09.976Z"
   },
   {
    "duration": 6,
    "start_time": "2023-01-08T12:50:11.043Z"
   },
   {
    "duration": 5,
    "start_time": "2023-01-08T12:50:11.648Z"
   },
   {
    "duration": 11,
    "start_time": "2023-01-08T12:50:12.225Z"
   },
   {
    "duration": 3,
    "start_time": "2023-01-08T12:50:15.338Z"
   },
   {
    "duration": 3,
    "start_time": "2023-01-08T12:50:17.574Z"
   },
   {
    "duration": 3,
    "start_time": "2023-01-08T12:50:19.661Z"
   },
   {
    "duration": 3,
    "start_time": "2023-01-08T12:50:20.315Z"
   },
   {
    "duration": 5,
    "start_time": "2023-01-08T12:50:20.965Z"
   },
   {
    "duration": 3,
    "start_time": "2023-01-08T12:50:21.526Z"
   },
   {
    "duration": 8,
    "start_time": "2023-01-08T12:50:24.200Z"
   },
   {
    "duration": 11,
    "start_time": "2023-01-08T12:50:25.177Z"
   },
   {
    "duration": 14,
    "start_time": "2023-01-08T12:50:26.246Z"
   },
   {
    "duration": 6,
    "start_time": "2023-01-08T12:50:32.255Z"
   },
   {
    "duration": 5,
    "start_time": "2023-01-08T12:54:15.460Z"
   },
   {
    "duration": 10,
    "start_time": "2023-01-08T12:54:16.196Z"
   },
   {
    "duration": 6,
    "start_time": "2023-01-08T12:55:49.649Z"
   },
   {
    "duration": 13,
    "start_time": "2023-01-08T12:55:50.526Z"
   },
   {
    "duration": 14,
    "start_time": "2023-01-08T12:57:39.912Z"
   },
   {
    "duration": 720,
    "start_time": "2023-01-08T12:57:52.407Z"
   },
   {
    "duration": 25,
    "start_time": "2023-01-08T12:58:17.594Z"
   },
   {
    "duration": 2187,
    "start_time": "2023-01-08T12:59:07.606Z"
   },
   {
    "duration": 1220,
    "start_time": "2023-01-08T12:59:09.795Z"
   },
   {
    "duration": 41,
    "start_time": "2023-01-08T12:59:11.017Z"
   },
   {
    "duration": 16,
    "start_time": "2023-01-08T12:59:11.059Z"
   },
   {
    "duration": 12,
    "start_time": "2023-01-08T12:59:11.077Z"
   },
   {
    "duration": 49,
    "start_time": "2023-01-08T12:59:11.090Z"
   },
   {
    "duration": 1577,
    "start_time": "2023-01-08T12:59:11.141Z"
   },
   {
    "duration": 6,
    "start_time": "2023-01-08T12:59:12.720Z"
   },
   {
    "duration": 6,
    "start_time": "2023-01-08T12:59:12.728Z"
   },
   {
    "duration": 5,
    "start_time": "2023-01-08T12:59:12.735Z"
   },
   {
    "duration": 14,
    "start_time": "2023-01-08T12:59:12.742Z"
   },
   {
    "duration": 4,
    "start_time": "2023-01-08T12:59:12.758Z"
   },
   {
    "duration": 107,
    "start_time": "2023-01-08T12:59:12.763Z"
   },
   {
    "duration": 5,
    "start_time": "2023-01-08T12:59:12.873Z"
   },
   {
    "duration": 25,
    "start_time": "2023-01-08T12:59:12.879Z"
   },
   {
    "duration": 9,
    "start_time": "2023-01-08T12:59:12.905Z"
   },
   {
    "duration": 5,
    "start_time": "2023-01-08T12:59:12.916Z"
   },
   {
    "duration": 6,
    "start_time": "2023-01-08T12:59:12.922Z"
   },
   {
    "duration": 5,
    "start_time": "2023-01-08T12:59:12.929Z"
   },
   {
    "duration": 12,
    "start_time": "2023-01-08T12:59:12.936Z"
   },
   {
    "duration": 3,
    "start_time": "2023-01-08T12:59:12.949Z"
   },
   {
    "duration": 4,
    "start_time": "2023-01-08T12:59:12.953Z"
   },
   {
    "duration": 5,
    "start_time": "2023-01-08T12:59:12.959Z"
   },
   {
    "duration": 5,
    "start_time": "2023-01-08T12:59:12.965Z"
   },
   {
    "duration": 30,
    "start_time": "2023-01-08T12:59:12.971Z"
   },
   {
    "duration": 16,
    "start_time": "2023-01-08T12:59:13.002Z"
   },
   {
    "duration": 6,
    "start_time": "2023-01-08T12:59:13.020Z"
   },
   {
    "duration": 9,
    "start_time": "2023-01-08T12:59:13.027Z"
   },
   {
    "duration": 8,
    "start_time": "2023-01-08T12:59:13.037Z"
   },
   {
    "duration": 7,
    "start_time": "2023-01-08T12:59:13.046Z"
   },
   {
    "duration": 15,
    "start_time": "2023-01-08T12:59:13.054Z"
   },
   {
    "duration": 14,
    "start_time": "2023-01-08T12:59:13.071Z"
   },
   {
    "duration": 27,
    "start_time": "2023-01-08T12:59:13.086Z"
   },
   {
    "duration": 19,
    "start_time": "2023-01-08T12:59:13.115Z"
   },
   {
    "duration": 12,
    "start_time": "2023-01-08T12:59:13.136Z"
   },
   {
    "duration": 15,
    "start_time": "2023-01-08T12:59:13.149Z"
   },
   {
    "duration": 738,
    "start_time": "2023-01-08T12:59:13.165Z"
   },
   {
    "duration": 1,
    "start_time": "2023-01-08T12:59:13.905Z"
   },
   {
    "duration": 0,
    "start_time": "2023-01-08T12:59:13.906Z"
   },
   {
    "duration": 0,
    "start_time": "2023-01-08T12:59:13.907Z"
   },
   {
    "duration": 0,
    "start_time": "2023-01-08T12:59:13.908Z"
   },
   {
    "duration": 0,
    "start_time": "2023-01-08T12:59:13.909Z"
   },
   {
    "duration": 0,
    "start_time": "2023-01-08T12:59:13.910Z"
   },
   {
    "duration": 0,
    "start_time": "2023-01-08T12:59:13.911Z"
   },
   {
    "duration": 0,
    "start_time": "2023-01-08T12:59:13.912Z"
   },
   {
    "duration": 0,
    "start_time": "2023-01-08T12:59:13.913Z"
   },
   {
    "duration": 0,
    "start_time": "2023-01-08T12:59:13.914Z"
   },
   {
    "duration": 0,
    "start_time": "2023-01-08T12:59:13.915Z"
   },
   {
    "duration": 0,
    "start_time": "2023-01-08T12:59:13.916Z"
   },
   {
    "duration": 0,
    "start_time": "2023-01-08T12:59:13.917Z"
   },
   {
    "duration": 0,
    "start_time": "2023-01-08T12:59:13.918Z"
   },
   {
    "duration": 0,
    "start_time": "2023-01-08T12:59:13.919Z"
   },
   {
    "duration": 0,
    "start_time": "2023-01-08T12:59:13.920Z"
   },
   {
    "duration": 0,
    "start_time": "2023-01-08T12:59:13.921Z"
   },
   {
    "duration": 0,
    "start_time": "2023-01-08T12:59:13.922Z"
   },
   {
    "duration": 0,
    "start_time": "2023-01-08T12:59:13.924Z"
   },
   {
    "duration": 0,
    "start_time": "2023-01-08T12:59:13.925Z"
   },
   {
    "duration": 12,
    "start_time": "2023-01-08T12:59:41.244Z"
   },
   {
    "duration": 9,
    "start_time": "2023-01-08T13:02:59.851Z"
   },
   {
    "duration": 23,
    "start_time": "2023-01-08T13:03:14.057Z"
   },
   {
    "duration": 13,
    "start_time": "2023-01-08T13:04:26.667Z"
   },
   {
    "duration": 18,
    "start_time": "2023-01-08T13:04:44.586Z"
   },
   {
    "duration": 5,
    "start_time": "2023-01-08T13:04:58.633Z"
   },
   {
    "duration": 10,
    "start_time": "2023-01-08T13:04:59.616Z"
   },
   {
    "duration": 12,
    "start_time": "2023-01-08T13:05:00.496Z"
   },
   {
    "duration": 6,
    "start_time": "2023-01-08T13:05:01.562Z"
   },
   {
    "duration": 25,
    "start_time": "2023-01-08T13:05:03.015Z"
   },
   {
    "duration": 15,
    "start_time": "2023-01-08T13:05:11.837Z"
   },
   {
    "duration": 14,
    "start_time": "2023-01-08T13:05:13.712Z"
   },
   {
    "duration": 25,
    "start_time": "2023-01-08T13:05:16.163Z"
   },
   {
    "duration": 24,
    "start_time": "2023-01-08T13:06:27.821Z"
   },
   {
    "duration": 4,
    "start_time": "2023-01-08T13:07:06.315Z"
   },
   {
    "duration": 61,
    "start_time": "2023-01-08T13:17:16.622Z"
   },
   {
    "duration": 231,
    "start_time": "2023-01-08T13:23:49.183Z"
   },
   {
    "duration": 8,
    "start_time": "2023-01-08T13:28:35.941Z"
   },
   {
    "duration": 115,
    "start_time": "2023-01-08T13:28:41.737Z"
   },
   {
    "duration": 5,
    "start_time": "2023-01-08T13:29:23.012Z"
   },
   {
    "duration": 6,
    "start_time": "2023-01-08T13:29:49.111Z"
   },
   {
    "duration": 9,
    "start_time": "2023-01-08T13:31:05.785Z"
   },
   {
    "duration": 10,
    "start_time": "2023-01-08T13:31:07.910Z"
   },
   {
    "duration": 744,
    "start_time": "2023-01-08T13:31:25.475Z"
   },
   {
    "duration": 5,
    "start_time": "2023-01-08T13:31:26.579Z"
   },
   {
    "duration": 136,
    "start_time": "2023-01-08T13:31:28.697Z"
   },
   {
    "duration": 6,
    "start_time": "2023-01-08T13:31:40.356Z"
   },
   {
    "duration": 11,
    "start_time": "2023-01-08T13:35:04.567Z"
   },
   {
    "duration": 10,
    "start_time": "2023-01-08T13:35:05.267Z"
   },
   {
    "duration": 18266,
    "start_time": "2023-01-08T13:35:12.050Z"
   },
   {
    "duration": 21,
    "start_time": "2023-01-08T13:35:30.318Z"
   },
   {
    "duration": 128,
    "start_time": "2023-01-08T13:35:30.341Z"
   },
   {
    "duration": 5,
    "start_time": "2023-01-08T13:35:30.471Z"
   },
   {
    "duration": 131,
    "start_time": "2023-01-08T13:36:18.127Z"
   },
   {
    "duration": 91,
    "start_time": "2023-01-08T13:36:33.010Z"
   },
   {
    "duration": 12,
    "start_time": "2023-01-08T13:38:37.456Z"
   },
   {
    "duration": 5,
    "start_time": "2023-01-08T13:38:46.742Z"
   },
   {
    "duration": 127,
    "start_time": "2023-01-08T13:38:47.626Z"
   },
   {
    "duration": 6,
    "start_time": "2023-01-08T13:38:48.931Z"
   },
   {
    "duration": 724,
    "start_time": "2023-01-08T13:39:05.643Z"
   },
   {
    "duration": 724,
    "start_time": "2023-01-08T13:40:07.659Z"
   },
   {
    "duration": 6,
    "start_time": "2023-01-08T13:40:08.507Z"
   },
   {
    "duration": 127,
    "start_time": "2023-01-08T13:40:10.007Z"
   },
   {
    "duration": 6,
    "start_time": "2023-01-08T13:40:11.571Z"
   },
   {
    "duration": 45111,
    "start_time": "2023-01-08T13:40:19.008Z"
   },
   {
    "duration": 51,
    "start_time": "2023-01-08T13:41:21.806Z"
   },
   {
    "duration": 128,
    "start_time": "2023-01-08T13:41:23.335Z"
   },
   {
    "duration": 6,
    "start_time": "2023-01-08T13:41:24.517Z"
   },
   {
    "duration": 4,
    "start_time": "2023-01-08T13:41:39.739Z"
   },
   {
    "duration": 19,
    "start_time": "2023-01-08T13:42:44.190Z"
   },
   {
    "duration": 5,
    "start_time": "2023-01-08T13:43:18.661Z"
   },
   {
    "duration": 33,
    "start_time": "2023-01-08T13:45:27.921Z"
   },
   {
    "duration": 13,
    "start_time": "2023-01-08T13:46:20.775Z"
   },
   {
    "duration": 140,
    "start_time": "2023-01-08T13:46:21.914Z"
   },
   {
    "duration": 7,
    "start_time": "2023-01-08T13:46:22.992Z"
   },
   {
    "duration": 900,
    "start_time": "2023-01-08T13:46:31.661Z"
   },
   {
    "duration": 1609,
    "start_time": "2023-01-08T13:47:03.021Z"
   },
   {
    "duration": 4,
    "start_time": "2023-01-08T13:48:13.511Z"
   },
   {
    "duration": 153,
    "start_time": "2023-01-08T13:48:14.550Z"
   },
   {
    "duration": 6,
    "start_time": "2023-01-08T13:48:16.177Z"
   },
   {
    "duration": 14,
    "start_time": "2023-01-08T13:48:54.597Z"
   },
   {
    "duration": 112,
    "start_time": "2023-01-08T13:49:02.462Z"
   },
   {
    "duration": 6,
    "start_time": "2023-01-08T13:49:10.898Z"
   },
   {
    "duration": 5,
    "start_time": "2023-01-08T13:49:38.140Z"
   },
   {
    "duration": 121,
    "start_time": "2023-01-08T13:49:39.113Z"
   },
   {
    "duration": 6,
    "start_time": "2023-01-08T13:49:40.014Z"
   },
   {
    "duration": 23,
    "start_time": "2023-01-08T13:50:08.119Z"
   },
   {
    "duration": 197,
    "start_time": "2023-01-08T13:50:09.135Z"
   },
   {
    "duration": 6,
    "start_time": "2023-01-08T13:50:09.805Z"
   },
   {
    "duration": 14,
    "start_time": "2023-01-08T13:50:38.897Z"
   },
   {
    "duration": 135,
    "start_time": "2023-01-08T13:50:39.523Z"
   },
   {
    "duration": 6,
    "start_time": "2023-01-08T13:50:40.457Z"
   },
   {
    "duration": 4,
    "start_time": "2023-01-08T13:51:09.178Z"
   },
   {
    "duration": 141,
    "start_time": "2023-01-08T13:51:09.827Z"
   },
   {
    "duration": 5,
    "start_time": "2023-01-08T13:51:10.845Z"
   },
   {
    "duration": 47,
    "start_time": "2023-01-08T13:51:42.146Z"
   },
   {
    "duration": 116,
    "start_time": "2023-01-08T13:51:42.823Z"
   },
   {
    "duration": 6,
    "start_time": "2023-01-08T13:51:43.844Z"
   },
   {
    "duration": 9,
    "start_time": "2023-01-08T13:52:21.378Z"
   },
   {
    "duration": 10,
    "start_time": "2023-01-08T13:52:44.077Z"
   },
   {
    "duration": 8,
    "start_time": "2023-01-08T13:52:58.472Z"
   },
   {
    "duration": 115,
    "start_time": "2023-01-08T13:54:10.520Z"
   },
   {
    "duration": 6,
    "start_time": "2023-01-08T13:55:04.505Z"
   },
   {
    "duration": 4,
    "start_time": "2023-01-08T13:55:30.363Z"
   },
   {
    "duration": 4,
    "start_time": "2023-01-08T13:55:46.486Z"
   },
   {
    "duration": 10,
    "start_time": "2023-01-08T13:57:19.583Z"
   },
   {
    "duration": 144,
    "start_time": "2023-01-08T13:57:20.282Z"
   },
   {
    "duration": 6,
    "start_time": "2023-01-08T13:57:21.272Z"
   },
   {
    "duration": 6,
    "start_time": "2023-01-08T13:58:13.971Z"
   },
   {
    "duration": 168,
    "start_time": "2023-01-08T13:58:14.679Z"
   },
   {
    "duration": 6,
    "start_time": "2023-01-08T13:58:15.340Z"
   },
   {
    "duration": 63296,
    "start_time": "2023-01-08T13:58:27.340Z"
   },
   {
    "duration": 37,
    "start_time": "2023-01-08T13:59:37.290Z"
   },
   {
    "duration": 132,
    "start_time": "2023-01-08T13:59:38.258Z"
   },
   {
    "duration": 5,
    "start_time": "2023-01-08T13:59:39.242Z"
   },
   {
    "duration": 13,
    "start_time": "2023-01-08T14:05:22.074Z"
   },
   {
    "duration": 12,
    "start_time": "2023-01-08T14:05:23.260Z"
   },
   {
    "duration": 10,
    "start_time": "2023-01-08T14:05:29.171Z"
   },
   {
    "duration": 66,
    "start_time": "2023-01-08T14:05:30.044Z"
   },
   {
    "duration": 9,
    "start_time": "2023-01-08T14:05:31.393Z"
   },
   {
    "duration": 119,
    "start_time": "2023-01-08T14:05:32.631Z"
   },
   {
    "duration": 6,
    "start_time": "2023-01-08T14:05:33.569Z"
   },
   {
    "duration": 350,
    "start_time": "2023-01-08T14:05:41.434Z"
   },
   {
    "duration": 5,
    "start_time": "2023-01-08T14:06:53.082Z"
   },
   {
    "duration": 122,
    "start_time": "2023-01-08T14:06:53.765Z"
   },
   {
    "duration": 7,
    "start_time": "2023-01-08T14:06:54.401Z"
   },
   {
    "duration": 25724,
    "start_time": "2023-01-08T14:07:00.930Z"
   },
   {
    "duration": 40,
    "start_time": "2023-01-08T14:08:13.610Z"
   },
   {
    "duration": 113,
    "start_time": "2023-01-08T14:08:14.430Z"
   },
   {
    "duration": 5,
    "start_time": "2023-01-08T14:08:15.417Z"
   },
   {
    "duration": 585,
    "start_time": "2023-01-08T14:08:42.784Z"
   },
   {
    "duration": 39,
    "start_time": "2023-01-08T14:08:50.278Z"
   },
   {
    "duration": 117,
    "start_time": "2023-01-08T14:08:51.207Z"
   },
   {
    "duration": 6,
    "start_time": "2023-01-08T14:08:52.463Z"
   },
   {
    "duration": 9,
    "start_time": "2023-01-08T14:08:54.738Z"
   },
   {
    "duration": 2117,
    "start_time": "2023-01-08T14:11:43.083Z"
   },
   {
    "duration": 8,
    "start_time": "2023-01-08T14:11:45.396Z"
   },
   {
    "duration": 41,
    "start_time": "2023-01-08T14:11:48.416Z"
   },
   {
    "duration": 14,
    "start_time": "2023-01-08T14:11:49.111Z"
   },
   {
    "duration": 15,
    "start_time": "2023-01-08T14:11:49.789Z"
   },
   {
    "duration": 38,
    "start_time": "2023-01-08T14:11:50.494Z"
   },
   {
    "duration": 1484,
    "start_time": "2023-01-08T14:11:52.858Z"
   },
   {
    "duration": 50,
    "start_time": "2023-01-08T14:12:12.669Z"
   },
   {
    "duration": 1598,
    "start_time": "2023-01-08T14:12:34.145Z"
   },
   {
    "duration": 4,
    "start_time": "2023-01-08T14:12:35.745Z"
   },
   {
    "duration": 5,
    "start_time": "2023-01-08T14:12:36.234Z"
   },
   {
    "duration": 3,
    "start_time": "2023-01-08T14:12:36.862Z"
   },
   {
    "duration": 12,
    "start_time": "2023-01-08T14:12:37.511Z"
   },
   {
    "duration": 6,
    "start_time": "2023-01-08T14:12:38.242Z"
   },
   {
    "duration": 21,
    "start_time": "2023-01-08T14:12:38.871Z"
   },
   {
    "duration": 9,
    "start_time": "2023-01-08T14:12:40.297Z"
   },
   {
    "duration": 14,
    "start_time": "2023-01-08T14:12:46.042Z"
   },
   {
    "duration": 7,
    "start_time": "2023-01-08T14:12:48.372Z"
   },
   {
    "duration": 5,
    "start_time": "2023-01-08T14:12:49.760Z"
   },
   {
    "duration": 4,
    "start_time": "2023-01-08T14:12:51.141Z"
   },
   {
    "duration": 5,
    "start_time": "2023-01-08T14:12:52.082Z"
   },
   {
    "duration": 15,
    "start_time": "2023-01-08T14:12:53.060Z"
   },
   {
    "duration": 2,
    "start_time": "2023-01-08T14:12:56.486Z"
   },
   {
    "duration": 2,
    "start_time": "2023-01-08T14:13:06.826Z"
   },
   {
    "duration": 3,
    "start_time": "2023-01-08T14:13:07.377Z"
   },
   {
    "duration": 2,
    "start_time": "2023-01-08T14:13:07.935Z"
   },
   {
    "duration": 3,
    "start_time": "2023-01-08T14:13:08.528Z"
   },
   {
    "duration": 2,
    "start_time": "2023-01-08T14:13:12.765Z"
   },
   {
    "duration": 2,
    "start_time": "2023-01-08T14:13:15.677Z"
   },
   {
    "duration": 3,
    "start_time": "2023-01-08T14:13:16.464Z"
   },
   {
    "duration": 5,
    "start_time": "2023-01-08T14:13:20.512Z"
   },
   {
    "duration": 7,
    "start_time": "2023-01-08T14:13:21.123Z"
   },
   {
    "duration": 6,
    "start_time": "2023-01-08T14:13:21.833Z"
   },
   {
    "duration": 7,
    "start_time": "2023-01-08T14:13:22.480Z"
   },
   {
    "duration": 15,
    "start_time": "2023-01-08T14:13:23.138Z"
   },
   {
    "duration": 17,
    "start_time": "2023-01-08T14:13:23.802Z"
   },
   {
    "duration": 14,
    "start_time": "2023-01-08T14:13:24.462Z"
   },
   {
    "duration": 24,
    "start_time": "2023-01-08T14:13:25.139Z"
   },
   {
    "duration": 29,
    "start_time": "2023-01-08T14:13:25.872Z"
   },
   {
    "duration": 4,
    "start_time": "2023-01-08T14:13:26.555Z"
   },
   {
    "duration": 322,
    "start_time": "2023-01-08T14:17:19.895Z"
   },
   {
    "duration": 6,
    "start_time": "2023-01-08T14:17:20.947Z"
   },
   {
    "duration": 117,
    "start_time": "2023-01-08T14:17:21.577Z"
   },
   {
    "duration": 6,
    "start_time": "2023-01-08T14:17:22.285Z"
   },
   {
    "duration": 701,
    "start_time": "2023-01-08T14:17:27.495Z"
   },
   {
    "duration": 4,
    "start_time": "2023-01-08T14:17:28.240Z"
   },
   {
    "duration": 124,
    "start_time": "2023-01-08T14:17:29.044Z"
   },
   {
    "duration": 5,
    "start_time": "2023-01-08T14:17:29.718Z"
   },
   {
    "duration": 17715,
    "start_time": "2023-01-08T14:17:31.224Z"
   },
   {
    "duration": 28,
    "start_time": "2023-01-08T14:17:48.941Z"
   },
   {
    "duration": 150,
    "start_time": "2023-01-08T14:17:48.971Z"
   },
   {
    "duration": 8,
    "start_time": "2023-01-08T14:17:49.123Z"
   },
   {
    "duration": 150,
    "start_time": "2023-01-08T14:17:49.133Z"
   },
   {
    "duration": 132,
    "start_time": "2023-01-08T14:17:49.284Z"
   },
   {
    "duration": 99,
    "start_time": "2023-01-08T14:17:49.418Z"
   },
   {
    "duration": 287,
    "start_time": "2023-01-08T14:17:49.520Z"
   },
   {
    "duration": 5,
    "start_time": "2023-01-08T14:17:49.815Z"
   },
   {
    "duration": 734,
    "start_time": "2023-01-08T14:17:49.822Z"
   },
   {
    "duration": 3,
    "start_time": "2023-01-08T14:17:50.558Z"
   },
   {
    "duration": 127,
    "start_time": "2023-01-08T14:17:50.563Z"
   },
   {
    "duration": 15,
    "start_time": "2023-01-08T14:17:50.691Z"
   },
   {
    "duration": 44729,
    "start_time": "2023-01-08T14:17:50.708Z"
   },
   {
    "duration": 44,
    "start_time": "2023-01-08T14:18:35.439Z"
   },
   {
    "duration": 154,
    "start_time": "2023-01-08T14:18:35.485Z"
   },
   {
    "duration": 7,
    "start_time": "2023-01-08T14:18:35.641Z"
   },
   {
    "duration": 10,
    "start_time": "2023-01-08T14:18:35.650Z"
   },
   {
    "duration": 9,
    "start_time": "2023-01-08T14:18:35.662Z"
   },
   {
    "duration": 162,
    "start_time": "2023-01-08T14:18:35.673Z"
   },
   {
    "duration": 80,
    "start_time": "2023-01-08T14:19:26.318Z"
   },
   {
    "duration": 10,
    "start_time": "2023-01-08T14:19:27.114Z"
   },
   {
    "duration": 130,
    "start_time": "2023-01-08T14:19:27.886Z"
   },
   {
    "duration": 6,
    "start_time": "2023-01-08T14:19:28.766Z"
   },
   {
    "duration": 1628,
    "start_time": "2023-01-08T14:19:29.429Z"
   },
   {
    "duration": 2646,
    "start_time": "2023-01-08T14:19:47.524Z"
   },
   {
    "duration": 3327,
    "start_time": "2023-01-08T14:19:58.043Z"
   },
   {
    "duration": 5,
    "start_time": "2023-01-08T14:20:13.240Z"
   },
   {
    "duration": 237,
    "start_time": "2023-01-08T14:20:13.810Z"
   },
   {
    "duration": 6,
    "start_time": "2023-01-08T14:20:14.850Z"
   },
   {
    "duration": 64259,
    "start_time": "2023-01-08T14:20:15.914Z"
   },
   {
    "duration": 47,
    "start_time": "2023-01-08T14:21:20.176Z"
   },
   {
    "duration": 115,
    "start_time": "2023-01-08T14:21:20.224Z"
   },
   {
    "duration": 5,
    "start_time": "2023-01-08T14:21:20.341Z"
   },
   {
    "duration": 23,
    "start_time": "2023-01-08T14:21:20.347Z"
   },
   {
    "duration": 40,
    "start_time": "2023-01-08T14:21:20.371Z"
   },
   {
    "duration": 89,
    "start_time": "2023-01-08T14:21:20.413Z"
   },
   {
    "duration": 339,
    "start_time": "2023-01-08T14:21:20.504Z"
   },
   {
    "duration": 6,
    "start_time": "2023-01-08T14:21:20.845Z"
   },
   {
    "duration": 378,
    "start_time": "2023-01-08T14:21:20.854Z"
   },
   {
    "duration": 4,
    "start_time": "2023-01-08T14:21:21.233Z"
   },
   {
    "duration": 126,
    "start_time": "2023-01-08T14:21:21.238Z"
   },
   {
    "duration": 5,
    "start_time": "2023-01-08T14:21:21.366Z"
   },
   {
    "duration": 26769,
    "start_time": "2023-01-08T14:21:21.372Z"
   },
   {
    "duration": 40,
    "start_time": "2023-01-08T14:21:48.142Z"
   },
   {
    "duration": 139,
    "start_time": "2023-01-08T14:21:48.184Z"
   },
   {
    "duration": 5,
    "start_time": "2023-01-08T14:21:48.325Z"
   },
   {
    "duration": 501,
    "start_time": "2023-01-08T14:21:48.331Z"
   },
   {
    "duration": 34,
    "start_time": "2023-01-08T14:21:48.834Z"
   },
   {
    "duration": 124,
    "start_time": "2023-01-08T14:21:48.869Z"
   },
   {
    "duration": 15,
    "start_time": "2023-01-08T14:21:48.997Z"
   },
   {
    "duration": 8,
    "start_time": "2023-01-08T14:21:49.014Z"
   },
   {
    "duration": 711,
    "start_time": "2023-01-08T14:25:50.338Z"
   },
   {
    "duration": 51,
    "start_time": "2023-01-08T14:26:44.129Z"
   },
   {
    "duration": 711,
    "start_time": "2023-01-08T14:26:51.590Z"
   },
   {
    "duration": 1341,
    "start_time": "2023-01-08T14:27:28.904Z"
   },
   {
    "duration": 1212,
    "start_time": "2023-01-08T14:28:36.997Z"
   },
   {
    "duration": 11,
    "start_time": "2023-01-08T14:30:43.204Z"
   },
   {
    "duration": 43651,
    "start_time": "2023-01-08T14:30:48.485Z"
   },
   {
    "duration": 9,
    "start_time": "2023-01-08T14:31:32.138Z"
   },
   {
    "duration": 43536,
    "start_time": "2023-01-08T14:33:11.098Z"
   },
   {
    "duration": 43085,
    "start_time": "2023-01-08T14:34:06.178Z"
   },
   {
    "duration": 12,
    "start_time": "2023-01-08T14:35:01.071Z"
   },
   {
    "duration": 17,
    "start_time": "2023-01-08T14:36:28.816Z"
   },
   {
    "duration": 5,
    "start_time": "2023-01-08T14:36:46.710Z"
   },
   {
    "duration": 9,
    "start_time": "2023-01-08T14:36:48.492Z"
   },
   {
    "duration": 3,
    "start_time": "2023-01-08T14:37:18.657Z"
   },
   {
    "duration": 12,
    "start_time": "2023-01-08T14:37:19.133Z"
   },
   {
    "duration": 3,
    "start_time": "2023-01-08T14:38:38.725Z"
   },
   {
    "duration": 30,
    "start_time": "2023-01-08T14:38:40.101Z"
   },
   {
    "duration": 1553,
    "start_time": "2023-01-08T14:42:10.256Z"
   },
   {
    "duration": 47,
    "start_time": "2023-01-08T14:46:39.091Z"
   },
   {
    "duration": 1560,
    "start_time": "2023-01-08T14:49:26.413Z"
   },
   {
    "duration": 1572,
    "start_time": "2023-01-08T14:52:43.190Z"
   },
   {
    "duration": 1552,
    "start_time": "2023-01-08T14:53:55.763Z"
   },
   {
    "duration": 1488,
    "start_time": "2023-01-08T14:54:17.722Z"
   },
   {
    "duration": 1510,
    "start_time": "2023-01-08T14:54:34.781Z"
   },
   {
    "duration": 1500,
    "start_time": "2023-01-08T14:54:41.997Z"
   },
   {
    "duration": 1200,
    "start_time": "2023-01-08T14:55:17.491Z"
   },
   {
    "duration": 675,
    "start_time": "2023-01-08T14:56:11.280Z"
   },
   {
    "duration": 313,
    "start_time": "2023-01-08T14:58:57.307Z"
   },
   {
    "duration": 1361,
    "start_time": "2023-01-08T15:01:40.803Z"
   },
   {
    "duration": 1395,
    "start_time": "2023-01-08T15:01:55.019Z"
   },
   {
    "duration": 1328,
    "start_time": "2023-01-08T15:02:16.828Z"
   }
  ],
  "kernelspec": {
   "display_name": "Python 3 (ipykernel)",
   "language": "python",
   "name": "python3"
  },
  "language_info": {
   "codemirror_mode": {
    "name": "ipython",
    "version": 3
   },
   "file_extension": ".py",
   "mimetype": "text/x-python",
   "name": "python",
   "nbconvert_exporter": "python",
   "pygments_lexer": "ipython3",
   "version": "3.9.12"
  },
  "toc": {
   "base_numbering": 1,
   "nav_menu": {},
   "number_sections": true,
   "sideBar": true,
   "skip_h1_title": true,
   "title_cell": "Содержание",
   "title_sidebar": "Contents",
   "toc_cell": true,
   "toc_position": {},
   "toc_section_display": true,
   "toc_window_display": false
  }
 },
 "nbformat": 4,
 "nbformat_minor": 2
}
